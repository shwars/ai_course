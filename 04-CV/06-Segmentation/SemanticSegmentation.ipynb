{
  "cells": [
    {
      "cell_type": "markdown",
      "metadata": {
        "id": "3AbTeDP5Tbou"
      },
      "source": [
        "# Семантическая сегментация\n",
        "\n",
        "**Семантическая сегментация (Semantic Segmentation)** - это по сути задача **пиксельной классификации**, когда для каждого пикселя изображения необходимо указать его класс (включая фон). Семантическая сегментация сообщает только пиксельный класс, более продвинутые алгоритма, находящие экземпляры объектов, называются **Instance Segmentation**. \n",
        "\n",
        "Почти все архитектуры сегментации имеют одинаковую структуру. Первая часть - это **кодировщик**, который извлекает признаки из входного изображения, вторая часть - **декодер**, который преобразует эти признаки обратно в изображение с той же высотой и шириной и некоторым количеством каналов, которое равно количеству классов. Для каждого пикселя исходного изображения мы получаем на выходе вероятность его принадлежности к тому или иному классу."
      ]
    },
    {
      "cell_type": "code",
      "execution_count": null,
      "metadata": {
        "id": "Ug57Bnb5QhfP"
      },
      "outputs": [],
      "source": [
        "import tensorflow as tf\n",
        "import tensorflow.keras.layers as keras\n",
        "import matplotlib.pyplot as plt\n",
        "from tqdm import tqdm\n",
        "import numpy as np\n",
        "from skimage.io import imread\n",
        "from skimage.transform import resize\n",
        "import os\n",
        "import tensorflow.keras.optimizers as optimizers\n",
        "import tensorflow.keras.losses as losses\n",
        "from tensorflow.keras.preprocessing.image import ImageDataGenerator\n",
        "tf.random.set_seed(42)\n",
        "np.random.seed(42)"
      ]
    },
    {
      "cell_type": "code",
      "execution_count": null,
      "metadata": {
        "id": "xhSEogpDFMpK"
      },
      "outputs": [],
      "source": [
        "train_size = 0.8\n",
        "lr = 3e-4\n",
        "weight_decay = 8e-9\n",
        "batch_size = 64\n",
        "epochs = 100"
      ]
    },
    {
      "cell_type": "markdown",
      "metadata": {
        "id": "D4if75qwFMpJ"
      },
      "source": [
        "## Датасет\n",
        "\n",
        "Используем [датасет фотографий родинок](https://www.kaggle.com/datasets/kanametov/ph2dataset) на теле человека c Kaggle.\n",
        "\n",
        "![](https://raw.githubusercontent.com/microsoft/AI-For-Beginners/main/lessons/4-ComputerVision/12-Segmentation/images/navi.png)\n",
        "\n",
        " Мы загрузим слегка модифицированную его версию:"
      ]
    },
    {
      "cell_type": "code",
      "execution_count": null,
      "metadata": {
        "id": "TkuYGLRKFMpK"
      },
      "outputs": [],
      "source": [
        "!wget http://www.soshnikov.com/permanent/data/PH2Dataset.rar\n",
        "!unrar x -Y PH2Dataset.rar"
      ]
    },
    {
      "cell_type": "code",
      "execution_count": 18,
      "metadata": {
        "id": "Rumy9ldAFteW"
      },
      "outputs": [],
      "source": [
        "def load_dataset(train_part, root='PH2Dataset'):\n",
        "    images = []\n",
        "    masks = []\n",
        "\n",
        "    for root, dirs, files in os.walk(os.path.join(root, 'PH2 Dataset images')):\n",
        "        if root.endswith('_Dermoscopic_Image'):\n",
        "            images.append(imread(os.path.join(root, files[0])))\n",
        "        if root.endswith('_lesion'):\n",
        "            masks.append(imread(os.path.join(root, files[0])))\n",
        "\n",
        "    size = (256, 256)\n",
        "    images = np.array([resize(image, size, mode='constant', anti_aliasing=True,) for image in images])\n",
        "    masks = np.expand_dims(np.array([resize(mask, size, mode='constant', anti_aliasing=False) > 0.5 for mask in masks]), axis=3)\n",
        "\n",
        "    indices = np.random.permutation(range(len(images)))\n",
        "    train_part = int(train_part * len(images))\n",
        "    train_ind = indices[:train_part]\n",
        "    test_ind = indices[train_part:]\n",
        "\n",
        "    X_train = tf.cast(images[train_ind, :, :, :], tf.float32)\n",
        "    y_train = tf.cast(masks[train_ind, :, :, :], tf.float32)\n",
        "\n",
        "    X_test = tf.cast(images[test_ind, :, :, :], tf.float32)\n",
        "    y_test = tf.cast(masks[test_ind, :, :, :], tf.float32)\n",
        "\n",
        "    return (X_train, y_train), (X_test, y_test)"
      ]
    },
    {
      "cell_type": "code",
      "execution_count": 19,
      "metadata": {
        "id": "kCjj0YKcGBKr"
      },
      "outputs": [],
      "source": [
        "(X_train, y_train), (X_test, y_test) = load_dataset(train_size)"
      ]
    },
    {
      "cell_type": "code",
      "execution_count": 20,
      "metadata": {
        "colab": {
          "base_uri": "https://localhost:8080/"
        },
        "id": "IFEAaR3VILus",
        "outputId": "4febecdc-de23-4b6a-b7bd-ed44083187ad"
      },
      "outputs": [
        {
          "data": {
            "text/plain": [
              "(TensorShape([160, 256, 256, 3]), TensorShape([160, 256, 256, 1]))"
            ]
          },
          "execution_count": 20,
          "metadata": {},
          "output_type": "execute_result"
        }
      ],
      "source": [
        "X_train.shape, y_train.shape"
      ]
    },
    {
      "cell_type": "code",
      "execution_count": 21,
      "metadata": {
        "id": "jP2_-AjIFMpO"
      },
      "outputs": [],
      "source": [
        "def plotn(n, data):\n",
        "    images, masks = data[0], data[1]\n",
        "    fig, ax = plt.subplots(1, n)\n",
        "    fig1, ax1 = plt.subplots(1, n)\n",
        "    for i, (img, mask) in enumerate(zip(images, masks)):\n",
        "        if i == n:\n",
        "            break\n",
        "        ax[i].imshow(img)\n",
        "        ax1[i].imshow(mask[:, :, 0])\n",
        "    plt.show()"
      ]
    },
    {
      "cell_type": "markdown",
      "metadata": {
        "id": "9tBja_1KFMpP"
      },
      "source": [
        "Посмотрим на изображения из датасета:"
      ]
    },
    {
      "cell_type": "code",
      "execution_count": 22,
      "metadata": {
        "colab": {
          "base_uri": "https://localhost:8080/",
          "height": 203
        },
        "id": "IA8ziDUJFMpQ",
        "outputId": "ec5f00ef-e013-4d0c-fbab-912141808966"
      },
      "outputs": [
        {
          "data": {
            "image/png": "[encoded data removed]",
            "text/plain": [
              "<Figure size 432x288 with 5 Axes>"
            ]
          },
          "metadata": {
            "needs_background": "light"
          },
          "output_type": "display_data"
        },
        {
          "data": {
            "image/png": "[encoded data removed]",
            "text/plain": [
              "<Figure size 432x288 with 5 Axes>"
            ]
          },
          "metadata": {
            "needs_background": "light"
          },
          "output_type": "display_data"
        }
      ],
      "source": [
        "plotn(5, (X_train, y_train))"
      ]
    },
    {
      "cell_type": "markdown",
      "metadata": {
        "id": "ORmas8XhYfS8"
      },
      "source": [
        "## SegNet\n",
        "\n",
        "SegNet - это самая простая архитектура энкодера-декодера, в которой CNN-энкодер сначала переводит изображение в вектор признаков, а затем по нему восстанавливает маску.\n",
        "\n",
        "<img src=\"./images/segnet.png\" width=\"80%\">\n",
        "\n",
        "* Badrinarayanan, V., Kendall, A., & Cipolla, R. (2015). [SegNet: A deep convolutional encoder-decoder architecture for image segmentation](https://arxiv.org/pdf/1511.00561.pdf)\n"
      ]
    },
    {
      "cell_type": "code",
      "execution_count": null,
      "metadata": {
        "id": "pmSOZXhfp6sL"
      },
      "outputs": [],
      "source": [
        "class SegNet(tf.keras.Model):\n",
        "    def __init__(self):\n",
        "        super().__init__()\n",
        "        self.enc_conv0 = keras.Conv2D(16, kernel_size=3, padding='same')\n",
        "        self.bn0 = keras.BatchNormalization()\n",
        "        self.pool0 = keras.MaxPool2D()\n",
        "\n",
        "        self.enc_conv1 = keras.Conv2D(32, kernel_size=3, padding='same')\n",
        "        self.bn1 = keras.BatchNormalization()\n",
        "        self.pool1 = keras.MaxPool2D()\n",
        "\n",
        "        self.enc_conv2 = keras.Conv2D(64, kernel_size=3, padding='same')\n",
        "        self.bn2 = keras.BatchNormalization()\n",
        "        self.pool2 = keras.MaxPool2D()\n",
        "\n",
        "        self.enc_conv3 = keras.Conv2D(128, kernel_size=3, padding='same')\n",
        "        self.bn3 = keras.BatchNormalization()\n",
        "        self.pool3 = keras.MaxPool2D()\n",
        "\n",
        "        self.bottleneck_conv = keras.Conv2D(256, kernel_size=(3, 3), padding='same')\n",
        "\n",
        "        self.upsample0 =  keras.UpSampling2D(interpolation='bilinear')\n",
        "        self.dec_conv0 = keras.Conv2D(128, kernel_size=3, padding='same')\n",
        "        self.dec_bn0 = keras.BatchNormalization()\n",
        "\n",
        "        self.upsample1 =  keras.UpSampling2D(interpolation='bilinear')\n",
        "        self.dec_conv1 = keras.Conv2D(64, kernel_size=3, padding='same')\n",
        "        self.dec_bn1 = keras.BatchNormalization()\n",
        "\n",
        "        self.upsample2 =  keras.UpSampling2D(interpolation='bilinear')\n",
        "        self.dec_conv2 = keras.Conv2D(32, kernel_size=3, padding='same')\n",
        "        self.dec_relu2 = keras.Activation('relu')\n",
        "        self.dec_bn2 = keras.BatchNormalization()\n",
        "\n",
        "        self.upsample3 =  keras.UpSampling2D(interpolation='bilinear')\n",
        "        self.dec_conv3 = keras.Conv2D(1, kernel_size=1)\n",
        "\n",
        "    def call(self, input):\n",
        "        e0 = self.pool0(tf.nn.relu(self.bn0(self.enc_conv0(input))))\n",
        "        e1 = self.pool1(tf.nn.relu(self.bn1(self.enc_conv1(e0))))\n",
        "        e2 = self.pool2(tf.nn.relu(self.bn2(self.enc_conv2(e1))))\n",
        "        e3 = self.pool3(tf.nn.relu(self.bn3(self.enc_conv3(e2))))\n",
        "\n",
        "        b = self.bottleneck_conv(e3)\n",
        "\n",
        "        d0 = tf.nn.relu(self.dec_bn0(self.upsample0(self.dec_conv0(b))))\n",
        "        d1 = tf.nn.relu(self.dec_bn1(self.upsample1(self.dec_conv1(d0))))\n",
        "        d2 = tf.nn.relu(self.dec_bn2(self.upsample2(self.dec_conv2(d1))))\n",
        "        d3 = self.dec_conv3(self.upsample3(d2))\n",
        "\n",
        "        return d3"
      ]
    },
    {
      "cell_type": "code",
      "execution_count": 25,
      "metadata": {
        "id": "2GoR8-huFMpn"
      },
      "outputs": [],
      "source": [
        "model = SegNet()\n",
        "optimizer = optimizers.Adam(learning_rate=lr, decay=weight_decay)\n",
        "loss_fn = losses.BinaryCrossentropy(from_logits=True)\n",
        "\n",
        "model.compile(loss=loss_fn, optimizer=optimizer)"
      ]
    },
    {
      "cell_type": "code",
      "execution_count": 28,
      "metadata": {
        "colab": {
          "base_uri": "https://localhost:8080/"
        },
        "id": "HQ_UFglyTbqM",
        "outputId": "50e1ca9c-3de0-4488-cb64-c51b9f6201cd"
      },
      "outputs": [
        {
          "name": "stdout",
          "output_type": "stream",
          "text": [
            "Epoch 1/30\n",
            "3/3 [==============================] - 1s 262ms/step - loss: 0.0577 - val_loss: 0.4028\n",
            "Epoch 2/30\n",
            "3/3 [==============================] - 1s 240ms/step - loss: 0.0578 - val_loss: 0.4238\n",
            "Epoch 3/30\n",
            "3/3 [==============================] - 1s 194ms/step - loss: 0.0554 - val_loss: 0.4070\n",
            "Epoch 4/30\n",
            "3/3 [==============================] - 1s 196ms/step - loss: 0.0553 - val_loss: 0.4162\n",
            "Epoch 5/30\n",
            "3/3 [==============================] - 1s 194ms/step - loss: 0.0555 - val_loss: 0.3997\n",
            "Epoch 6/30\n",
            "3/3 [==============================] - 1s 194ms/step - loss: 0.0542 - val_loss: 0.3847\n",
            "Epoch 7/30\n",
            "3/3 [==============================] - 1s 196ms/step - loss: 0.0560 - val_loss: 0.3629\n",
            "Epoch 8/30\n",
            "3/3 [==============================] - 1s 199ms/step - loss: 0.0520 - val_loss: 0.3761\n",
            "Epoch 9/30\n",
            "3/3 [==============================] - 1s 194ms/step - loss: 0.0543 - val_loss: 0.3601\n",
            "Epoch 10/30\n",
            "3/3 [==============================] - 1s 197ms/step - loss: 0.0546 - val_loss: 0.3460\n",
            "Epoch 11/30\n",
            "3/3 [==============================] - 1s 192ms/step - loss: 0.0540 - val_loss: 0.3371\n",
            "Epoch 12/30\n",
            "3/3 [==============================] - 1s 195ms/step - loss: 0.0556 - val_loss: 0.3590\n",
            "Epoch 13/30\n",
            "3/3 [==============================] - 1s 195ms/step - loss: 0.0489 - val_loss: 0.3354\n",
            "Epoch 14/30\n",
            "3/3 [==============================] - 1s 199ms/step - loss: 0.0515 - val_loss: 0.3105\n",
            "Epoch 15/30\n",
            "3/3 [==============================] - 1s 191ms/step - loss: 0.0482 - val_loss: 0.3090\n",
            "Epoch 16/30\n",
            "3/3 [==============================] - 1s 195ms/step - loss: 0.0483 - val_loss: 0.3330\n",
            "Epoch 17/30\n",
            "3/3 [==============================] - 1s 199ms/step - loss: 0.0466 - val_loss: 0.3167\n",
            "Epoch 18/30\n",
            "3/3 [==============================] - 1s 197ms/step - loss: 0.0464 - val_loss: 0.3006\n",
            "Epoch 19/30\n",
            "3/3 [==============================] - 1s 196ms/step - loss: 0.0553 - val_loss: 0.3077\n",
            "Epoch 20/30\n",
            "3/3 [==============================] - 1s 195ms/step - loss: 0.0474 - val_loss: 0.2929\n",
            "Epoch 21/30\n",
            "3/3 [==============================] - 1s 200ms/step - loss: 0.0494 - val_loss: 0.2773\n",
            "Epoch 22/30\n",
            "3/3 [==============================] - 1s 198ms/step - loss: 0.0478 - val_loss: 0.2774\n",
            "Epoch 23/30\n",
            "3/3 [==============================] - 1s 195ms/step - loss: 0.0491 - val_loss: 0.2649\n",
            "Epoch 24/30\n",
            "3/3 [==============================] - 1s 197ms/step - loss: 0.0483 - val_loss: 0.2757\n",
            "Epoch 25/30\n",
            "3/3 [==============================] - 1s 201ms/step - loss: 0.0470 - val_loss: 0.2750\n",
            "Epoch 26/30\n",
            "3/3 [==============================] - 1s 197ms/step - loss: 0.0490 - val_loss: 0.2595\n",
            "Epoch 27/30\n",
            "3/3 [==============================] - 1s 197ms/step - loss: 0.0554 - val_loss: 0.2638\n",
            "Epoch 28/30\n",
            "3/3 [==============================] - 1s 197ms/step - loss: 0.0471 - val_loss: 0.2540\n",
            "Epoch 29/30\n",
            "3/3 [==============================] - 1s 194ms/step - loss: 0.0444 - val_loss: 0.2389\n",
            "Epoch 30/30\n",
            "3/3 [==============================] - 1s 188ms/step - loss: 0.0447 - val_loss: 0.2583\n"
          ]
        }
      ],
      "source": [
        "hist = model.fit(X_train, y_train,\n",
        "                epochs=30,\n",
        "                batch_size=batch_size,\n",
        "                shuffle=True,\n",
        "                validation_data=(X_test, y_test))"
      ]
    },
    {
      "cell_type": "code",
      "execution_count": 29,
      "metadata": {
        "colab": {
          "base_uri": "https://localhost:8080/",
          "height": 292
        },
        "id": "FXvR7P1FFMpo",
        "outputId": "dd0505c5-2e91-459f-f16b-67a76250cf5b"
      },
      "outputs": [
        {
          "name": "stdout",
          "output_type": "stream",
          "text": [
            "1/1 [==============================] - 0s 16ms/step\n",
            "1/1 [==============================] - 0s 17ms/step\n",
            "1/1 [==============================] - 0s 17ms/step\n",
            "1/1 [==============================] - 0s 16ms/step\n",
            "1/1 [==============================] - 0s 17ms/step\n"
          ]
        },
        {
          "data": {
            "image/png": "[encoded data removed]",
            "text/plain": [
              "<Figure size 432x288 with 5 Axes>"
            ]
          },
          "metadata": {
            "needs_background": "light"
          },
          "output_type": "display_data"
        },
        {
          "data": {
            "image/png": "[encoded data removed]",
            "text/plain": [
              "<Figure size 432x288 with 5 Axes>"
            ]
          },
          "metadata": {
            "needs_background": "light"
          },
          "output_type": "display_data"
        }
      ],
      "source": [
        "predictions = []\n",
        "image_mask = []\n",
        "plots = 5\n",
        "\n",
        "for i, (img, mask) in enumerate(zip(X_test, y_test)):\n",
        "    if i == plots:\n",
        "        break\n",
        "    img = tf.expand_dims(img, 0)\n",
        "    pred = np.array(model.predict(img))\n",
        "    predictions.append(pred[0, :, :, 0] > 0.5)\n",
        "    image_mask.append(mask)\n",
        "plotn(plots, (predictions, image_mask))"
      ]
    },
    {
      "cell_type": "markdown",
      "metadata": {
        "id": "RU5KGWXaTbso"
      },
      "source": [
        "## U-Net\n",
        "\n",
        "Основная проблема SegNet в том, что, переходя к вектору признаков, мы теряем в точности пространственной информации. Например, в VGG-16, исходное изображение 224x224 преобразуется к тензору 7x7x512, у которого всего лишь 7x7 пространственных измерений, по который в дальнейшем надо восстановить маску. Отчасти проблема решается в SegNet наличием Pooling Indices, а отчасти тем, что фильтры CNN способны \"помнить форму\".\n",
        "\n",
        "Однако улучшить сегментацию позволяет подход, при котором на каждом уровне деконволюции мы используем не только информацию с предыдушего уровня, но и информацию с энкодера соответствующего слоя. Такое использование достигается простой конкатенацией тензоров признаков по размерности фильтров (пространственные размерности при этом совпадают).\n",
        "\n",
        "В реализации \"взрослого\" U-Net обычно используют предобученные CNN для энкодера, например, ResNet-50.\n",
        "\n",
        "<img src=\"images/unet.png\" width=\"70%\">\n",
        "\n",
        "* Ronneberger, Olaf, Philipp Fischer, and Thomas Brox. [U-Net: Convolutional networks for biomedical image segmentation.](https://arxiv.org/pdf/1505.04597.pdf)\n"
      ]
    },
    {
      "cell_type": "code",
      "execution_count": 32,
      "metadata": {
        "id": "dFFh1_UYQc-K"
      },
      "outputs": [],
      "source": [
        "class UNet(tf.keras.Model):\n",
        "    def __init__(self):\n",
        "        super().__init__()\n",
        "        self.enc_conv0 = keras.Conv2D(16, kernel_size=3, padding='same')\n",
        "        self.bn0 = keras.BatchNormalization()\n",
        "        self.pool0 = keras.MaxPool2D()\n",
        "\n",
        "        self.enc_conv1 = keras.Conv2D(32, kernel_size=3, padding='same')\n",
        "        self.bn1 = keras.BatchNormalization()\n",
        "        self.pool1 = keras.MaxPool2D()\n",
        "\n",
        "        self.enc_conv2 = keras.Conv2D(64, kernel_size=3, padding='same')\n",
        "        self.bn2 = keras.BatchNormalization()\n",
        "        self.pool2 = keras.MaxPool2D()\n",
        "\n",
        "        self.enc_conv3 = keras.Conv2D(128, kernel_size=3, padding='same')\n",
        "        self.bn3 = keras.BatchNormalization()\n",
        "        self.pool3 = keras.MaxPool2D()\n",
        "\n",
        "        self.bottleneck_conv = keras.Conv2D(256, kernel_size=(3, 3), padding='same')\n",
        "\n",
        "        self.upsample0 =  keras.UpSampling2D(interpolation='bilinear')\n",
        "        self.dec_conv0 = keras.Conv2D(128, kernel_size=3, padding='same', input_shape=[None, 384, None, None])\n",
        "        self.dec_bn0 = keras.BatchNormalization()\n",
        "\n",
        "        self.upsample1 =  keras.UpSampling2D(interpolation='bilinear')\n",
        "        self.dec_conv1 = keras.Conv2D(64, kernel_size=3, padding='same', input_shape=[None, 192, None, None])\n",
        "        self.dec_bn1 = keras.BatchNormalization()\n",
        "\n",
        "        self.upsample2 =  keras.UpSampling2D(interpolation='bilinear')\n",
        "        self.dec_conv2 = keras.Conv2D(32, kernel_size=3, padding='same', input_shape=[None, 96, None, None])\n",
        "        self.dec_bn2 = keras.BatchNormalization()\n",
        "\n",
        "        self.upsample3 =  keras.UpSampling2D(interpolation='bilinear')\n",
        "        self.dec_conv3 = keras.Conv2D(1, kernel_size=1, input_shape=[None, 48, None, None])\n",
        "\n",
        "    def call(self, input):\n",
        "        cat0 = tf.nn.relu(self.bn0(self.enc_conv0(input)))\n",
        "        e0 = self.pool0(cat0)\n",
        "        cat1 = tf.nn.relu(self.bn1(self.enc_conv1(e0)))\n",
        "        e1 = self.pool0(cat1)\n",
        "        cat2 = tf.nn.relu(self.bn2(self.enc_conv2(e1)))\n",
        "        e2 = self.pool0(cat2)\n",
        "        cat3 = tf.nn.relu(self.bn3(self.enc_conv3(e2)))\n",
        "        e3 = self.pool0(cat3)\n",
        "\n",
        "        b = self.bottleneck_conv(e3)\n",
        "\n",
        "        cat_tens0 = tf.concat([self.upsample0(b), cat3],axis=3)\n",
        "        d0 = tf.nn.relu(self.dec_bn0(self.dec_conv0(cat_tens0)))\n",
        "\n",
        "        cat_tens1 = tf.concat([self.upsample1(d0), cat2],axis=3)\n",
        "        d1 = tf.nn.relu(self.dec_bn1(self.dec_conv1(cat_tens1)))\n",
        "\n",
        "        cat_tens2 = tf.concat([self.upsample2(d1), cat1],axis=3)\n",
        "        d2 = tf.nn.relu(self.dec_bn2(self.dec_conv2(cat_tens2)))\n",
        "\n",
        "        cat_tens3 = tf.concat([self.upsample3(d2), cat0],axis=3)\n",
        "        d3 = self.dec_conv3(cat_tens3)\n",
        "\n",
        "        return d3"
      ]
    },
    {
      "cell_type": "code",
      "execution_count": 33,
      "metadata": {
        "id": "15GA_43BTbtI"
      },
      "outputs": [],
      "source": [
        "model = UNet()\n",
        "optimizer = optimizers.Adam(learning_rate=lr, decay=weight_decay)\n",
        "loss_fn = losses.BinaryCrossentropy(from_logits=True)\n",
        "\n",
        "model.compile(loss=loss_fn, optimizer=optimizer)"
      ]
    },
    {
      "cell_type": "code",
      "execution_count": 39,
      "metadata": {
        "colab": {
          "base_uri": "https://localhost:8080/"
        },
        "id": "_dgiuvVVFMpr",
        "outputId": "095721e1-5090-41b4-92a1-6dc9fe9d31cb"
      },
      "outputs": [
        {
          "name": "stdout",
          "output_type": "stream",
          "text": [
            "Epoch 1/30\n",
            "3/3 [==============================] - 1s 311ms/step - loss: 0.0773 - val_loss: 0.4684\n",
            "Epoch 2/30\n",
            "3/3 [==============================] - 1s 298ms/step - loss: 0.0776 - val_loss: 0.4388\n",
            "Epoch 3/30\n",
            "3/3 [==============================] - 1s 298ms/step - loss: 0.0766 - val_loss: 0.3828\n",
            "Epoch 4/30\n",
            "3/3 [==============================] - 1s 298ms/step - loss: 0.0746 - val_loss: 0.3767\n",
            "Epoch 5/30\n",
            "3/3 [==============================] - 1s 300ms/step - loss: 0.0755 - val_loss: 0.3956\n",
            "Epoch 6/30\n",
            "3/3 [==============================] - 1s 304ms/step - loss: 0.0739 - val_loss: 0.3925\n",
            "Epoch 7/30\n",
            "3/3 [==============================] - 1s 298ms/step - loss: 0.0765 - val_loss: 0.3539\n",
            "Epoch 8/30\n",
            "3/3 [==============================] - 1s 299ms/step - loss: 0.0719 - val_loss: 0.3612\n",
            "Epoch 9/30\n",
            "3/3 [==============================] - 1s 303ms/step - loss: 0.0728 - val_loss: 0.3986\n",
            "Epoch 10/30\n",
            "3/3 [==============================] - 1s 299ms/step - loss: 0.0758 - val_loss: 0.3535\n",
            "Epoch 11/30\n",
            "3/3 [==============================] - 1s 296ms/step - loss: 0.0770 - val_loss: 0.3187\n",
            "Epoch 12/30\n",
            "3/3 [==============================] - 1s 306ms/step - loss: 0.0746 - val_loss: 0.3452\n",
            "Epoch 13/30\n",
            "3/3 [==============================] - 1s 299ms/step - loss: 0.0704 - val_loss: 0.3315\n",
            "Epoch 14/30\n",
            "3/3 [==============================] - 1s 308ms/step - loss: 0.0721 - val_loss: 0.3409\n",
            "Epoch 15/30\n",
            "3/3 [==============================] - 1s 303ms/step - loss: 0.0700 - val_loss: 0.3061\n",
            "Epoch 16/30\n",
            "3/3 [==============================] - 1s 356ms/step - loss: 0.0691 - val_loss: 0.3088\n",
            "Epoch 17/30\n",
            "3/3 [==============================] - 1s 337ms/step - loss: 0.0676 - val_loss: 0.3215\n",
            "Epoch 18/30\n",
            "3/3 [==============================] - 1s 321ms/step - loss: 0.0673 - val_loss: 0.2715\n",
            "Epoch 19/30\n",
            "3/3 [==============================] - 1s 314ms/step - loss: 0.0742 - val_loss: 0.2857\n",
            "Epoch 20/30\n",
            "3/3 [==============================] - 1s 304ms/step - loss: 0.0649 - val_loss: 0.2546\n",
            "Epoch 21/30\n",
            "3/3 [==============================] - 1s 302ms/step - loss: 0.0672 - val_loss: 0.2525\n",
            "Epoch 22/30\n",
            "3/3 [==============================] - 1s 323ms/step - loss: 0.0659 - val_loss: 0.2534\n",
            "Epoch 23/30\n",
            "3/3 [==============================] - 1s 299ms/step - loss: 0.0705 - val_loss: 0.2804\n",
            "Epoch 24/30\n",
            "3/3 [==============================] - 1s 305ms/step - loss: 0.0685 - val_loss: 0.2432\n",
            "Epoch 25/30\n",
            "3/3 [==============================] - 1s 302ms/step - loss: 0.0654 - val_loss: 0.2386\n",
            "Epoch 26/30\n",
            "3/3 [==============================] - 1s 304ms/step - loss: 0.0713 - val_loss: 0.2574\n",
            "Epoch 27/30\n",
            "3/3 [==============================] - 1s 300ms/step - loss: 0.0733 - val_loss: 0.2272\n",
            "Epoch 28/30\n",
            "3/3 [==============================] - 1s 305ms/step - loss: 0.0655 - val_loss: 0.2127\n",
            "Epoch 29/30\n",
            "3/3 [==============================] - 1s 302ms/step - loss: 0.0602 - val_loss: 0.2144\n",
            "Epoch 30/30\n",
            "3/3 [==============================] - 1s 298ms/step - loss: 0.0609 - val_loss: 0.2238\n"
          ]
        }
      ],
      "source": [
        "hist = model.fit(X_train, y_train,\n",
        "                epochs=30,\n",
        "                batch_size=batch_size,\n",
        "                shuffle=True,\n",
        "                validation_data=(X_test, y_test))"
      ]
    },
    {
      "cell_type": "code",
      "execution_count": 40,
      "metadata": {
        "colab": {
          "base_uri": "https://localhost:8080/",
          "height": 283
        },
        "id": "SI-n-Q0ZMcCp",
        "outputId": "bc9dae1d-401a-4e8c-9932-090d28178323"
      },
      "outputs": [
        {
          "data": {
            "text/plain": [
              "[<matplotlib.lines.Line2D at 0x7ff32810dd10>]"
            ]
          },
          "execution_count": 40,
          "metadata": {},
          "output_type": "execute_result"
        },
        {
          "data": {
            "image/png": "[encoded data removed]",
            "text/plain": [
              "<Figure size 432x288 with 1 Axes>"
            ]
          },
          "metadata": {
            "needs_background": "light"
          },
          "output_type": "display_data"
        }
      ],
      "source": [
        "plt.plot(hist.history['loss'])\n",
        "plt.plot(hist.history['val_loss'])\n"
      ]
    },
    {
      "cell_type": "code",
      "execution_count": 41,
      "metadata": {
        "colab": {
          "base_uri": "https://localhost:8080/",
          "height": 292
        },
        "id": "iEu5wjuMFMps",
        "outputId": "7f5fc400-60c7-460a-daf8-35dda4c4bb12"
      },
      "outputs": [
        {
          "name": "stdout",
          "output_type": "stream",
          "text": [
            "1/1 [==============================] - 0s 19ms/step\n",
            "1/1 [==============================] - 0s 17ms/step\n",
            "1/1 [==============================] - 0s 16ms/step\n",
            "1/1 [==============================] - 0s 17ms/step\n",
            "1/1 [==============================] - 0s 17ms/step\n"
          ]
        },
        {
          "data": {
            "image/png": "[encoded data removed]",
            "text/plain": [
              "<Figure size 432x288 with 5 Axes>"
            ]
          },
          "metadata": {
            "needs_background": "light"
          },
          "output_type": "display_data"
        },
        {
          "data": {
            "image/png": "[encoded data removed]",
            "text/plain": [
              "<Figure size 432x288 with 5 Axes>"
            ]
          },
          "metadata": {
            "needs_background": "light"
          },
          "output_type": "display_data"
        }
      ],
      "source": [
        "predictions = []\n",
        "image_mask = []\n",
        "plots = 5\n",
        "\n",
        "for i, (img, mask) in enumerate(zip(X_test, y_test)):\n",
        "    if i == plots:\n",
        "        break\n",
        "    img = tf.expand_dims(img, 0)\n",
        "    pred = np.array(model.predict(img))\n",
        "    predictions.append(pred[0, :, :, 0] > 0.5)\n",
        "    image_mask.append(mask)\n",
        "plotn(plots, (predictions, image_mask))"
      ]
    },
    {
      "cell_type": "code",
      "execution_count": null,
      "metadata": {
        "id": "l8-p2La8TlKr"
      },
      "outputs": [],
      "source": []
    }
  ],
  "metadata": {
    "accelerator": "GPU",
    "colab": {
      "provenance": []
    },
    "gpuClass": "standard",
    "kernelspec": {
      "display_name": "Python 3.9.12 ('base')",
      "language": "python",
      "name": "python3"
    },
    "language_info": {
      "codemirror_mode": {
        "name": "ipython",
        "version": 3
      },
      "file_extension": ".py",
      "mimetype": "text/x-python",
      "name": "python",
      "nbconvert_exporter": "python",
      "pygments_lexer": "ipython3",
      "version": "3.9.12"
    },
    "vscode": {
      "interpreter": {
        "hash": "d21c24a7952cc9fa93a33c3da71b373ffe761d6ab0c9cc9b2153e31da51ffb58"
      }
    }
  },
  "nbformat": 4,
  "nbformat_minor": 0
}
