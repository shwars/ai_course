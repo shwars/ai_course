{
  "nbformat": 4,
  "nbformat_minor": 0,
  "metadata": {
    "colab": {
      "provenance": []
    },
    "kernelspec": {
      "name": "python3",
      "display_name": "Python 3"
    },
    "language_info": {
      "name": "python"
    },
    "accelerator": "GPU",
    "gpuClass": "standard"
  },
  "cells": [
    {
      "cell_type": "code",
      "execution_count": 14,
      "metadata": {
        "id": "pzJh66MIQu2z"
      },
      "outputs": [],
      "source": [
        "import tensorflow as tf\n",
        "from tensorflow import keras\n",
        "import matplotlib.pyplot as plt\n",
        "\n",
        "(x_train, y_train), (x_test, y_test) = keras.datasets.mnist.load_data()\n"
      ]
    },
    {
      "cell_type": "code",
      "source": [
        "import numpy as np\n",
        "\n",
        "x_train = np.expand_dims(x_train.astype(np.float32)/255.,axis=-1)\n",
        "x_test = np.expand_dims(x_test.astype(np.float32)/255., axis=-1)\n"
      ],
      "metadata": {
        "id": "FfKkdIGBRhZ2"
      },
      "execution_count": 15,
      "outputs": []
    },
    {
      "cell_type": "code",
      "source": [
        "def noisify(x,strength=0.8):\n",
        "  return tf.clip_by_value(x+tf.random.uniform(shape=x.shape)*strength*2-strength,0,1)"
      ],
      "metadata": {
        "id": "f2ExxpzbQ9jU"
      },
      "execution_count": 16,
      "outputs": []
    },
    {
      "cell_type": "code",
      "source": [
        "import matplotlib.pyplot as plt \n",
        "\n",
        "plt.imshow(noisify(x_train[0],1))"
      ],
      "metadata": {
        "colab": {
          "base_uri": "https://localhost:8080/",
          "height": 283
        },
        "id": "zrAeFWekRwOx",
        "outputId": "e69a1739-2203-40a8-a68f-156837b242d7"
      },
      "execution_count": 21,
      "outputs": [
        {
          "output_type": "execute_result",
          "data": {
            "text/plain": [
              "<matplotlib.image.AxesImage at 0x7f389008a820>"
            ]
          },
          "metadata": {},
          "execution_count": 21
        },
        {
          "output_type": "display_data",
          "data": {
            "text/plain": [
              "<Figure size 432x288 with 1 Axes>"
            ],
            "image/png": "[encoded data removed]"
          },
          "metadata": {
            "needs_background": "light"
          }
        }
      ]
    },
    {
      "cell_type": "code",
      "source": [
        "model = keras.models.Sequential([\n",
        "    keras.layers.Conv2D(10,5,activation='relu'),\n",
        "    keras.layers.MaxPool2D(),\n",
        "    keras.layers.Conv2D(20,5,activation='relu'),\n",
        "    keras.layers.MaxPool2D(),\n",
        "    keras.layers.Flatten(),\n",
        "    keras.layers.Dense(10,activation='softmax')\n",
        "])\n",
        "model.compile('adam','sparse_categorical_crossentropy',['acc'])\n",
        "model.fit(noisify(x_train,1),y_train,validation_data=(noisify(x_test,1),y_test))"
      ],
      "metadata": {
        "colab": {
          "base_uri": "https://localhost:8080/"
        },
        "id": "Sb4QWxIvR1U_",
        "outputId": "f98db90d-c625-4705-9da2-3506d7665e0f"
      },
      "execution_count": 20,
      "outputs": [
        {
          "output_type": "stream",
          "name": "stdout",
          "text": [
            "1875/1875 [==============================] - 8s 4ms/step - loss: 0.5689 - acc: 0.8170 - val_loss: 0.3100 - val_acc: 0.9002\n"
          ]
        },
        {
          "output_type": "execute_result",
          "data": {
            "text/plain": [
              "<keras.callbacks.History at 0x7f389019f430>"
            ]
          },
          "metadata": {},
          "execution_count": 20
        }
      ]
    },
    {
      "cell_type": "code",
      "source": [
        "matrixj=np.array(\n",
        "    [\n",
        "     [1,1,0,1,0,1,0,1,1,0],\n",
        "     [0,0,1,1,0,0,0,1,0,1],\n",
        "     [0,1,0,1,0,0,1,0,1,2],\n",
        "     [0,1,1,0,1,0,1,0,0,3],\n",
        "     [1,0,0,1,1,0,0,1,0,4],\n",
        "     [1,1,0,0,1,0,0,1,1,5],\n",
        "     [0,0,1,0,1,1,0,1,1,6],\n",
        "     [0,1,1,0,0,1,0,0,0,7],\n",
        "     [1,1,0,1,1,1,0,1,1,8],\n",
        "     [1,1,0,1,1,0,1,0,0,9]])"
      ],
      "metadata": {
        "id": "w049-FUPSbyW"
      },
      "execution_count": 79,
      "outputs": []
    },
    {
      "cell_type": "code",
      "source": [
        "X = matrixj[:,0:-1].astype(np.float32)\n",
        "Y = matrixj[:,-1]"
      ],
      "metadata": {
        "id": "b0OD_kg1TxZW"
      },
      "execution_count": 80,
      "outputs": []
    },
    {
      "cell_type": "code",
      "source": [
        "model = keras.models.Sequential([\n",
        "    keras.layers.Dense(10,activation='softmax')\n",
        "])\n",
        "\n",
        "model.compile('adam','sparse_categorical_crossentropy',['acc'])\n",
        "hist = model.fit(X,Y,validation_data=(X,Y),epochs=500,verbose=False)\n",
        "hist.history['acc'][-1], hist.history['val_acc'][-1]"
      ],
      "metadata": {
        "colab": {
          "base_uri": "https://localhost:8080/"
        },
        "id": "ryfqoh-YUNME",
        "outputId": "012f315a-23de-40d2-aa96-4615d71ce848"
      },
      "execution_count": 39,
      "outputs": [
        {
          "output_type": "execute_result",
          "data": {
            "text/plain": [
              "(1.0, 1.0)"
            ]
          },
          "metadata": {},
          "execution_count": 39
        }
      ]
    },
    {
      "cell_type": "code",
      "source": [
        "import random\n",
        "\n",
        "def noisify(x,n=4):\n",
        "  i = random.sample(range(len(x)),n)\n",
        "  z = x.copy()\n",
        "  z[i]=1-z[i]\n",
        "  return z\n",
        "\n",
        "def prepare_ds(n_copies=1000,n=4):\n",
        "  Xn = []\n",
        "  Yn = []\n",
        "  for _ in range(n_copies):\n",
        "    for x,y in zip(X,Y):\n",
        "      Xn.append(noisify(x,n=n))\n",
        "      Yn.append(y)\n",
        "  return np.array(Xn), np.array(Yn)\n",
        "\n",
        "Xn,Yn = prepare_ds()\n",
        "\n",
        "model = keras.models.Sequential([\n",
        "        keras.layers.Dense(10,activation='softmax')\n",
        "])\n",
        "\n",
        "model.compile('adam','sparse_categorical_crossentropy',['acc'])\n",
        "hist = model.fit(Xn,Yn,validation_data=(X,Y),epochs=10)\n",
        "#hist.history['acc'][-1], hist.history['val_acc'][-1]"
      ],
      "metadata": {
        "colab": {
          "base_uri": "https://localhost:8080/"
        },
        "id": "6OOqLtDmUt6m",
        "outputId": "30be6113-48d5-4889-d67f-ec6a683e185f"
      },
      "execution_count": 89,
      "outputs": [
        {
          "output_type": "stream",
          "name": "stdout",
          "text": [
            "Epoch 1/10\n",
            "313/313 [==============================] - 1s 3ms/step - loss: 2.3612 - acc: 0.1081 - val_loss: 2.1165 - val_acc: 0.1000\n",
            "Epoch 2/10\n",
            "313/313 [==============================] - 1s 3ms/step - loss: 2.3136 - acc: 0.1100 - val_loss: 1.9899 - val_acc: 0.5000\n",
            "Epoch 3/10\n",
            "313/313 [==============================] - 1s 3ms/step - loss: 2.2929 - acc: 0.0980 - val_loss: 1.8883 - val_acc: 0.7000\n",
            "Epoch 4/10\n",
            "313/313 [==============================] - 1s 3ms/step - loss: 2.2784 - acc: 0.0841 - val_loss: 1.8042 - val_acc: 0.9000\n",
            "Epoch 5/10\n",
            "313/313 [==============================] - 1s 2ms/step - loss: 2.2683 - acc: 0.0681 - val_loss: 1.7382 - val_acc: 0.9000\n",
            "Epoch 6/10\n",
            "313/313 [==============================] - 1s 2ms/step - loss: 2.2611 - acc: 0.0543 - val_loss: 1.6824 - val_acc: 0.9000\n",
            "Epoch 7/10\n",
            "313/313 [==============================] - 1s 2ms/step - loss: 2.2563 - acc: 0.0433 - val_loss: 1.6404 - val_acc: 0.9000\n",
            "Epoch 8/10\n",
            "313/313 [==============================] - 1s 2ms/step - loss: 2.2530 - acc: 0.0334 - val_loss: 1.6032 - val_acc: 1.0000\n",
            "Epoch 9/10\n",
            "313/313 [==============================] - 1s 2ms/step - loss: 2.2505 - acc: 0.0322 - val_loss: 1.5741 - val_acc: 1.0000\n",
            "Epoch 10/10\n",
            "313/313 [==============================] - 1s 2ms/step - loss: 2.2484 - acc: 0.0307 - val_loss: 1.5477 - val_acc: 1.0000\n"
          ]
        }
      ]
    },
    {
      "cell_type": "code",
      "source": [
        "for i in range(10):\n",
        "  print(f\"{i} -> {model.layers[0].weights[0][:,i]} -> {X[i]}\")"
      ],
      "metadata": {
        "colab": {
          "base_uri": "https://localhost:8080/"
        },
        "id": "D4CrSSDcZ5j1",
        "outputId": "466c7d22-6691-417c-b968-0b2cf8f83bc1"
      },
      "execution_count": 90,
      "outputs": [
        {
          "output_type": "stream",
          "name": "stdout",
          "text": [
            "0 -> [ 0.22984867 -0.26786786 -0.15504625  0.04584236 -0.3049723   0.01492516\n",
            " -0.2513002   0.27016336  0.29366326] -> [1. 1. 0. 1. 0. 1. 0. 1. 1.]\n",
            "1 -> [-0.05584709 -0.39494175  0.3528543   0.08130182 -0.15626667 -0.3542387\n",
            " -0.22420761  0.31884065 -0.06401781] -> [0. 0. 1. 1. 0. 0. 0. 1. 0.]\n",
            "2 -> [-0.09079249 -0.00889833 -0.07919179  0.07230649 -0.23511127 -0.35195646\n",
            "  0.40105128 -0.21442273  0.19974671] -> [0. 1. 0. 1. 0. 0. 1. 0. 1.]\n",
            "3 -> [-0.13710147  0.03547972  0.32406634 -0.39428097  0.1139176  -0.21996059\n",
            "  0.3442881  -0.30122435 -0.09708562] -> [0. 1. 1. 0. 1. 0. 1. 0. 0.]\n",
            "4 -> [ 0.28324333 -0.46214283 -0.09361763  0.09195335  0.11741092 -0.22335933\n",
            " -0.21843238  0.26730847 -0.10011215] -> [1. 0. 0. 1. 1. 0. 0. 1. 0.]\n",
            "5 -> [ 0.34900114 -0.14870629 -0.03699692 -0.23522142 -0.00135494 -0.41232935\n",
            " -0.1854846   0.26085222  0.34115422] -> [1. 1. 0. 0. 1. 0. 0. 1. 1.]\n",
            "6 -> [-0.10853485 -0.5219396   0.38136172 -0.36192897 -0.05955411  0.05145346\n",
            " -0.19967458  0.26597163  0.43413034] -> [0. 0. 1. 0. 1. 1. 0. 1. 1.]\n",
            "7 -> [-0.01340711 -0.13634472  0.3829899  -0.34065285 -0.24965471  0.17040466\n",
            " -0.23934494 -0.09211218 -0.06293069] -> [0. 1. 1. 0. 0. 1. 0. 0. 0.]\n",
            "8 -> [ 0.19130391 -0.0204539  -0.07260812 -0.05468208  0.10898586 -0.10702149\n",
            " -0.17060003  0.21326499  0.1699256 ] -> [1. 1. 0. 1. 1. 1. 0. 1. 1.]\n",
            "9 -> [ 0.26459718 -0.09419204 -0.08100134  0.09458315  0.06612749 -0.3507264\n",
            "  0.325059   -0.21821347 -0.20237559] -> [1. 1. 0. 1. 1. 0. 1. 0. 0.]\n"
          ]
        }
      ]
    },
    {
      "cell_type": "code",
      "source": [
        "tr_a, val_a = [],[]\n",
        "for n in range(9):\n",
        "  Xn,Yn = prepare_ds(n=n)\n",
        "  model = keras.models.Sequential([\n",
        "        keras.layers.Dense(10,activation='softmax')])\n",
        "  model.compile('adam','sparse_categorical_crossentropy',['acc'])\n",
        "  hist = model.fit(Xn,Yn,validation_data=(X,Y),epochs=10,verbose=False)\n",
        "  tr_a.append(hist.history['acc'][-1])\n",
        "  val_a.append(hist.history['val_acc'][-1])\n",
        "  print(f'n={n}, train acc={tr_a[-1]}, val acc={val_a[-1]}')\n",
        "\n"
      ],
      "metadata": {
        "colab": {
          "base_uri": "https://localhost:8080/"
        },
        "id": "hqh1lTb6boks",
        "outputId": "72ccd6ee-c49b-47de-fe56-94fda33f5683"
      },
      "execution_count": 91,
      "outputs": [
        {
          "output_type": "stream",
          "name": "stdout",
          "text": [
            "n=0, train acc=1.0, val acc=1.0\n",
            "n=1, train acc=0.9577999711036682, val acc=1.0\n",
            "n=2, train acc=0.6629999876022339, val acc=1.0\n",
            "n=3, train acc=0.18520000576972961, val acc=1.0\n",
            "n=4, train acc=0.03370000049471855, val acc=1.0\n",
            "n=5, train acc=0.0340999998152256, val acc=0.0\n",
            "n=6, train acc=0.19189999997615814, val acc=0.0\n",
            "n=7, train acc=0.6488000154495239, val acc=0.0\n",
            "n=8, train acc=0.9574999809265137, val acc=0.0\n"
          ]
        }
      ]
    },
    {
      "cell_type": "code",
      "source": [
        "plt.plot(range(9),tr_a,label='train')\n",
        "plt.plot(range(9),val_a,label='val')\n",
        "plt.legend()\n",
        "plt.grid()\n",
        "plt.show()"
      ],
      "metadata": {
        "colab": {
          "base_uri": "https://localhost:8080/",
          "height": 265
        },
        "id": "Y3HOxSHMc8At",
        "outputId": "16c176dc-95b6-4f28-bf16-57208fe2de26"
      },
      "execution_count": 92,
      "outputs": [
        {
          "output_type": "display_data",
          "data": {
            "text/plain": [
              "<Figure size 432x288 with 1 Axes>"
            ],
            "image/png": "[encoded data removed]"
          },
          "metadata": {
            "needs_background": "light"
          }
        }
      ]
    },
    {
      "cell_type": "code",
      "source": [],
      "metadata": {
        "id": "yhN-Kof6dsG2"
      },
      "execution_count": null,
      "outputs": []
    }
  ]
}