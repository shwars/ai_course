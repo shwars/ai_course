{
 "cells": [
  {
   "cell_type": "markdown",
   "metadata": {},
   "source": [
    "# Классификация пород кошек и собак по лицу\n",
    "\n",
    "Используем упрощенный датасет [Oxford-IIIT Dataset](https://www.robots.ox.ac.uk/~vgg/data/pets/) с вырезанными лицами домашних животных. Для начала загружаем датасет:"
   ]
  },
  {
   "cell_type": "code",
   "execution_count": 1,
   "metadata": {},
   "outputs": [
    {
     "name": "stdout",
     "output_type": "stream",
     "text": [
      "--2022-02-17 12:32:43--  https://mslearntensorflowlp.blob.core.windows.net/data/petfaces.tar.gz\n",
      "Resolving mslearntensorflowlp.blob.core.windows.net... 20.150.90.68\n",
      "Connecting to mslearntensorflowlp.blob.core.windows.net|20.150.90.68|:443... connected.\n",
      "HTTP request sent, awaiting response... 200 OK\n",
      "Length: 24483412 (23M) [application/x-gzip]\n",
      "Saving to: ‘petfaces.tar.gz’\n",
      "\n",
      "petfaces.tar.gz     100%[===================>]  23.35M  12.5MB/s    in 1.9s    \n",
      "\n",
      "2022-02-17 12:32:45 (12.5 MB/s) - ‘petfaces.tar.gz’ saved [24483412/24483412]\n",
      "\n"
     ]
    }
   ],
   "source": [
    "!wget http://www.soshnikov.com/permanent/data/petfaces.tar.gz\n",
    "!tar xfz petfaces.tar.gz\n",
    "!rm petfaces.tar.gz"
   ]
  },
  {
   "cell_type": "markdown",
   "metadata": {},
   "source": [
    "Для визуализации списка изображений можно использовать такую функцию:"
   ]
  },
  {
   "cell_type": "code",
   "execution_count": 2,
   "metadata": {},
   "outputs": [],
   "source": [
    "import matplotlib.pyplot as plt\n",
    "import os\n",
    "from PIL import Image\n",
    "import numpy as np\n",
    "\n",
    "def display_images(l,titles=None,fontsize=12):\n",
    "    n=len(l)\n",
    "    fig,ax = plt.subplots(1,n)\n",
    "    for i,im in enumerate(l):\n",
    "        ax[i].imshow(im)\n",
    "        ax[i].axis('off')\n",
    "        if titles is not None:\n",
    "            ax[i].set_title(titles[i],fontsize=fontsize)\n",
    "    fig.set_size_inches(fig.get_size_inches()*n)\n",
    "    plt.tight_layout()\n",
    "    plt.show()"
   ]
  }
 ],
 "metadata": {
  "kernelspec": {
   "display_name": "Python 3.9.12 ('base')",
   "language": "python",
   "name": "python3"
  },
  "language_info": {
   "codemirror_mode": {
    "name": "ipython",
    "version": 3
   },
   "file_extension": ".py",
   "mimetype": "text/x-python",
   "name": "python",
   "nbconvert_exporter": "python",
   "pygments_lexer": "ipython3",
   "version": "3.9.12"
  },
  "vscode": {
   "interpreter": {
    "hash": "d21c24a7952cc9fa93a33c3da71b373ffe761d6ab0c9cc9b2153e31da51ffb58"
   }
  }
 },
 "nbformat": 4,
 "nbformat_minor": 4
}
