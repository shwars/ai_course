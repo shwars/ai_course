{
 "cells": [
  {
   "cell_type": "markdown",
   "metadata": {},
   "source": [
    "## Решение практических задач с Keras и TensorFlow"
   ]
  },
  {
   "cell_type": "code",
   "execution_count": 1,
   "metadata": {},
   "outputs": [],
   "source": [
    "import tensorflow_datasets as tdfs\n",
    "import tensorflow as tf\n",
    "import tensorflow.keras as keras\n",
    "import pandas as pd\n",
    "import numpy as np\n",
    "from sklearn.model_selection import train_test_split"
   ]
  },
  {
   "cell_type": "code",
   "execution_count": 78,
   "metadata": {},
   "outputs": [
    {
     "data": {
      "text/html": [
       "<div>\n",
       "<style scoped>\n",
       "    .dataframe tbody tr th:only-of-type {\n",
       "        vertical-align: middle;\n",
       "    }\n",
       "\n",
       "    .dataframe tbody tr th {\n",
       "        vertical-align: top;\n",
       "    }\n",
       "\n",
       "    .dataframe thead th {\n",
       "        text-align: right;\n",
       "    }\n",
       "</style>\n",
       "<table border=\"1\" class=\"dataframe\">\n",
       "  <thead>\n",
       "    <tr style=\"text-align: right;\">\n",
       "      <th></th>\n",
       "      <th>features/carat</th>\n",
       "      <th>features/clarity</th>\n",
       "      <th>features/color</th>\n",
       "      <th>features/cut</th>\n",
       "      <th>features/depth</th>\n",
       "      <th>features/table</th>\n",
       "      <th>features/x</th>\n",
       "      <th>features/y</th>\n",
       "      <th>features/z</th>\n",
       "      <th>price</th>\n",
       "    </tr>\n",
       "  </thead>\n",
       "  <tbody>\n",
       "    <tr>\n",
       "      <th>0</th>\n",
       "      <td>1.26</td>\n",
       "      <td>2</td>\n",
       "      <td>4</td>\n",
       "      <td>2</td>\n",
       "      <td>60.599998</td>\n",
       "      <td>60.0</td>\n",
       "      <td>6.97</td>\n",
       "      <td>7.00</td>\n",
       "      <td>4.23</td>\n",
       "      <td>6546.0</td>\n",
       "    </tr>\n",
       "    <tr>\n",
       "      <th>1</th>\n",
       "      <td>0.80</td>\n",
       "      <td>3</td>\n",
       "      <td>4</td>\n",
       "      <td>4</td>\n",
       "      <td>62.099998</td>\n",
       "      <td>54.0</td>\n",
       "      <td>5.96</td>\n",
       "      <td>5.99</td>\n",
       "      <td>3.71</td>\n",
       "      <td>3030.0</td>\n",
       "    </tr>\n",
       "    <tr>\n",
       "      <th>2</th>\n",
       "      <td>0.56</td>\n",
       "      <td>4</td>\n",
       "      <td>2</td>\n",
       "      <td>4</td>\n",
       "      <td>61.700001</td>\n",
       "      <td>54.0</td>\n",
       "      <td>5.28</td>\n",
       "      <td>5.32</td>\n",
       "      <td>3.27</td>\n",
       "      <td>1915.0</td>\n",
       "    </tr>\n",
       "    <tr>\n",
       "      <th>3</th>\n",
       "      <td>1.51</td>\n",
       "      <td>3</td>\n",
       "      <td>6</td>\n",
       "      <td>1</td>\n",
       "      <td>64.000000</td>\n",
       "      <td>58.0</td>\n",
       "      <td>7.24</td>\n",
       "      <td>7.27</td>\n",
       "      <td>4.64</td>\n",
       "      <td>6936.0</td>\n",
       "    </tr>\n",
       "    <tr>\n",
       "      <th>4</th>\n",
       "      <td>0.33</td>\n",
       "      <td>6</td>\n",
       "      <td>5</td>\n",
       "      <td>4</td>\n",
       "      <td>62.200001</td>\n",
       "      <td>54.0</td>\n",
       "      <td>4.43</td>\n",
       "      <td>4.45</td>\n",
       "      <td>2.76</td>\n",
       "      <td>646.0</td>\n",
       "    </tr>\n",
       "  </tbody>\n",
       "</table>\n",
       "</div>"
      ],
      "text/plain": [
       "   features/carat  features/clarity  features/color  features/cut  \\\n",
       "0            1.26                 2               4             2   \n",
       "1            0.80                 3               4             4   \n",
       "2            0.56                 4               2             4   \n",
       "3            1.51                 3               6             1   \n",
       "4            0.33                 6               5             4   \n",
       "\n",
       "   features/depth  features/table  features/x  features/y  features/z   price  \n",
       "0       60.599998            60.0        6.97        7.00        4.23  6546.0  \n",
       "1       62.099998            54.0        5.96        5.99        3.71  3030.0  \n",
       "2       61.700001            54.0        5.28        5.32        3.27  1915.0  \n",
       "3       64.000000            58.0        7.24        7.27        4.64  6936.0  \n",
       "4       62.200001            54.0        4.43        4.45        2.76   646.0  "
      ]
     },
     "execution_count": 78,
     "metadata": {},
     "output_type": "execute_result"
    }
   ],
   "source": [
    "df = tdfs.as_dataframe(tdfs.load('diamonds',split='train'))\n",
    "df.head()"
   ]
  },
  {
   "cell_type": "code",
   "execution_count": 83,
   "metadata": {},
   "outputs": [],
   "source": [
    "for c in df.columns:\n",
    "    if c.startswith('features/'):\n",
    "        df[c] = (df[c]-df[c].min())/(df[c].max()-df[c].min())"
   ]
  },
  {
   "cell_type": "code",
   "execution_count": 89,
   "metadata": {},
   "outputs": [],
   "source": [
    "# df['price'] = 1 + (df['price']-df['price'].min())/(df['price'].max()-df['price'].min())"
   ]
  },
  {
   "cell_type": "code",
   "execution_count": 90,
   "metadata": {},
   "outputs": [
    {
     "data": {
      "text/html": [
       "<div>\n",
       "<style scoped>\n",
       "    .dataframe tbody tr th:only-of-type {\n",
       "        vertical-align: middle;\n",
       "    }\n",
       "\n",
       "    .dataframe tbody tr th {\n",
       "        vertical-align: top;\n",
       "    }\n",
       "\n",
       "    .dataframe thead th {\n",
       "        text-align: right;\n",
       "    }\n",
       "</style>\n",
       "<table border=\"1\" class=\"dataframe\">\n",
       "  <thead>\n",
       "    <tr style=\"text-align: right;\">\n",
       "      <th></th>\n",
       "      <th>features/carat</th>\n",
       "      <th>features/clarity</th>\n",
       "      <th>features/color</th>\n",
       "      <th>features/cut</th>\n",
       "      <th>features/depth</th>\n",
       "      <th>features/table</th>\n",
       "      <th>features/x</th>\n",
       "      <th>features/y</th>\n",
       "      <th>features/z</th>\n",
       "      <th>price</th>\n",
       "    </tr>\n",
       "  </thead>\n",
       "  <tbody>\n",
       "    <tr>\n",
       "      <th>0</th>\n",
       "      <td>0.220374</td>\n",
       "      <td>0.285714</td>\n",
       "      <td>0.666667</td>\n",
       "      <td>0.50</td>\n",
       "      <td>0.488889</td>\n",
       "      <td>0.326923</td>\n",
       "      <td>0.648976</td>\n",
       "      <td>0.118846</td>\n",
       "      <td>0.133019</td>\n",
       "      <td>1.336271</td>\n",
       "    </tr>\n",
       "    <tr>\n",
       "      <th>1</th>\n",
       "      <td>0.124740</td>\n",
       "      <td>0.428571</td>\n",
       "      <td>0.666667</td>\n",
       "      <td>1.00</td>\n",
       "      <td>0.530555</td>\n",
       "      <td>0.211538</td>\n",
       "      <td>0.554935</td>\n",
       "      <td>0.101698</td>\n",
       "      <td>0.116667</td>\n",
       "      <td>1.146186</td>\n",
       "    </tr>\n",
       "    <tr>\n",
       "      <th>2</th>\n",
       "      <td>0.074844</td>\n",
       "      <td>0.571429</td>\n",
       "      <td>0.333333</td>\n",
       "      <td>1.00</td>\n",
       "      <td>0.519444</td>\n",
       "      <td>0.211538</td>\n",
       "      <td>0.491620</td>\n",
       "      <td>0.090323</td>\n",
       "      <td>0.102830</td>\n",
       "      <td>1.085906</td>\n",
       "    </tr>\n",
       "    <tr>\n",
       "      <th>3</th>\n",
       "      <td>0.272349</td>\n",
       "      <td>0.428571</td>\n",
       "      <td>1.000000</td>\n",
       "      <td>0.25</td>\n",
       "      <td>0.583333</td>\n",
       "      <td>0.288462</td>\n",
       "      <td>0.674115</td>\n",
       "      <td>0.123430</td>\n",
       "      <td>0.145912</td>\n",
       "      <td>1.357355</td>\n",
       "    </tr>\n",
       "    <tr>\n",
       "      <th>4</th>\n",
       "      <td>0.027027</td>\n",
       "      <td>0.857143</td>\n",
       "      <td>0.833333</td>\n",
       "      <td>1.00</td>\n",
       "      <td>0.533333</td>\n",
       "      <td>0.211538</td>\n",
       "      <td>0.412477</td>\n",
       "      <td>0.075552</td>\n",
       "      <td>0.086792</td>\n",
       "      <td>1.017300</td>\n",
       "    </tr>\n",
       "  </tbody>\n",
       "</table>\n",
       "</div>"
      ],
      "text/plain": [
       "   features/carat  features/clarity  features/color  features/cut  \\\n",
       "0        0.220374          0.285714        0.666667          0.50   \n",
       "1        0.124740          0.428571        0.666667          1.00   \n",
       "2        0.074844          0.571429        0.333333          1.00   \n",
       "3        0.272349          0.428571        1.000000          0.25   \n",
       "4        0.027027          0.857143        0.833333          1.00   \n",
       "\n",
       "   features/depth  features/table  features/x  features/y  features/z  \\\n",
       "0        0.488889        0.326923    0.648976    0.118846    0.133019   \n",
       "1        0.530555        0.211538    0.554935    0.101698    0.116667   \n",
       "2        0.519444        0.211538    0.491620    0.090323    0.102830   \n",
       "3        0.583333        0.288462    0.674115    0.123430    0.145912   \n",
       "4        0.533333        0.211538    0.412477    0.075552    0.086792   \n",
       "\n",
       "      price  \n",
       "0  1.336271  \n",
       "1  1.146186  \n",
       "2  1.085906  \n",
       "3  1.357355  \n",
       "4  1.017300  "
      ]
     },
     "execution_count": 90,
     "metadata": {},
     "output_type": "execute_result"
    }
   ],
   "source": [
    "df.head()"
   ]
  },
  {
   "cell_type": "code",
   "execution_count": 56,
   "metadata": {},
   "outputs": [
    {
     "data": {
      "text/plain": [
       "<AxesSubplot:>"
      ]
     },
     "execution_count": 56,
     "metadata": {},
     "output_type": "execute_result"
    },
    {
     "data": {
      "image/png": "[encoded data removed]",
      "text/plain": [
       "<Figure size 432x288 with 1 Axes>"
      ]
     },
     "metadata": {
      "needs_background": "light"
     },
     "output_type": "display_data"
    }
   ],
   "source": [
    "df['price'].hist()"
   ]
  },
  {
   "cell_type": "code",
   "execution_count": 91,
   "metadata": {},
   "outputs": [],
   "source": [
    "X = df[[x for x in df.columns if x.startswith('features/')]]\n",
    "Y = df['price']\n",
    "train_x, test_x, train_y, test_y = train_test_split(X,Y,test_size=0.2,shuffle=True)"
   ]
  },
  {
   "cell_type": "code",
   "execution_count": 92,
   "metadata": {},
   "outputs": [],
   "source": [
    "model = keras.Sequential([\n",
    "    keras.layers.Dense(100,input_shape=(9,),activation='sigmoid'),\n",
    "    keras.layers.Dense(1,activation=None)\n",
    "])"
   ]
  },
  {
   "cell_type": "code",
   "execution_count": 93,
   "metadata": {},
   "outputs": [
    {
     "name": "stdout",
     "output_type": "stream",
     "text": [
      "Epoch 1/10\n",
      "1349/1349 [==============================] - 3s 2ms/step - loss: 0.0212 - MAE: 0.0903 - MAPE: 7.0820 - val_loss: 0.0052 - val_MAE: 0.0526 - val_MAPE: 4.1999\n",
      "Epoch 2/10\n",
      "1349/1349 [==============================] - 3s 2ms/step - loss: 0.0052 - MAE: 0.0523 - MAPE: 4.2153 - val_loss: 0.0049 - val_MAE: 0.0508 - val_MAPE: 4.1027\n",
      "Epoch 3/10\n",
      "1349/1349 [==============================] - 3s 2ms/step - loss: 0.0051 - MAE: 0.0512 - MAPE: 4.1374 - val_loss: 0.0047 - val_MAE: 0.0490 - val_MAPE: 3.9433\n",
      "Epoch 4/10\n",
      "1349/1349 [==============================] - 3s 2ms/step - loss: 0.0049 - MAE: 0.0503 - MAPE: 4.0588 - val_loss: 0.0057 - val_MAE: 0.0514 - val_MAPE: 4.1265\n",
      "Epoch 5/10\n",
      "1349/1349 [==============================] - 3s 2ms/step - loss: 0.0048 - MAE: 0.0488 - MAPE: 3.9233 - val_loss: 0.0045 - val_MAE: 0.0472 - val_MAPE: 3.7776\n",
      "Epoch 6/10\n",
      "1349/1349 [==============================] - 3s 2ms/step - loss: 0.0047 - MAE: 0.0481 - MAPE: 3.8626 - val_loss: 0.0048 - val_MAE: 0.0517 - val_MAPE: 4.2115\n",
      "Epoch 7/10\n",
      "1349/1349 [==============================] - 3s 2ms/step - loss: 0.0047 - MAE: 0.0478 - MAPE: 3.8361 - val_loss: 0.0054 - val_MAE: 0.0566 - val_MAPE: 4.6309\n",
      "Epoch 8/10\n",
      "1349/1349 [==============================] - 4s 3ms/step - loss: 0.0046 - MAE: 0.0469 - MAPE: 3.7602 - val_loss: 0.0043 - val_MAE: 0.0446 - val_MAPE: 3.5477\n",
      "Epoch 9/10\n",
      "1349/1349 [==============================] - 3s 2ms/step - loss: 0.0046 - MAE: 0.0465 - MAPE: 3.7189 - val_loss: 0.0044 - val_MAE: 0.0477 - val_MAPE: 3.8375 loss: 0.0046 - MAE: 0.0\n",
      "Epoch 10/10\n",
      "1349/1349 [==============================] - 3s 2ms/step - loss: 0.0046 - MAE: 0.0467 - MAPE: 3.7375 - val_loss: 0.0049 - val_MAE: 0.0523 - val_MAPE: 4.2628\n"
     ]
    },
    {
     "data": {
      "text/plain": [
       "<keras.callbacks.History at 0x1ee8b81d580>"
      ]
     },
     "execution_count": 93,
     "metadata": {},
     "output_type": "execute_result"
    }
   ],
   "source": [
    "model.compile(loss='MSE',optimizer='adam',metrics=['MAE','MAPE'])\n",
    "model.fit(train_x,train_y,validation_data=(test_x,test_y),epochs=10)"
   ]
  },
  {
   "cell_type": "code",
   "execution_count": 73,
   "metadata": {},
   "outputs": [
    {
     "data": {
      "text/plain": [
       "<AxesSubplot:>"
      ]
     },
     "execution_count": 73,
     "metadata": {},
     "output_type": "execute_result"
    },
    {
     "data": {
      "image/png": "[encoded data removed]",
      "text/plain": [
       "<Figure size 432x288 with 1 Axes>"
      ]
     },
     "metadata": {
      "needs_background": "light"
     },
     "output_type": "display_data"
    }
   ],
   "source": [
    "df = tdfs.as_dataframe(tdfs.load('diamonds',split='train'))\n",
    "\n",
    "df['logprice'] = np.log(df['price'])\n",
    "df['logprice'].hist()"
   ]
  },
  {
   "cell_type": "code",
   "execution_count": 74,
   "metadata": {},
   "outputs": [],
   "source": [
    "for c in df.columns:\n",
    "    if c.startswith('features/'):\n",
    "        df[c] = (df[c]-df[c].min())/(df[c].max()-df[c].min())"
   ]
  },
  {
   "cell_type": "code",
   "execution_count": 75,
   "metadata": {},
   "outputs": [],
   "source": [
    "X = df[[x for x in df.columns if x.startswith('features/')]]\n",
    "Y = df['logprice']\n",
    "train_x, test_x, train_y, test_y = train_test_split(X,Y,test_size=0.2,shuffle=True)"
   ]
  },
  {
   "cell_type": "code",
   "execution_count": 76,
   "metadata": {},
   "outputs": [],
   "source": [
    "model = keras.Sequential([\n",
    "    keras.layers.Dense(100,input_shape=(9,),activation='tanh'),\n",
    "    keras.layers.Dense(1,activation=None)\n",
    "])"
   ]
  },
  {
   "cell_type": "code",
   "execution_count": 77,
   "metadata": {},
   "outputs": [
    {
     "name": "stdout",
     "output_type": "stream",
     "text": [
      "Epoch 1/10\n",
      "1349/1349 [==============================] - 3s 2ms/step - loss: 0.2944 - MAE: 0.3137 - MAPE: 4.1066 - val_loss: 0.0570 - val_MAE: 0.1827 - val_MAPE: 2.33650.8306 - MAE: 0.5 - E\n",
      "Epoch 2/10\n",
      "1349/1349 [==============================] - 3s 2ms/step - loss: 0.0533 - MAE: 0.1739 - MAPE: 2.2332 - val_loss: 0.0530 - val_MAE: 0.1683 - val_MAPE: 2.1816\n",
      "Epoch 3/10\n",
      "1349/1349 [==============================] - 3s 2ms/step - loss: 0.0500 - MAE: 0.1673 - MAPE: 2.1472 - val_loss: 0.0496 - val_MAE: 0.1648 - val_MAPE: 2.1244\n",
      "Epoch 4/10\n",
      "1349/1349 [==============================] - 3s 2ms/step - loss: 0.0473 - MAE: 0.1622 - MAPE: 2.0827 - val_loss: 0.0498 - val_MAE: 0.1691 - val_MAPE: 2.1496\n",
      "Epoch 5/10\n",
      "1349/1349 [==============================] - 3s 2ms/step - loss: 0.0448 - MAE: 0.1571 - MAPE: 2.0191 - val_loss: 0.0457 - val_MAE: 0.1540 - val_MAPE: 2.0015\n",
      "Epoch 6/10\n",
      "1349/1349 [==============================] - 3s 2ms/step - loss: 0.0426 - MAE: 0.1526 - MAPE: 1.9620 - val_loss: 0.0453 - val_MAE: 0.1508 - val_MAPE: 1.9738\n",
      "Epoch 7/10\n",
      "1349/1349 [==============================] - 3s 2ms/step - loss: 0.0406 - MAE: 0.1482 - MAPE: 1.9070 - val_loss: 0.0417 - val_MAE: 0.1452 - val_MAPE: 1.8822\n",
      "Epoch 8/10\n",
      "1349/1349 [==============================] - 3s 2ms/step - loss: 0.0388 - MAE: 0.1442 - MAPE: 1.8575 - val_loss: 0.0399 - val_MAE: 0.1433 - val_MAPE: 1.8447\n",
      "Epoch 9/10\n",
      "1349/1349 [==============================] - 3s 2ms/step - loss: 0.0371 - MAE: 0.1402 - MAPE: 1.8068 - val_loss: 0.0391 - val_MAE: 0.1379 - val_MAPE: 1.7978\n",
      "Epoch 10/10\n",
      "1349/1349 [==============================] - 3s 2ms/step - loss: 0.0355 - MAE: 0.1367 - MAPE: 1.7636 - val_loss: 0.0375 - val_MAE: 0.1346 - val_MAPE: 1.7528\n"
     ]
    },
    {
     "data": {
      "text/plain": [
       "<keras.callbacks.History at 0x1ee9b7415e0>"
      ]
     },
     "execution_count": 77,
     "metadata": {},
     "output_type": "execute_result"
    }
   ],
   "source": [
    "model.compile(loss='MSE',optimizer='sgd',metrics=['MAE','MAPE'])\n",
    "model.fit(train_x,train_y,validation_data=(test_x,test_y),epochs=10)"
   ]
  },
  {
   "cell_type": "markdown",
   "metadata": {},
   "source": [
    "## MNIST"
   ]
  },
  {
   "cell_type": "code",
   "execution_count": 2,
   "metadata": {},
   "outputs": [],
   "source": [
    "(train_x, train_y), (test_x, test_y) = tf.keras.datasets.mnist.load_data()"
   ]
  },
  {
   "cell_type": "code",
   "execution_count": 98,
   "metadata": {},
   "outputs": [
    {
     "data": {
      "text/plain": [
       "((60000, 28, 28), 255)"
      ]
     },
     "execution_count": 98,
     "metadata": {},
     "output_type": "execute_result"
    }
   ],
   "source": [
    "train_x.shape, train_x.max()"
   ]
  },
  {
   "cell_type": "code",
   "execution_count": 3,
   "metadata": {},
   "outputs": [],
   "source": [
    "train_x = train_x.astype(np.float32)/256.0\n",
    "test_x = test_x.astype(np.float32)/256.0"
   ]
  },
  {
   "cell_type": "code",
   "execution_count": 4,
   "metadata": {},
   "outputs": [
    {
     "name": "stdout",
     "output_type": "stream",
     "text": [
      "Model: \"sequential\"\n",
      "_________________________________________________________________\n",
      "Layer (type)                 Output Shape              Param #   \n",
      "=================================================================\n",
      "flatten (Flatten)            (None, 784)               0         \n",
      "_________________________________________________________________\n",
      "dense (Dense)                (None, 100)               78500     \n",
      "_________________________________________________________________\n",
      "dense_1 (Dense)              (None, 10)                1010      \n",
      "=================================================================\n",
      "Total params: 79,510\n",
      "Trainable params: 79,510\n",
      "Non-trainable params: 0\n",
      "_________________________________________________________________\n"
     ]
    }
   ],
   "source": [
    "model = keras.Sequential([\n",
    "    keras.layers.Flatten(input_shape=(28,28)),\n",
    "    keras.layers.Dense(100,activation='relu'),\n",
    "    keras.layers.Dense(10,activation='softmax')\n",
    "])\n",
    "model.summary()"
   ]
  },
  {
   "cell_type": "code",
   "execution_count": 110,
   "metadata": {},
   "outputs": [
    {
     "data": {
      "text/plain": [
       "((60000,), (60000, 10))"
      ]
     },
     "execution_count": 110,
     "metadata": {},
     "output_type": "execute_result"
    }
   ],
   "source": [
    "train_y_oh = keras.utils.to_categorical(train_y,10)\n",
    "test_y_oh = keras.utils.to_categorical(test_y,10)\n",
    "train_y.shape, train_y_oh.shape"
   ]
  },
  {
   "cell_type": "code",
   "execution_count": 113,
   "metadata": {},
   "outputs": [
    {
     "name": "stdout",
     "output_type": "stream",
     "text": [
      "Epoch 1/10\n",
      "1875/1875 [==============================] - 5s 3ms/step - loss: 0.2741 - acc: 0.9220 - val_loss: 0.1496 - val_acc: 0.9545\n",
      "Epoch 2/10\n",
      "1875/1875 [==============================] - 6s 3ms/step - loss: 0.1239 - acc: 0.9635 - val_loss: 0.1080 - val_acc: 0.9686\n",
      "Epoch 3/10\n",
      "1875/1875 [==============================] - 5s 3ms/step - loss: 0.0849 - acc: 0.9746 - val_loss: 0.1049 - val_acc: 0.9669\n",
      "Epoch 4/10\n",
      "1875/1875 [==============================] - 5s 3ms/step - loss: 0.0653 - acc: 0.9797 - val_loss: 0.0873 - val_acc: 0.9726\n",
      "Epoch 5/10\n",
      "1875/1875 [==============================] - 5s 3ms/step - loss: 0.0509 - acc: 0.9844 - val_loss: 0.0756 - val_acc: 0.97630.\n",
      "Epoch 6/10\n",
      "1875/1875 [==============================] - 5s 3ms/step - loss: 0.0411 - acc: 0.9871 - val_loss: 0.0827 - val_acc: 0.9743 0.\n",
      "Epoch 7/10\n",
      "1875/1875 [==============================] - 5s 3ms/step - loss: 0.0342 - acc: 0.9893 - val_loss: 0.0805 - val_acc: 0.9768\n",
      "Epoch 8/10\n",
      "1875/1875 [==============================] - 5s 3ms/step - loss: 0.0277 - acc: 0.9912 - val_loss: 0.0754 - val_acc: 0.9768\n",
      "Epoch 9/10\n",
      "1875/1875 [==============================] - 5s 3ms/step - loss: 0.0222 - acc: 0.9933 - val_loss: 0.0791 - val_acc: 0.9787\n",
      "Epoch 10/10\n",
      "1875/1875 [==============================] - 6s 3ms/step - loss: 0.0201 - acc: 0.9940 - val_loss: 0.0855 - val_acc: 0.9768\n"
     ]
    }
   ],
   "source": [
    "model.compile(loss='categorical_crossentropy',optimizer='adam',metrics=['acc'])\n",
    "hist = model.fit(train_x,train_y_oh,validation_data=(test_x,test_y_oh),epochs=10)"
   ]
  },
  {
   "cell_type": "code",
   "execution_count": 115,
   "metadata": {},
   "outputs": [
    {
     "data": {
      "image/png": "[encoded data removed]",
      "text/plain": [
       "<Figure size 432x288 with 1 Axes>"
      ]
     },
     "metadata": {
      "needs_background": "light"
     },
     "output_type": "display_data"
    }
   ],
   "source": [
    "plt.plot(hist.history['acc'])\n",
    "plt.plot(hist.history['val_acc'])\n",
    "plt.show()"
   ]
  },
  {
   "cell_type": "code",
   "execution_count": 5,
   "metadata": {},
   "outputs": [
    {
     "name": "stdout",
     "output_type": "stream",
     "text": [
      "Epoch 1/10\n",
      "1875/1875 [==============================] - 13s 7ms/step - loss: 0.2758 - acc: 0.9209 - val_loss: 0.1539 - val_acc: 0.9557\n",
      "Epoch 2/10\n",
      "1875/1875 [==============================] - 21s 11ms/step - loss: 0.1255 - acc: 0.9625 - val_loss: 0.1060 - val_acc: 0.9677\n",
      "Epoch 3/10\n",
      "1875/1875 [==============================] - 26s 14ms/step - loss: 0.0875 - acc: 0.9734 - val_loss: 0.0973 - val_acc: 0.9701\n",
      "Epoch 4/10\n",
      "1875/1875 [==============================] - 6s 3ms/step - loss: 0.0675 - acc: 0.9795 - val_loss: 0.0787 - val_acc: 0.9773\n",
      "Epoch 5/10\n",
      "1875/1875 [==============================] - 6s 3ms/step - loss: 0.0531 - acc: 0.9836 - val_loss: 0.0804 - val_acc: 0.9742\n",
      "Epoch 6/10\n",
      "1875/1875 [==============================] - 6s 3ms/step - loss: 0.0430 - acc: 0.9867 - val_loss: 0.0810 - val_acc: 0.9762\n",
      "Epoch 7/10\n",
      "1875/1875 [==============================] - 7s 4ms/step - loss: 0.0352 - acc: 0.9892 - val_loss: 0.0786 - val_acc: 0.9777\n",
      "Epoch 8/10\n",
      "1875/1875 [==============================] - 6s 3ms/step - loss: 0.0288 - acc: 0.9910 - val_loss: 0.0869 - val_acc: 0.9759\n",
      "Epoch 9/10\n",
      "1875/1875 [==============================] - 6s 3ms/step - loss: 0.0252 - acc: 0.9925 - val_loss: 0.0796 - val_acc: 0.9774\n",
      "Epoch 10/10\n",
      "1875/1875 [==============================] - 7s 4ms/step - loss: 0.0199 - acc: 0.9939 - val_loss: 0.0840 - val_acc: 0.9775\n"
     ]
    },
    {
     "data": {
      "text/plain": [
       "<keras.callbacks.History at 0x22f000b1d90>"
      ]
     },
     "execution_count": 5,
     "metadata": {},
     "output_type": "execute_result"
    }
   ],
   "source": [
    "model.compile(loss='sparse_categorical_crossentropy',optimizer='adam',metrics=['acc'])\n",
    "model.fit(train_x,train_y,validation_data=(test_x,test_y),epochs=10)"
   ]
  },
  {
   "cell_type": "code",
   "execution_count": 8,
   "metadata": {},
   "outputs": [
    {
     "data": {
      "text/plain": [
       "(array([6.97525522e-08, 1.45022785e-08, 6.36827565e-07, 8.77206912e-05,\n",
       "        2.63948086e-12, 7.80755016e-08, 5.54000364e-16, 9.99837518e-01,\n",
       "        7.80763969e-08, 7.38739982e-05], dtype=float32),\n",
       " <tf.Tensor: shape=(), dtype=int64, numpy=7>)"
      ]
     },
     "execution_count": 8,
     "metadata": {},
     "output_type": "execute_result"
    }
   ],
   "source": [
    "pred_p = model.predict(test_x)\n",
    "pred_c = tf.argmax(pred_p,axis=1)\n",
    "pred_p[0],pred_c[0]"
   ]
  },
  {
   "cell_type": "code",
   "execution_count": 122,
   "metadata": {},
   "outputs": [
    {
     "data": {
      "text/plain": [
       "(0.9399166703224182, 0.9326000213623047)"
      ]
     },
     "execution_count": 122,
     "metadata": {},
     "output_type": "execute_result"
    }
   ],
   "source": [
    "def run(activation, n_neurons):\n",
    "    model = keras.Sequential([\n",
    "        keras.layers.Flatten(input_shape=(28,28)),\n",
    "        keras.layers.Dense(n_neurons,activation=activation),\n",
    "        keras.layers.Dense(10,activation='softmax')])\n",
    "    estop = tf.keras.callbacks.EarlyStopping(monitor='val_acc', patience=3)\n",
    "    model.compile(loss='sparse_categorical_crossentropy',optimizer='adam',metrics=['acc'])\n",
    "    hist = model.fit(train_x,train_y,validation_data=(test_x,test_y),epochs=10,verbose=False,callbacks=[estop])\n",
    "    return np.max(hist.history['acc']), np.max(hist.history['val_acc'])\n",
    "\n",
    "run('tanh',10)"
   ]
  },
  {
   "cell_type": "code",
   "execution_count": 121,
   "metadata": {},
   "outputs": [
    {
     "name": "stdout",
     "output_type": "stream",
     "text": [
      "relu,5 -> train=0.8934833407402039, val=0.8902999758720398\n",
      "relu,10 -> train=0.9408166408538818, val=0.9362999796867371\n",
      "relu,100 -> train=0.9935666918754578, val=0.9775999784469604\n",
      "tanh,5 -> train=0.8752666711807251, val=0.8736000061035156\n",
      "tanh,10 -> train=0.9403499960899353, val=0.9329000115394592\n",
      "tanh,100 -> train=0.995033323764801, val=0.9767000079154968\n",
      "sigmoid,5 -> train=0.8840333223342896, val=0.8819000124931335\n",
      "sigmoid,10 -> train=0.9314333200454712, val=0.9243999719619751\n",
      "sigmoid,100 -> train=0.9892500042915344, val=0.9768999814987183\n"
     ]
    }
   ],
   "source": [
    "for act in ['relu','tanh','sigmoid']:\n",
    "    for n in [5,10,100]:\n",
    "        acc, vacc = run(act,n)\n",
    "        print(f\"{act},{n} -> train={acc}, val={vacc}\")"
   ]
  },
  {
   "cell_type": "code",
   "execution_count": null,
   "metadata": {},
   "outputs": [],
   "source": []
  }
 ],
 "metadata": {
  "kernelspec": {
   "display_name": "Python 3.9.12 ('base')",
   "language": "python",
   "name": "python3"
  },
  "language_info": {
   "codemirror_mode": {
    "name": "ipython",
    "version": 3
   },
   "file_extension": ".py",
   "mimetype": "text/x-python",
   "name": "python",
   "nbconvert_exporter": "python",
   "pygments_lexer": "ipython3",
   "version": "3.9.12"
  },
  "orig_nbformat": 4,
  "vscode": {
   "interpreter": {
    "hash": "d21c24a7952cc9fa93a33c3da71b373ffe761d6ab0c9cc9b2153e31da51ffb58"
   }
  }
 },
 "nbformat": 4,
 "nbformat_minor": 2
}
