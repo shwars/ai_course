{
  "nbformat": 4,
  "nbformat_minor": 0,
  "metadata": {
    "colab": {
      "provenance": []
    },
    "kernelspec": {
      "name": "python3",
      "display_name": "Python 3"
    },
    "language_info": {
      "name": "python"
    },
    "accelerator": "GPU",
    "gpuClass": "standard"
  },
  "cells": [
    {
      "cell_type": "markdown",
      "source": [
        "## Нейросетевая библиотека PyTorch"
      ],
      "metadata": {
        "id": "wBKukZlJFMOg"
      }
    },
    {
      "cell_type": "code",
      "execution_count": 1,
      "metadata": {
        "id": "0DDEugVIFIZ2",
        "colab": {
          "base_uri": "https://localhost:8080/"
        },
        "outputId": "92537916-efb8-45c7-ff0b-e1dc91fd340f"
      },
      "outputs": [
        {
          "output_type": "stream",
          "name": "stdout",
          "text": [
            "1.13.1+cu116\n"
          ]
        }
      ],
      "source": [
        "import numpy as np\n",
        "import torch\n",
        "print(torch.__version__)"
      ]
    },
    {
      "cell_type": "code",
      "source": [
        "a = torch.tensor([[1,2],[3,4]],dtype=float)\n",
        "a = torch.randn(size=(10,3))\n",
        "a"
      ],
      "metadata": {
        "colab": {
          "base_uri": "https://localhost:8080/"
        },
        "id": "yz287PMZMEyP",
        "outputId": "ebe81875-d906-406a-cad8-339ee62c399c"
      },
      "execution_count": 3,
      "outputs": [
        {
          "output_type": "execute_result",
          "data": {
            "text/plain": [
              "tensor([[-0.5725, -0.1040,  0.6807],\n",
              "        [ 1.6723, -0.7558, -2.0073],\n",
              "        [ 1.4698,  1.0233,  0.4213],\n",
              "        [-0.8209,  0.8029, -0.9274],\n",
              "        [-1.0998,  0.5274,  0.1284],\n",
              "        [ 0.0674,  0.1124, -0.0326],\n",
              "        [-1.1702, -1.2863,  0.9757],\n",
              "        [-0.3621, -0.2239,  0.8582],\n",
              "        [ 1.2713,  0.8582, -0.3276],\n",
              "        [-0.2387,  0.1378, -0.8210]])"
            ]
          },
          "metadata": {},
          "execution_count": 3
        }
      ]
    },
    {
      "cell_type": "code",
      "source": [
        "torch.exp(a)-2*a"
      ],
      "metadata": {
        "colab": {
          "base_uri": "https://localhost:8080/"
        },
        "id": "zchwJi2sMGO3",
        "outputId": "0d155a47-3481-4113-d797-2d12ac50b888"
      },
      "execution_count": 4,
      "outputs": [
        {
          "output_type": "execute_result",
          "data": {
            "text/plain": [
              "tensor([[1.7092, 1.1093, 0.6139],\n",
              "        [1.9798, 1.9813, 4.1490],\n",
              "        [1.4088, 0.7358, 0.6813],\n",
              "        [2.0819, 0.6262, 2.2504],\n",
              "        [2.5325, 0.6397, 0.8802],\n",
              "        [0.9349, 0.8942, 1.0332],\n",
              "        [2.6508, 2.8489, 0.7016],\n",
              "        [1.4204, 1.2472, 0.6425],\n",
              "        [1.0229, 0.6425, 1.3758],\n",
              "        [1.2651, 0.8722, 2.0819]])"
            ]
          },
          "metadata": {},
          "execution_count": 4
        }
      ]
    },
    {
      "cell_type": "code",
      "source": [
        "u = torch.tensor(5)\n",
        "print(u.add(torch.tensor(3)))\n",
        "print(u)\n",
        "u.add_(torch.tensor(3))\n",
        "print(u)"
      ],
      "metadata": {
        "colab": {
          "base_uri": "https://localhost:8080/"
        },
        "id": "i11ZIYe7zv6k",
        "outputId": "4ea14cfe-8d57-4852-ccfe-74951010c682"
      },
      "execution_count": 9,
      "outputs": [
        {
          "output_type": "stream",
          "name": "stdout",
          "text": [
            "tensor(8)\n",
            "tensor(5)\n",
            "tensor(8)\n"
          ]
        }
      ]
    },
    {
      "cell_type": "markdown",
      "source": [
        "#### Переменные и сумма матрицы по строкам"
      ],
      "metadata": {
        "id": "QYEkCTV8N0VQ"
      }
    },
    {
      "cell_type": "code",
      "source": [
        "a = torch.randn(size=(5,5))\n",
        "a"
      ],
      "metadata": {
        "colab": {
          "base_uri": "https://localhost:8080/"
        },
        "id": "te5nAVgfMm8y",
        "outputId": "4e9fbbed-68ac-4a54-ced6-cfdb568220f1"
      },
      "execution_count": 11,
      "outputs": [
        {
          "output_type": "execute_result",
          "data": {
            "text/plain": [
              "tensor([[-2.1570, -1.2690,  1.6740, -0.5170,  0.7219],\n",
              "        [ 0.3379, -1.9608,  0.9911,  0.2208, -0.4174],\n",
              "        [ 0.3506, -0.8864, -1.6838, -1.3194, -0.7380],\n",
              "        [-0.2595,  1.5099,  2.0290,  0.3178, -0.3420],\n",
              "        [ 1.6997, -0.8599,  0.1461,  0.1846, -1.3741]])"
            ]
          },
          "metadata": {},
          "execution_count": 11
        }
      ]
    },
    {
      "cell_type": "code",
      "source": [
        "s = torch.zeros(size=(5,))\n",
        "for x in a:\n",
        "  s.add_(x)\n",
        "\n",
        "s"
      ],
      "metadata": {
        "colab": {
          "base_uri": "https://localhost:8080/"
        },
        "id": "4hkSae8bNsvo",
        "outputId": "9d66b5fa-88da-4cd0-b4af-40aa70d478e9"
      },
      "execution_count": 13,
      "outputs": [
        {
          "output_type": "execute_result",
          "data": {
            "text/plain": [
              "tensor([-0.0282, -3.4662,  3.1565, -1.1132, -2.1496])"
            ]
          },
          "metadata": {},
          "execution_count": 13
        }
      ]
    },
    {
      "cell_type": "code",
      "source": [
        "torch.sum(a,axis=0)"
      ],
      "metadata": {
        "colab": {
          "base_uri": "https://localhost:8080/"
        },
        "id": "aPZ6D07jN_vl",
        "outputId": "18107f20-c561-4394-a883-7963bc47da13"
      },
      "execution_count": 15,
      "outputs": [
        {
          "output_type": "execute_result",
          "data": {
            "text/plain": [
              "tensor([-0.0282, -3.4662,  3.1565, -1.1132, -2.1496])"
            ]
          },
          "metadata": {},
          "execution_count": 15
        }
      ]
    },
    {
      "cell_type": "markdown",
      "source": [
        "#### Производные"
      ],
      "metadata": {
        "id": "yQIAxZ3dP1Vi"
      }
    },
    {
      "cell_type": "code",
      "source": [
        "a = torch.randn(size=(2,2),requires_grad=True)\n",
        "b = torch.randn(size=a.shape)\n"
      ],
      "metadata": {
        "id": "LZC9CqWYPBWr"
      },
      "execution_count": 21,
      "outputs": []
    },
    {
      "cell_type": "code",
      "source": [
        "def f(a,b): return torch.sqrt(torch.square(a)+torch.square(b))\n",
        "\n",
        "f(a,b)"
      ],
      "metadata": {
        "colab": {
          "base_uri": "https://localhost:8080/"
        },
        "id": "miX1ETIZPFV4",
        "outputId": "9b1e4622-9d2f-4471-b5cf-4b31affc8bab"
      },
      "execution_count": 22,
      "outputs": [
        {
          "output_type": "execute_result",
          "data": {
            "text/plain": [
              "tensor([[0.5804, 0.2302],\n",
              "        [0.8949, 1.6826]], grad_fn=<SqrtBackward0>)"
            ]
          },
          "metadata": {},
          "execution_count": 22
        }
      ]
    },
    {
      "cell_type": "code",
      "source": [
        "c = torch.mean(f(a,b))\n",
        "c.backward()\n",
        "a.grad"
      ],
      "metadata": {
        "colab": {
          "base_uri": "https://localhost:8080/"
        },
        "id": "p0zP6cXbQHbf",
        "outputId": "9a88d7a2-9176-4ac2-a064-647bbee45046"
      },
      "execution_count": 23,
      "outputs": [
        {
          "output_type": "execute_result",
          "data": {
            "text/plain": [
              "tensor([[ 0.1263,  0.1817],\n",
              "        [ 0.1357, -0.2141]])"
            ]
          },
          "metadata": {},
          "execution_count": 23
        }
      ]
    },
    {
      "cell_type": "markdown",
      "source": [
        "#### Оптимизация функции градиентным спуском"
      ],
      "metadata": {
        "id": "PBJeNZYISLj3"
      }
    },
    {
      "cell_type": "code",
      "source": [
        "import matplotlib.pyplot as plt\n",
        "\n",
        "def f(x) : return torch.sum((x-torch.tensor([2.0,-1.0]))**2,axis=-1) - 3.0\n",
        "# def f(x) : return (x[0]-2.0)**2 + (x[1]+1.0)**2 - 3.0"
      ],
      "metadata": {
        "id": "jPq67qzlRue3"
      },
      "execution_count": 51,
      "outputs": []
    },
    {
      "cell_type": "code",
      "source": [
        "f(torch.tensor([[1.0,2.0],[2.0,3.0],[4,5]]))"
      ],
      "metadata": {
        "colab": {
          "base_uri": "https://localhost:8080/"
        },
        "id": "9HQBycgP2EKm",
        "outputId": "79db2759-407f-4a76-b631-ee1a9a3b13f7"
      },
      "execution_count": 52,
      "outputs": [
        {
          "output_type": "execute_result",
          "data": {
            "text/plain": [
              "tensor([ 7., 13., 37.])"
            ]
          },
          "metadata": {},
          "execution_count": 52
        }
      ]
    },
    {
      "cell_type": "code",
      "source": [
        "U,V = np.meshgrid(np.linspace(-5,5,20),np.linspace(-5,5,20))"
      ],
      "metadata": {
        "id": "UtbbSOIoSemc"
      },
      "execution_count": 53,
      "outputs": []
    },
    {
      "cell_type": "code",
      "source": [
        "A = torch.tensor([U.astype(np.float32),V.astype(np.float32)]).permute(1,2,0)\n",
        "A.shape"
      ],
      "metadata": {
        "colab": {
          "base_uri": "https://localhost:8080/"
        },
        "id": "wOxpgTFvSqhw",
        "outputId": "48ba7902-2b5d-47d7-a938-0f6121facad9"
      },
      "execution_count": 59,
      "outputs": [
        {
          "output_type": "execute_result",
          "data": {
            "text/plain": [
              "torch.Size([20, 20, 2])"
            ]
          },
          "metadata": {},
          "execution_count": 59
        }
      ]
    },
    {
      "cell_type": "code",
      "source": [
        "f(A).shape"
      ],
      "metadata": {
        "colab": {
          "base_uri": "https://localhost:8080/"
        },
        "id": "Cw30Byot5rgu",
        "outputId": "6982566e-56e9-4789-827a-36f2a55754c0"
      },
      "execution_count": 61,
      "outputs": [
        {
          "output_type": "execute_result",
          "data": {
            "text/plain": [
              "torch.Size([20, 20])"
            ]
          },
          "metadata": {},
          "execution_count": 61
        }
      ]
    },
    {
      "cell_type": "code",
      "source": [
        "plt.contourf(U,V,f(A))"
      ],
      "metadata": {
        "colab": {
          "base_uri": "https://localhost:8080/",
          "height": 283
        },
        "id": "trG7UH77VJDC",
        "outputId": "a3944f10-b734-4b58-fa77-f036833cd423"
      },
      "execution_count": 62,
      "outputs": [
        {
          "output_type": "execute_result",
          "data": {
            "text/plain": [
              "<matplotlib.contour.QuadContourSet at 0x7f8803bc6d00>"
            ]
          },
          "metadata": {},
          "execution_count": 62
        },
        {
          "output_type": "display_data",
          "data": {
            "text/plain": [
              "<Figure size 432x288 with 1 Axes>"
            ],
            "image/png": "[encoded data removed]"
          },
          "metadata": {
            "needs_background": "light"
          }
        }
      ]
    },
    {
      "cell_type": "code",
      "source": [
        "x = torch.tensor([-4.0,4.0],requires_grad=True)\n",
        "eta = 0.2\n",
        "hx = []\n",
        "for _ in range(15):\n",
        "  print(f\"x={x}, f(x)={f(x)}\")\n",
        "  hx.append(x.detach().numpy().copy())\n",
        "  z = f(x)\n",
        "  z.backward()\n",
        "  grad = x.grad\n",
        "  x.data.add_(-eta*grad)\n",
        "  x.grad.zero_()"
      ],
      "metadata": {
        "colab": {
          "base_uri": "https://localhost:8080/"
        },
        "id": "5VTVi5_sWAge",
        "outputId": "af8845ed-0673-4735-a9c2-bd273d9128a6"
      },
      "execution_count": 76,
      "outputs": [
        {
          "output_type": "stream",
          "name": "stdout",
          "text": [
            "x=tensor([-4.,  4.], requires_grad=True), f(x)=58.0\n",
            "x=tensor([-1.6000,  2.0000], requires_grad=True), f(x)=18.959999084472656\n",
            "x=tensor([-0.1600,  0.8000], requires_grad=True), f(x)=4.905599117279053\n",
            "x=tensor([0.7040, 0.0800], requires_grad=True), f(x)=-0.15398406982421875\n",
            "x=tensor([ 1.2224, -0.3520], requires_grad=True), f(x)=-1.9754341840744019\n",
            "x=tensor([ 1.5334, -0.6112], requires_grad=True), f(x)=-2.6311564445495605\n",
            "x=tensor([ 1.7201, -0.7667], requires_grad=True), f(x)=-2.8672163486480713\n",
            "x=tensor([ 1.8320, -0.8600], requires_grad=True), f(x)=-2.952197790145874\n",
            "x=tensor([ 1.8992, -0.9160], requires_grad=True), f(x)=-2.9827911853790283\n",
            "x=tensor([ 1.9395, -0.9496], requires_grad=True), f(x)=-2.993804931640625\n",
            "x=tensor([ 1.9637, -0.9698], requires_grad=True), f(x)=-2.997769832611084\n",
            "x=tensor([ 1.9782, -0.9819], requires_grad=True), f(x)=-2.999197006225586\n",
            "x=tensor([ 1.9869, -0.9891], requires_grad=True), f(x)=-2.999711036682129\n",
            "x=tensor([ 1.9922, -0.9935], requires_grad=True), f(x)=-2.9998960494995117\n",
            "x=tensor([ 1.9953, -0.9961], requires_grad=True), f(x)=-2.999962568283081\n"
          ]
        }
      ]
    },
    {
      "cell_type": "code",
      "source": [
        "hx = np.array(hx)\n",
        "plt.contourf(U,V,f(A))\n",
        "plt.scatter(hx[:,0],hx[:,1])"
      ],
      "metadata": {
        "colab": {
          "base_uri": "https://localhost:8080/",
          "height": 283
        },
        "id": "edfavAvTWU7A",
        "outputId": "345bce5d-67ad-4cc1-f837-6cb24295f1f7"
      },
      "execution_count": 77,
      "outputs": [
        {
          "output_type": "execute_result",
          "data": {
            "text/plain": [
              "<matplotlib.collections.PathCollection at 0x7f8803a97700>"
            ]
          },
          "metadata": {},
          "execution_count": 77
        },
        {
          "output_type": "display_data",
          "data": {
            "text/plain": [
              "<Figure size 432x288 with 1 Axes>"
            ],
            "image/png": "[encoded data removed]"
          },
          "metadata": {
            "needs_background": "light"
          }
        }
      ]
    },
    {
      "cell_type": "markdown",
      "source": [
        "## Регрессия на PyTorch"
      ],
      "metadata": {
        "id": "S_NZFiJvZgpP"
      }
    },
    {
      "cell_type": "code",
      "source": [
        "X = np.linspace(0,3,120)\n",
        "Y = 2.0*X + 1.0 + np.random.normal(size=(120,))*0.5"
      ],
      "metadata": {
        "id": "agwzHcfIY_1l"
      },
      "execution_count": 78,
      "outputs": []
    },
    {
      "cell_type": "code",
      "source": [
        "plt.scatter(X,Y)"
      ],
      "metadata": {
        "colab": {
          "base_uri": "https://localhost:8080/",
          "height": 283
        },
        "id": "PBGX3PdXZ2Aw",
        "outputId": "01a005c0-8d08-4cff-bfe2-6265a3dbe8e1"
      },
      "execution_count": 79,
      "outputs": [
        {
          "output_type": "execute_result",
          "data": {
            "text/plain": [
              "<matplotlib.collections.PathCollection at 0x7f88039e4490>"
            ]
          },
          "metadata": {},
          "execution_count": 79
        },
        {
          "output_type": "display_data",
          "data": {
            "text/plain": [
              "<Figure size 432x288 with 1 Axes>"
            ],
            "image/png": "[encoded data removed]"
          },
          "metadata": {
            "needs_background": "light"
          }
        }
      ]
    },
    {
      "cell_type": "code",
      "source": [
        "w = torch.tensor([-1.0],requires_grad=True,dtype=torch.float32)\n",
        "b = torch.zeros(size=(1,),requires_grad=True,dtype=torch.float32)\n",
        "\n",
        "def f(x): return torch.matmul(x,w)+b\n",
        "\n",
        "def loss(a,b):\n",
        "  return torch.sum((a-b)**2)\n",
        "\n",
        "Xt = torch.tensor(X,dtype=torch.float32).reshape(-1,1)\n",
        "Yt = torch.tensor(Y,dtype=torch.float32)\n",
        "\n",
        "loss(f(Xt),Yt)"
      ],
      "metadata": {
        "colab": {
          "base_uri": "https://localhost:8080/"
        },
        "id": "-c3LhsOfZ3_e",
        "outputId": "ac3ee881-2de0-467b-ce12-01fafc970b15"
      },
      "execution_count": 92,
      "outputs": [
        {
          "output_type": "execute_result",
          "data": {
            "text/plain": [
              "tensor(4430.3491, grad_fn=<SumBackward0>)"
            ]
          },
          "metadata": {},
          "execution_count": 92
        }
      ]
    },
    {
      "cell_type": "code",
      "source": [
        "eta = 0.002\n",
        "for _ in range(50):\n",
        "  z = loss(f(Xt),Yt)\n",
        "  z.backward()\n",
        "  w.data.add_(-eta*w.grad)\n",
        "  b.data.add_(-eta*b.grad)\n",
        "  w.grad.zero_()\n",
        "  b.grad.zero_()\n",
        "  print(f\"w={w}, b={b}, loss={z}\")\n"
      ],
      "metadata": {
        "colab": {
          "base_uri": "https://localhost:8080/"
        },
        "id": "GIKEXoe8aua2",
        "outputId": "0b3d50a5-b747-4526-c428-62018d314920"
      },
      "execution_count": 93,
      "outputs": [
        {
          "output_type": "stream",
          "name": "stdout",
          "text": [
            "w=tensor([4.0245], requires_grad=True), b=tensor([2.6373], requires_grad=True), loss=4430.34912109375\n",
            "w=tensor([-0.1155], requires_grad=True), b=tensor([0.3911], requires_grad=True), loss=3061.53125\n",
            "w=tensor([3.3484], requires_grad=True), b=tensor([2.2038], requires_grad=True), loss=2118.375732421875\n",
            "w=tensor([0.4981], requires_grad=True), b=tensor([0.6524], requires_grad=True), loss=1468.5050048828125\n",
            "w=tensor([2.8865], requires_grad=True), b=tensor([1.8979], requires_grad=True), loss=1020.7094116210938\n",
            "w=tensor([0.9244], requires_grad=True), b=tensor([0.8259], requires_grad=True), loss=712.1481323242188\n",
            "w=tensor([2.5714], requires_grad=True), b=tensor([1.6812], requires_grad=True), loss=499.52227783203125\n",
            "w=tensor([1.2210], requires_grad=True), b=tensor([0.9401], requires_grad=True), loss=352.9993591308594\n",
            "w=tensor([2.3569], requires_grad=True), b=tensor([1.5270], requires_grad=True), loss=252.024658203125\n",
            "w=tensor([1.4276], requires_grad=True), b=tensor([1.0143], requires_grad=True), loss=182.4358673095703\n",
            "w=tensor([2.2113], requires_grad=True), b=tensor([1.4168], requires_grad=True), loss=134.4745635986328\n",
            "w=tensor([1.5719], requires_grad=True), b=tensor([1.0619], requires_grad=True), loss=101.41705322265625\n",
            "w=tensor([2.1127], requires_grad=True), b=tensor([1.3377], requires_grad=True), loss=78.63024139404297\n",
            "w=tensor([1.6729], requires_grad=True), b=tensor([1.0918], requires_grad=True), loss=62.92169189453125\n",
            "w=tensor([2.0461], requires_grad=True), b=tensor([1.2805], requires_grad=True), loss=52.09148406982422\n",
            "w=tensor([1.7438], requires_grad=True), b=tensor([1.1099], requires_grad=True), loss=44.62366485595703\n",
            "w=tensor([2.0015], requires_grad=True), b=tensor([1.2389], requires_grad=True), loss=39.473548889160156\n",
            "w=tensor([1.7936], requires_grad=True), b=tensor([1.1205], requires_grad=True), loss=35.921180725097656\n",
            "w=tensor([1.9716], requires_grad=True), b=tensor([1.2085], requires_grad=True), loss=33.47035598754883\n",
            "w=tensor([1.8289], requires_grad=True), b=tensor([1.1261], requires_grad=True), loss=31.779067993164062\n",
            "w=tensor([1.9518], requires_grad=True), b=tensor([1.1861], requires_grad=True), loss=30.6115665435791\n",
            "w=tensor([1.8538], requires_grad=True), b=tensor([1.1287], requires_grad=True), loss=29.80536651611328\n",
            "w=tensor([1.9388], requires_grad=True), b=tensor([1.1695], requires_grad=True), loss=29.248416900634766\n",
            "w=tensor([1.8716], requires_grad=True), b=tensor([1.1295], requires_grad=True), loss=28.863466262817383\n",
            "w=tensor([1.9304], requires_grad=True), b=tensor([1.1571], requires_grad=True), loss=28.597246170043945\n",
            "w=tensor([1.8843], requires_grad=True), b=tensor([1.1291], requires_grad=True), loss=28.413005828857422\n",
            "w=tensor([1.9250], requires_grad=True), b=tensor([1.1477], requires_grad=True), loss=28.285400390625\n",
            "w=tensor([1.8934], requires_grad=True), b=tensor([1.1281], requires_grad=True), loss=28.196941375732422\n",
            "w=tensor([1.9216], requires_grad=True), b=tensor([1.1407], requires_grad=True), loss=28.135541915893555\n",
            "w=tensor([1.9000], requires_grad=True), b=tensor([1.1269], requires_grad=True), loss=28.092878341674805\n",
            "w=tensor([1.9196], requires_grad=True), b=tensor([1.1353], requires_grad=True), loss=28.063182830810547\n",
            "w=tensor([1.9048], requires_grad=True), b=tensor([1.1255], requires_grad=True), loss=28.042478561401367\n",
            "w=tensor([1.9184], requires_grad=True), b=tensor([1.1311], requires_grad=True), loss=28.028018951416016\n",
            "w=tensor([1.9083], requires_grad=True), b=tensor([1.1242], requires_grad=True), loss=28.017887115478516\n",
            "w=tensor([1.9178], requires_grad=True), b=tensor([1.1279], requires_grad=True), loss=28.010778427124023\n",
            "w=tensor([1.9109], requires_grad=True), b=tensor([1.1230], requires_grad=True), loss=28.005767822265625\n",
            "w=tensor([1.9175], requires_grad=True), b=tensor([1.1254], requires_grad=True), loss=28.002233505249023\n",
            "w=tensor([1.9129], requires_grad=True), b=tensor([1.1219], requires_grad=True), loss=27.999717712402344\n",
            "w=tensor([1.9175], requires_grad=True), b=tensor([1.1234], requires_grad=True), loss=27.997926712036133\n",
            "w=tensor([1.9143], requires_grad=True), b=tensor([1.1209], requires_grad=True), loss=27.996646881103516\n",
            "w=tensor([1.9175], requires_grad=True), b=tensor([1.1219], requires_grad=True), loss=27.995725631713867\n",
            "w=tensor([1.9154], requires_grad=True), b=tensor([1.1201], requires_grad=True), loss=27.995058059692383\n",
            "w=tensor([1.9176], requires_grad=True), b=tensor([1.1207], requires_grad=True), loss=27.99456787109375\n",
            "w=tensor([1.9162], requires_grad=True), b=tensor([1.1193], requires_grad=True), loss=27.99420928955078\n",
            "w=tensor([1.9178], requires_grad=True), b=tensor([1.1197], requires_grad=True), loss=27.99394416809082\n",
            "w=tensor([1.9168], requires_grad=True), b=tensor([1.1187], requires_grad=True), loss=27.99374771118164\n",
            "w=tensor([1.9179], requires_grad=True), b=tensor([1.1189], requires_grad=True), loss=27.993606567382812\n",
            "w=tensor([1.9173], requires_grad=True), b=tensor([1.1182], requires_grad=True), loss=27.993492126464844\n",
            "w=tensor([1.9181], requires_grad=True), b=tensor([1.1183], requires_grad=True), loss=27.993410110473633\n",
            "w=tensor([1.9177], requires_grad=True), b=tensor([1.1178], requires_grad=True), loss=27.993343353271484\n"
          ]
        }
      ]
    },
    {
      "cell_type": "code",
      "source": [
        "plt.scatter(X,Y)\n",
        "with torch.no_grad():\n",
        "  plt.plot(X,f(Xt),color='r')"
      ],
      "metadata": {
        "colab": {
          "base_uri": "https://localhost:8080/",
          "height": 265
        },
        "id": "QjEa0pM8bnWb",
        "outputId": "d514c02b-84af-425d-9450-ca9b30e3ebd6"
      },
      "execution_count": 96,
      "outputs": [
        {
          "output_type": "display_data",
          "data": {
            "text/plain": [
              "<Figure size 432x288 with 1 Axes>"
            ],
            "image/png": "[encoded data removed]"
          },
          "metadata": {
            "needs_background": "light"
          }
        }
      ]
    },
    {
      "cell_type": "markdown",
      "source": [
        "## Вычисления на GPU"
      ],
      "metadata": {
        "id": "iuGLhlsB-I3K"
      }
    },
    {
      "cell_type": "code",
      "source": [
        "device = 'cuda' if torch.cuda.is_available() else 'cpu'\n",
        "print(f\"device={device}\")"
      ],
      "metadata": {
        "colab": {
          "base_uri": "https://localhost:8080/"
        },
        "id": "JabQDYKA9yu6",
        "outputId": "edbaffac-92fc-49dd-e06c-cf622f137b41"
      },
      "execution_count": 98,
      "outputs": [
        {
          "output_type": "stream",
          "name": "stdout",
          "text": [
            "device=cuda\n"
          ]
        }
      ]
    },
    {
      "cell_type": "code",
      "source": [
        "w = torch.tensor([-1.0],requires_grad=True,dtype=torch.float32,device=device)\n",
        "b = torch.zeros(size=(1,),requires_grad=True,dtype=torch.float32,device=device)\n",
        "\n",
        "Xt = torch.tensor(X,dtype=torch.float32).reshape(-1,1).to(device)\n",
        "Yt = torch.tensor(Y,dtype=torch.float32).to(device)\n",
        "\n",
        "eta = 0.002\n",
        "for _ in range(50):\n",
        "  z = loss(f(Xt),Yt)\n",
        "  z.backward()\n",
        "  w.data.add_(-eta*w.grad)\n",
        "  b.data.add_(-eta*b.grad)\n",
        "  w.grad.zero_()\n",
        "  b.grad.zero_()\n",
        "  print(f\"w={w}, b={b}, loss={z}\")\n",
        "\n"
      ],
      "metadata": {
        "colab": {
          "base_uri": "https://localhost:8080/"
        },
        "id": "1Wx8wPvn-A7E",
        "outputId": "fecfca3e-8713-48c0-f8b8-a2bfd194f3bc"
      },
      "execution_count": 99,
      "outputs": [
        {
          "output_type": "stream",
          "name": "stdout",
          "text": [
            "w=tensor([4.0245], device='cuda:0', requires_grad=True), b=tensor([2.6373], device='cuda:0', requires_grad=True), loss=4430.34912109375\n",
            "w=tensor([-0.1155], device='cuda:0', requires_grad=True), b=tensor([0.3911], device='cuda:0', requires_grad=True), loss=3061.529541015625\n",
            "w=tensor([3.3484], device='cuda:0', requires_grad=True), b=tensor([2.2038], device='cuda:0', requires_grad=True), loss=2118.3759765625\n",
            "w=tensor([0.4981], device='cuda:0', requires_grad=True), b=tensor([0.6524], device='cuda:0', requires_grad=True), loss=1468.505859375\n",
            "w=tensor([2.8865], device='cuda:0', requires_grad=True), b=tensor([1.8979], device='cuda:0', requires_grad=True), loss=1020.7110595703125\n",
            "w=tensor([0.9244], device='cuda:0', requires_grad=True), b=tensor([0.8259], device='cuda:0', requires_grad=True), loss=712.1494140625\n",
            "w=tensor([2.5714], device='cuda:0', requires_grad=True), b=tensor([1.6812], device='cuda:0', requires_grad=True), loss=499.5229797363281\n",
            "w=tensor([1.2210], device='cuda:0', requires_grad=True), b=tensor([0.9401], device='cuda:0', requires_grad=True), loss=352.99969482421875\n",
            "w=tensor([2.3569], device='cuda:0', requires_grad=True), b=tensor([1.5270], device='cuda:0', requires_grad=True), loss=252.02488708496094\n",
            "w=tensor([1.4276], device='cuda:0', requires_grad=True), b=tensor([1.0144], device='cuda:0', requires_grad=True), loss=182.43600463867188\n",
            "w=tensor([2.2113], device='cuda:0', requires_grad=True), b=tensor([1.4168], device='cuda:0', requires_grad=True), loss=134.47470092773438\n",
            "w=tensor([1.5719], device='cuda:0', requires_grad=True), b=tensor([1.0619], device='cuda:0', requires_grad=True), loss=101.4171371459961\n",
            "w=tensor([2.1127], device='cuda:0', requires_grad=True), b=tensor([1.3377], device='cuda:0', requires_grad=True), loss=78.63031768798828\n",
            "w=tensor([1.6729], device='cuda:0', requires_grad=True), b=tensor([1.0918], device='cuda:0', requires_grad=True), loss=62.92173767089844\n",
            "w=tensor([2.0461], device='cuda:0', requires_grad=True), b=tensor([1.2805], device='cuda:0', requires_grad=True), loss=52.09150695800781\n",
            "w=tensor([1.7438], device='cuda:0', requires_grad=True), b=tensor([1.1099], device='cuda:0', requires_grad=True), loss=44.623695373535156\n",
            "w=tensor([2.0015], device='cuda:0', requires_grad=True), b=tensor([1.2389], device='cuda:0', requires_grad=True), loss=39.47358703613281\n",
            "w=tensor([1.7936], device='cuda:0', requires_grad=True), b=tensor([1.1205], device='cuda:0', requires_grad=True), loss=35.92118835449219\n",
            "w=tensor([1.9716], device='cuda:0', requires_grad=True), b=tensor([1.2085], device='cuda:0', requires_grad=True), loss=33.4703483581543\n",
            "w=tensor([1.8289], device='cuda:0', requires_grad=True), b=tensor([1.1261], device='cuda:0', requires_grad=True), loss=31.779050827026367\n",
            "w=tensor([1.9518], device='cuda:0', requires_grad=True), b=tensor([1.1861], device='cuda:0', requires_grad=True), loss=30.61156463623047\n",
            "w=tensor([1.8538], device='cuda:0', requires_grad=True), b=tensor([1.1287], device='cuda:0', requires_grad=True), loss=29.80535888671875\n",
            "w=tensor([1.9388], device='cuda:0', requires_grad=True), b=tensor([1.1695], device='cuda:0', requires_grad=True), loss=29.248409271240234\n",
            "w=tensor([1.8716], device='cuda:0', requires_grad=True), b=tensor([1.1295], device='cuda:0', requires_grad=True), loss=28.86345863342285\n",
            "w=tensor([1.9304], device='cuda:0', requires_grad=True), b=tensor([1.1571], device='cuda:0', requires_grad=True), loss=28.597240447998047\n",
            "w=tensor([1.8843], device='cuda:0', requires_grad=True), b=tensor([1.1291], device='cuda:0', requires_grad=True), loss=28.41299819946289\n",
            "w=tensor([1.9250], device='cuda:0', requires_grad=True), b=tensor([1.1477], device='cuda:0', requires_grad=True), loss=28.285398483276367\n",
            "w=tensor([1.8934], device='cuda:0', requires_grad=True), b=tensor([1.1281], device='cuda:0', requires_grad=True), loss=28.196935653686523\n",
            "w=tensor([1.9216], device='cuda:0', requires_grad=True), b=tensor([1.1407], device='cuda:0', requires_grad=True), loss=28.135543823242188\n",
            "w=tensor([1.9000], device='cuda:0', requires_grad=True), b=tensor([1.1269], device='cuda:0', requires_grad=True), loss=28.092876434326172\n",
            "w=tensor([1.9196], device='cuda:0', requires_grad=True), b=tensor([1.1353], device='cuda:0', requires_grad=True), loss=28.063182830810547\n",
            "w=tensor([1.9048], device='cuda:0', requires_grad=True), b=tensor([1.1255], device='cuda:0', requires_grad=True), loss=28.04248046875\n",
            "w=tensor([1.9184], device='cuda:0', requires_grad=True), b=tensor([1.1311], device='cuda:0', requires_grad=True), loss=28.028017044067383\n",
            "w=tensor([1.9083], device='cuda:0', requires_grad=True), b=tensor([1.1242], device='cuda:0', requires_grad=True), loss=28.017887115478516\n",
            "w=tensor([1.9178], device='cuda:0', requires_grad=True), b=tensor([1.1279], device='cuda:0', requires_grad=True), loss=28.010780334472656\n",
            "w=tensor([1.9109], device='cuda:0', requires_grad=True), b=tensor([1.1230], device='cuda:0', requires_grad=True), loss=28.005769729614258\n",
            "w=tensor([1.9175], device='cuda:0', requires_grad=True), b=tensor([1.1254], device='cuda:0', requires_grad=True), loss=28.002225875854492\n",
            "w=tensor([1.9129], device='cuda:0', requires_grad=True), b=tensor([1.1219], device='cuda:0', requires_grad=True), loss=27.999717712402344\n",
            "w=tensor([1.9175], device='cuda:0', requires_grad=True), b=tensor([1.1234], device='cuda:0', requires_grad=True), loss=27.997926712036133\n",
            "w=tensor([1.9143], device='cuda:0', requires_grad=True), b=tensor([1.1209], device='cuda:0', requires_grad=True), loss=27.99665069580078\n",
            "w=tensor([1.9175], device='cuda:0', requires_grad=True), b=tensor([1.1219], device='cuda:0', requires_grad=True), loss=27.995723724365234\n",
            "w=tensor([1.9154], device='cuda:0', requires_grad=True), b=tensor([1.1201], device='cuda:0', requires_grad=True), loss=27.995052337646484\n",
            "w=tensor([1.9176], device='cuda:0', requires_grad=True), b=tensor([1.1207], device='cuda:0', requires_grad=True), loss=27.994565963745117\n",
            "w=tensor([1.9162], device='cuda:0', requires_grad=True), b=tensor([1.1193], device='cuda:0', requires_grad=True), loss=27.994211196899414\n",
            "w=tensor([1.9178], device='cuda:0', requires_grad=True), b=tensor([1.1197], device='cuda:0', requires_grad=True), loss=27.993947982788086\n",
            "w=tensor([1.9168], device='cuda:0', requires_grad=True), b=tensor([1.1187], device='cuda:0', requires_grad=True), loss=27.993751525878906\n",
            "w=tensor([1.9179], device='cuda:0', requires_grad=True), b=tensor([1.1189], device='cuda:0', requires_grad=True), loss=27.993608474731445\n",
            "w=tensor([1.9173], device='cuda:0', requires_grad=True), b=tensor([1.1182], device='cuda:0', requires_grad=True), loss=27.993492126464844\n",
            "w=tensor([1.9181], device='cuda:0', requires_grad=True), b=tensor([1.1183], device='cuda:0', requires_grad=True), loss=27.993408203125\n",
            "w=tensor([1.9177], device='cuda:0', requires_grad=True), b=tensor([1.1178], device='cuda:0', requires_grad=True), loss=27.993343353271484\n"
          ]
        }
      ]
    },
    {
      "cell_type": "code",
      "source": [
        "plt.scatter(X,Y)\n",
        "with torch.no_grad():\n",
        "  plt.plot(X,f(Xt).cpu(),color='r')"
      ],
      "metadata": {
        "colab": {
          "base_uri": "https://localhost:8080/",
          "height": 265
        },
        "id": "Y96_8p0_-gZ1",
        "outputId": "3a5d2bbc-b46c-49c4-ce61-9c1ca47884df"
      },
      "execution_count": 101,
      "outputs": [
        {
          "output_type": "display_data",
          "data": {
            "text/plain": [
              "<Figure size 432x288 with 1 Axes>"
            ],
            "image/png": "[encoded data removed]"
          },
          "metadata": {
            "needs_background": "light"
          }
        }
      ]
    },
    {
      "cell_type": "markdown",
      "source": [
        "## Задача классификации"
      ],
      "metadata": {
        "id": "HtOp9sO2gfpr"
      }
    },
    {
      "cell_type": "code",
      "source": [
        "from sklearn.datasets import make_classification\n",
        "from sklearn.model_selection import train_test_split\n",
        "\n",
        "X,Y = make_classification(100,2,n_informative=2,n_redundant=0)\n",
        "X = X.astype(np.float32)\n",
        "Y = Y.astype(np.int32)\n",
        "plt.scatter(X[:,0],X[:,1],c=Y)"
      ],
      "metadata": {
        "colab": {
          "base_uri": "https://localhost:8080/",
          "height": 283
        },
        "id": "Nec09Bd1dAwk",
        "outputId": "d600968e-ded5-417d-da80-6f1c127408d2"
      },
      "execution_count": 102,
      "outputs": [
        {
          "output_type": "execute_result",
          "data": {
            "text/plain": [
              "<matplotlib.collections.PathCollection at 0x7f87b6033880>"
            ]
          },
          "metadata": {},
          "execution_count": 102
        },
        {
          "output_type": "display_data",
          "data": {
            "text/plain": [
              "<Figure size 432x288 with 1 Axes>"
            ],
            "image/png": "[encoded data removed]"
          },
          "metadata": {
            "needs_background": "light"
          }
        }
      ]
    },
    {
      "cell_type": "code",
      "source": [
        "W = torch.randn(size=(2,1),requires_grad=True)\n",
        "b = torch.zeros(size=(1,),requires_grad=True)\n",
        "\n",
        "def f(x):\n",
        "  return torch.matmul(x,W)+b"
      ],
      "metadata": {
        "id": "uusEahiMg7ti"
      },
      "execution_count": 112,
      "outputs": []
    },
    {
      "cell_type": "code",
      "source": [
        "train_x,test_x,train_y,test_y = train_test_split(X,Y,test_size=0.2)\n",
        "train_x.shape, train_y.shape"
      ],
      "metadata": {
        "colab": {
          "base_uri": "https://localhost:8080/"
        },
        "id": "Q5zzRXwskHoL",
        "outputId": "371b0273-2acb-406f-a7f3-cff7e53d14fa"
      },
      "execution_count": 113,
      "outputs": [
        {
          "output_type": "execute_result",
          "data": {
            "text/plain": [
              "((80, 2), (80,))"
            ]
          },
          "metadata": {},
          "execution_count": 113
        }
      ]
    },
    {
      "cell_type": "code",
      "source": [
        "lr = 0.1\n",
        "\n",
        "def train_on_batch(x,y):\n",
        "  z = f(x)\n",
        "  loss = torch.nn.functional.binary_cross_entropy_with_logits(input=z,target=y)\n",
        "  loss.backward()\n",
        "  W.data.sub_(lr*W.grad)\n",
        "  b.data.sub_(lr*b.grad)\n",
        "  W.grad.zero_()\n",
        "  b.grad.zero_()\n",
        "  return loss"
      ],
      "metadata": {
        "id": "i2TD7XPNifkQ"
      },
      "execution_count": 114,
      "outputs": []
    },
    {
      "cell_type": "code",
      "source": [
        "dataset = torch.utils.data.TensorDataset(torch.tensor(train_x),torch.tensor(train_y,dtype=torch.float32))\n",
        "dataloader = torch.utils.data.DataLoader(dataset,batch_size=16)\n",
        "\n",
        "for ep in range(15):\n",
        "  for x,y in dataloader:\n",
        "    loss = train_on_batch(x,y.view(-1,1))\n",
        "  print(f\"Ep={ep}, loss={loss}\")"
      ],
      "metadata": {
        "colab": {
          "base_uri": "https://localhost:8080/"
        },
        "id": "3TvnGPd7lHWZ",
        "outputId": "68ac0396-d1a3-42d5-e652-5282ebaa3e7d"
      },
      "execution_count": 115,
      "outputs": [
        {
          "output_type": "stream",
          "name": "stdout",
          "text": [
            "Ep=0, loss=0.6450824737548828\n",
            "Ep=1, loss=0.49566563963890076\n",
            "Ep=2, loss=0.4119085669517517\n",
            "Ep=3, loss=0.36280736327171326\n",
            "Ep=4, loss=0.33196568489074707\n",
            "Ep=5, loss=0.3113221526145935\n",
            "Ep=6, loss=0.29677465558052063\n",
            "Ep=7, loss=0.2860996425151825\n",
            "Ep=8, loss=0.27801278233528137\n",
            "Ep=9, loss=0.2717295289039612\n",
            "Ep=10, loss=0.26674729585647583\n",
            "Ep=11, loss=0.26273053884506226\n",
            "Ep=12, loss=0.2594476342201233\n",
            "Ep=13, loss=0.25673407316207886\n",
            "Ep=14, loss=0.254469633102417\n"
          ]
        }
      ]
    },
    {
      "cell_type": "code",
      "source": [
        "W,b"
      ],
      "metadata": {
        "colab": {
          "base_uri": "https://localhost:8080/"
        },
        "id": "ShCyK4M6m7cc",
        "outputId": "560adf19-1245-4f41-ad3a-684ed66bb996"
      },
      "execution_count": 116,
      "outputs": [
        {
          "output_type": "execute_result",
          "data": {
            "text/plain": [
              "(tensor([[-0.2510],\n",
              "         [ 1.5729]], requires_grad=True),\n",
              " tensor([-0.1420], requires_grad=True))"
            ]
          },
          "metadata": {},
          "execution_count": 116
        }
      ]
    },
    {
      "cell_type": "code",
      "source": [
        "plt.scatter(train_x[:,0],train_x[:,1],c=train_y)\n",
        "t = np.array([-2.0,3.0])\n",
        "with torch.no_grad():\n",
        "  plt.plot(t,(-b-t*W[0])/W[1])\n",
        "  plt.ylim((-3,3))"
      ],
      "metadata": {
        "colab": {
          "base_uri": "https://localhost:8080/",
          "height": 470
        },
        "id": "M4bDZmMqloin",
        "outputId": "262b4c7e-5c38-46f7-ad64-19312c34966b"
      },
      "execution_count": 118,
      "outputs": [
        {
          "output_type": "error",
          "ename": "TypeError",
          "evalue": "ignored",
          "traceback": [
            "\u001b[0;31m---------------------------------------------------------------------------\u001b[0m",
            "\u001b[0;31mTypeError\u001b[0m                                 Traceback (most recent call last)",
            "\u001b[0;32m<ipython-input-118-ae12764487af>\u001b[0m in \u001b[0;36m<module>\u001b[0;34m\u001b[0m\n\u001b[1;32m      2\u001b[0m \u001b[0mt\u001b[0m \u001b[0;34m=\u001b[0m \u001b[0mnp\u001b[0m\u001b[0;34m.\u001b[0m\u001b[0marray\u001b[0m\u001b[0;34m(\u001b[0m\u001b[0;34m[\u001b[0m\u001b[0;34m-\u001b[0m\u001b[0;36m2.0\u001b[0m\u001b[0;34m,\u001b[0m\u001b[0;36m3.0\u001b[0m\u001b[0;34m]\u001b[0m\u001b[0;34m)\u001b[0m\u001b[0;34m\u001b[0m\u001b[0;34m\u001b[0m\u001b[0m\n\u001b[1;32m      3\u001b[0m \u001b[0;32mwith\u001b[0m \u001b[0mtorch\u001b[0m\u001b[0;34m.\u001b[0m\u001b[0mno_grad\u001b[0m\u001b[0;34m(\u001b[0m\u001b[0;34m)\u001b[0m\u001b[0;34m:\u001b[0m\u001b[0;34m\u001b[0m\u001b[0;34m\u001b[0m\u001b[0m\n\u001b[0;32m----> 4\u001b[0;31m   \u001b[0mplt\u001b[0m\u001b[0;34m.\u001b[0m\u001b[0mplot\u001b[0m\u001b[0;34m(\u001b[0m\u001b[0mt\u001b[0m\u001b[0;34m,\u001b[0m\u001b[0;34m(\u001b[0m\u001b[0;34m-\u001b[0m\u001b[0mb\u001b[0m\u001b[0;34m-\u001b[0m\u001b[0mt\u001b[0m\u001b[0;34m*\u001b[0m\u001b[0mW\u001b[0m\u001b[0;34m[\u001b[0m\u001b[0;36m0\u001b[0m\u001b[0;34m]\u001b[0m\u001b[0;34m)\u001b[0m\u001b[0;34m/\u001b[0m\u001b[0mW\u001b[0m\u001b[0;34m[\u001b[0m\u001b[0;36m1\u001b[0m\u001b[0;34m]\u001b[0m\u001b[0;34m)\u001b[0m\u001b[0;34m\u001b[0m\u001b[0;34m\u001b[0m\u001b[0m\n\u001b[0m\u001b[1;32m      5\u001b[0m   \u001b[0mplt\u001b[0m\u001b[0;34m.\u001b[0m\u001b[0mylim\u001b[0m\u001b[0;34m(\u001b[0m\u001b[0;34m(\u001b[0m\u001b[0;34m-\u001b[0m\u001b[0;36m3\u001b[0m\u001b[0;34m,\u001b[0m\u001b[0;36m3\u001b[0m\u001b[0;34m)\u001b[0m\u001b[0;34m)\u001b[0m\u001b[0;34m\u001b[0m\u001b[0;34m\u001b[0m\u001b[0m\n",
            "\u001b[0;31mTypeError\u001b[0m: unsupported operand type(s) for *: 'numpy.ndarray' and 'Tensor'"
          ]
        },
        {
          "output_type": "display_data",
          "data": {
            "text/plain": [
              "<Figure size 432x288 with 1 Axes>"
            ],
            "image/png": "[encoded data removed]"
          },
          "metadata": {
            "needs_background": "light"
          }
        }
      ]
    },
    {
      "cell_type": "code",
      "source": [],
      "metadata": {
        "id": "LoX_w0y55BKn"
      },
      "execution_count": null,
      "outputs": []
    }
  ]
}