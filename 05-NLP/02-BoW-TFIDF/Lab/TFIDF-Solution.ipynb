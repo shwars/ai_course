{
 "cells": [
  {
   "cell_type": "markdown",
   "metadata": {},
   "source": [
    "## Предсказываем тональность постов\n"
   ]
  },
  {
   "cell_type": "code",
   "execution_count": 1,
   "metadata": {},
   "outputs": [],
   "source": [
    "import pandas as pd\n",
    "from tensorflow import keras\n",
    "import tensorflow as tf\n",
    "import numpy as np"
   ]
  },
  {
   "cell_type": "markdown",
   "metadata": {},
   "source": [
    "Загрузим обучающий и тестовый датасет постов: "
   ]
  },
  {
   "cell_type": "code",
   "execution_count": 2,
   "metadata": {},
   "outputs": [
    {
     "data": {
      "text/html": [
       "<div>\n",
       "<style scoped>\n",
       "    .dataframe tbody tr th:only-of-type {\n",
       "        vertical-align: middle;\n",
       "    }\n",
       "\n",
       "    .dataframe tbody tr th {\n",
       "        vertical-align: top;\n",
       "    }\n",
       "\n",
       "    .dataframe thead th {\n",
       "        text-align: right;\n",
       "    }\n",
       "</style>\n",
       "<table border=\"1\" class=\"dataframe\">\n",
       "  <thead>\n",
       "    <tr style=\"text-align: right;\">\n",
       "      <th></th>\n",
       "      <th>UserName</th>\n",
       "      <th>ScreenName</th>\n",
       "      <th>Location</th>\n",
       "      <th>TweetAt</th>\n",
       "      <th>OriginalTweet</th>\n",
       "      <th>Sentiment</th>\n",
       "    </tr>\n",
       "  </thead>\n",
       "  <tbody>\n",
       "    <tr>\n",
       "      <th>0</th>\n",
       "      <td>3799</td>\n",
       "      <td>48751</td>\n",
       "      <td>London</td>\n",
       "      <td>16-03-2020</td>\n",
       "      <td>@MeNyrbie @Phil_Gahan @Chrisitv https://t.co/i...</td>\n",
       "      <td>Neutral</td>\n",
       "    </tr>\n",
       "    <tr>\n",
       "      <th>1</th>\n",
       "      <td>3800</td>\n",
       "      <td>48752</td>\n",
       "      <td>UK</td>\n",
       "      <td>16-03-2020</td>\n",
       "      <td>advice Talk to your neighbours family to excha...</td>\n",
       "      <td>Positive</td>\n",
       "    </tr>\n",
       "    <tr>\n",
       "      <th>2</th>\n",
       "      <td>3801</td>\n",
       "      <td>48753</td>\n",
       "      <td>Vagabonds</td>\n",
       "      <td>16-03-2020</td>\n",
       "      <td>Coronavirus Australia: Woolworths to give elde...</td>\n",
       "      <td>Positive</td>\n",
       "    </tr>\n",
       "    <tr>\n",
       "      <th>3</th>\n",
       "      <td>3802</td>\n",
       "      <td>48754</td>\n",
       "      <td>NaN</td>\n",
       "      <td>16-03-2020</td>\n",
       "      <td>My food stock is not the only one which is emp...</td>\n",
       "      <td>Positive</td>\n",
       "    </tr>\n",
       "    <tr>\n",
       "      <th>4</th>\n",
       "      <td>3803</td>\n",
       "      <td>48755</td>\n",
       "      <td>NaN</td>\n",
       "      <td>16-03-2020</td>\n",
       "      <td>Me, ready to go at supermarket during the #COV...</td>\n",
       "      <td>Extremely Negative</td>\n",
       "    </tr>\n",
       "    <tr>\n",
       "      <th>...</th>\n",
       "      <td>...</td>\n",
       "      <td>...</td>\n",
       "      <td>...</td>\n",
       "      <td>...</td>\n",
       "      <td>...</td>\n",
       "      <td>...</td>\n",
       "    </tr>\n",
       "    <tr>\n",
       "      <th>41152</th>\n",
       "      <td>44951</td>\n",
       "      <td>89903</td>\n",
       "      <td>Wellington City, New Zealand</td>\n",
       "      <td>14-04-2020</td>\n",
       "      <td>Airline pilots offering to stock supermarket s...</td>\n",
       "      <td>Neutral</td>\n",
       "    </tr>\n",
       "    <tr>\n",
       "      <th>41153</th>\n",
       "      <td>44952</td>\n",
       "      <td>89904</td>\n",
       "      <td>NaN</td>\n",
       "      <td>14-04-2020</td>\n",
       "      <td>Response to complaint not provided citing COVI...</td>\n",
       "      <td>Extremely Negative</td>\n",
       "    </tr>\n",
       "    <tr>\n",
       "      <th>41154</th>\n",
       "      <td>44953</td>\n",
       "      <td>89905</td>\n",
       "      <td>NaN</td>\n",
       "      <td>14-04-2020</td>\n",
       "      <td>You know itÂs getting tough when @KameronWild...</td>\n",
       "      <td>Positive</td>\n",
       "    </tr>\n",
       "    <tr>\n",
       "      <th>41155</th>\n",
       "      <td>44954</td>\n",
       "      <td>89906</td>\n",
       "      <td>NaN</td>\n",
       "      <td>14-04-2020</td>\n",
       "      <td>Is it wrong that the smell of hand sanitizer i...</td>\n",
       "      <td>Neutral</td>\n",
       "    </tr>\n",
       "    <tr>\n",
       "      <th>41156</th>\n",
       "      <td>44955</td>\n",
       "      <td>89907</td>\n",
       "      <td>i love you so much || he/him</td>\n",
       "      <td>14-04-2020</td>\n",
       "      <td>@TartiiCat Well new/used Rift S are going for ...</td>\n",
       "      <td>Negative</td>\n",
       "    </tr>\n",
       "  </tbody>\n",
       "</table>\n",
       "<p>41157 rows × 6 columns</p>\n",
       "</div>"
      ],
      "text/plain": [
       "       UserName  ScreenName                      Location     TweetAt  \\\n",
       "0          3799       48751                        London  16-03-2020   \n",
       "1          3800       48752                            UK  16-03-2020   \n",
       "2          3801       48753                     Vagabonds  16-03-2020   \n",
       "3          3802       48754                           NaN  16-03-2020   \n",
       "4          3803       48755                           NaN  16-03-2020   \n",
       "...         ...         ...                           ...         ...   \n",
       "41152     44951       89903  Wellington City, New Zealand  14-04-2020   \n",
       "41153     44952       89904                           NaN  14-04-2020   \n",
       "41154     44953       89905                           NaN  14-04-2020   \n",
       "41155     44954       89906                           NaN  14-04-2020   \n",
       "41156     44955       89907  i love you so much || he/him  14-04-2020   \n",
       "\n",
       "                                           OriginalTweet           Sentiment  \n",
       "0      @MeNyrbie @Phil_Gahan @Chrisitv https://t.co/i...             Neutral  \n",
       "1      advice Talk to your neighbours family to excha...            Positive  \n",
       "2      Coronavirus Australia: Woolworths to give elde...            Positive  \n",
       "3      My food stock is not the only one which is emp...            Positive  \n",
       "4      Me, ready to go at supermarket during the #COV...  Extremely Negative  \n",
       "...                                                  ...                 ...  \n",
       "41152  Airline pilots offering to stock supermarket s...             Neutral  \n",
       "41153  Response to complaint not provided citing COVI...  Extremely Negative  \n",
       "41154  You know itÂs getting tough when @KameronWild...            Positive  \n",
       "41155  Is it wrong that the smell of hand sanitizer i...             Neutral  \n",
       "41156  @TartiiCat Well new/used Rift S are going for ...            Negative  \n",
       "\n",
       "[41157 rows x 6 columns]"
      ]
     },
     "execution_count": 2,
     "metadata": {},
     "output_type": "execute_result"
    }
   ],
   "source": [
    "train_df = pd.read_csv(\"../../../data/Corona_NLP_train.csv.zip\",encoding='latin-1')\n",
    "test_df = pd.read_csv(\"../../../data/Corona_NLP_test.csv.zip\",encoding='latin-1')\n",
    "train_df"
   ]
  },
  {
   "cell_type": "markdown",
   "metadata": {},
   "source": [
    "Посмотрим на различные возможные значения `Sentiment`:"
   ]
  },
  {
   "cell_type": "code",
   "execution_count": 3,
   "metadata": {},
   "outputs": [
    {
     "data": {
      "text/plain": [
       "<AxesSubplot:>"
      ]
     },
     "execution_count": 3,
     "metadata": {},
     "output_type": "execute_result"
    },
    {
     "data": {
      "image/png": "[encoded data removed]",
      "text/plain": [
       "<Figure size 432x288 with 1 Axes>"
      ]
     },
     "metadata": {
      "needs_background": "light"
     },
     "output_type": "display_data"
    }
   ],
   "source": [
    "train_df['Sentiment'].value_counts().plot.bar()"
   ]
  },
  {
   "cell_type": "markdown",
   "metadata": {},
   "source": [
    "Для преобразования тональнсти в число от 0 до 5 используем словарь:"
   ]
  },
  {
   "cell_type": "code",
   "execution_count": 4,
   "metadata": {},
   "outputs": [],
   "source": [
    "classes = ['Extremely Negative','Negative','Neutral','Positive','Extremely Positive']\n",
    "cls_dict = { k : i for i,k in enumerate(classes) }"
   ]
  },
  {
   "cell_type": "code",
   "execution_count": 5,
   "metadata": {},
   "outputs": [],
   "source": [
    "train_x = train_df['OriginalTweet']\n",
    "train_y = train_df['Sentiment'].apply(lambda x: cls_dict[x])\n",
    "test_x = test_df['OriginalTweet']\n",
    "test_y = test_df['Sentiment'].apply(lambda x: cls_dict[x])"
   ]
  },
  {
   "cell_type": "markdown",
   "metadata": {},
   "source": [
    "Для извлечения вектора TF-IDF из текста используем `TextVectorization`, и адаптируем его для нашего датасета:"
   ]
  },
  {
   "cell_type": "code",
   "execution_count": 10,
   "metadata": {},
   "outputs": [],
   "source": [
    "#vect = keras.layers.experimental.preprocessing.TextVectorization(output_mode='tf-idf')\n",
    "vect = keras.layers.experimental.preprocessing.TextVectorization(output_mode='tf-idf',max_tokens=10000)\n",
    "\n",
    "vect.adapt(train_x)"
   ]
  },
  {
   "cell_type": "code",
   "execution_count": 11,
   "metadata": {},
   "outputs": [],
   "source": [
    "model = keras.models.Sequential([\n",
    "    vect,\n",
    "    keras.layers.Dense(len(classes),activation='softmax')\n",
    "])\n",
    "model.compile('adam','sparse_categorical_crossentropy',['acc'])"
   ]
  },
  {
   "cell_type": "code",
   "execution_count": 12,
   "metadata": {},
   "outputs": [
    {
     "name": "stdout",
     "output_type": "stream",
     "text": [
      "Epoch 1/5\n",
      "1287/1287 [==============================] - 40s 31ms/step - loss: 1.2383 - acc: 0.4811 - val_loss: 1.1336 - val_acc: 0.5445. - ETA: 4s - - ETA: 2\n",
      "Epoch 2/5\n",
      "1287/1287 [==============================] - 37s 28ms/step - loss: 0.8227 - acc: 0.7034 - val_loss: 1.1301 - val_acc: 0.5635\n",
      "Epoch 3/5\n",
      "1287/1287 [==============================] - 41s 32ms/step - loss: 0.6856 - acc: 0.7582 - val_loss: 1.1646 - val_acc: 0.5685\n",
      "Epoch 4/5\n",
      "1287/1287 [==============================] - 38s 29ms/step - loss: 0.6024 - acc: 0.7931 - val_loss: 1.2001 - val_acc: 0.5732\n",
      "Epoch 5/5\n",
      "1287/1287 [==============================] - 37s 29ms/step - loss: 0.5455 - acc: 0.8128 - val_loss: 1.2670 - val_acc: 0.5761\n"
     ]
    },
    {
     "data": {
      "text/plain": [
       "<keras.callbacks.History at 0x210e28f6460>"
      ]
     },
     "execution_count": 12,
     "metadata": {},
     "output_type": "execute_result"
    }
   ],
   "source": [
    "model.fit(train_x,train_y,validation_data=(test_x,test_y),epochs=5,shuffle=True)"
   ]
  },
  {
   "cell_type": "code",
   "execution_count": 13,
   "metadata": {},
   "outputs": [
    {
     "name": "stdout",
     "output_type": "stream",
     "text": [
      "===@MeNyrbie @Phil_Gahan @Chrisitv https://t.co/iFz9FAn2Pa and https://t.co/xX6ghGFzCC and https://t.co/I2NlzdxNo8===\n",
      "[UNK] -> 44.5999755859375\n",
      "and -> 2.4190921783447266\n",
      "===advice Talk to your neighbours family to exchange phone numbers create contact list with phone numbers of neighbours schools employer chemist GP set up online shopping accounts if poss adequate supplies of regular meds but not over order===\n",
      "[UNK] -> 7.433329105377197\n",
      "to -> 2.003671169281006\n",
      "of -> 2.5323829650878906\n",
      "with -> 2.0580949783325195\n",
      "your -> 2.4789364337921143\n",
      "not -> 2.415011405944824\n",
      "up -> 2.541259527206421\n",
      "shopping -> 2.5787179470062256\n",
      "but -> 2.5800867080688477\n",
      "if -> 2.6124637126922607\n",
      "online -> 2.656214952468872\n",
      "over -> 3.44028639793396\n",
      "supplies -> 3.9622442722320557\n",
      "order -> 4.226402759552002\n",
      "family -> 4.352114200592041\n",
      "list -> 4.770034313201904\n",
      "contact -> 4.88652229309082\n",
      "set -> 4.9691619873046875\n",
      "advice -> 5.059365272521973\n",
      "phone -> 11.290167808532715\n",
      "talk -> 5.618152141571045\n",
      "regular -> 5.784043312072754\n",
      "create -> 5.824088096618652\n",
      "schools -> 5.973736763000488\n",
      "numbers -> 12.024959564208984\n",
      "accounts -> 6.7761430740356445\n",
      "neighbours -> 13.874482154846191\n",
      "exchange -> 7.042504787445068\n",
      "adequate -> 7.191915035247803\n",
      "meds -> 7.2936248779296875\n",
      "chemist -> 7.329968452453613\n",
      "employer -> 7.534641265869141\n",
      "gp -> 7.792348861694336\n",
      "===Coronavirus Australia: Woolworths to give elderly, disabled dedicated shopping hours amid COVID-19 outbreak https://t.co/bInCA9Vp8P===\n",
      "[UNK] -> 7.433329105377197\n",
      "to -> 1.001835584640503\n",
      "coronavirus -> 1.2286438941955566\n",
      "covid19 -> 1.2968319654464722\n",
      "shopping -> 2.5787179470062256\n",
      "outbreak -> 3.62312388420105\n",
      "amid -> 3.7915072441101074\n",
      "hours -> 4.380084991455078\n",
      "give -> 4.531182289123535\n",
      "elderly -> 4.569458961486816\n",
      "australia -> 5.535351753234863\n",
      "disabled -> 6.094806671142578\n",
      "woolworths -> 6.48354434967041\n",
      "dedicated -> 6.452340126037598\n",
      "===My food stock is not the only one which is empty...\n",
      "\n",
      "PLEASE, don't panic, THERE WILL BE ENOUGH FOOD FOR EVERYONE if you do not take more than you need. \n",
      "Stay calm, stay safe.\n",
      "\n",
      "#COVID19france #COVID_19 #COVID19 #coronavirus #confinement #Confinementotal #ConfinementGeneral https://t.co/zrlG0Z520j===\n",
      "[UNK] -> 29.73331642150879\n",
      "the -> 0.9677132964134216\n",
      "coronavirus -> 1.2286438941955566\n",
      "covid19 -> 2.5936639308929443\n",
      "for -> 1.5110031366348267\n",
      "is -> 3.239443063735962\n",
      "you -> 3.8984577655792236\n",
      "food -> 4.11590051651001\n",
      "be -> 2.2046234607696533\n",
      "not -> 4.830022811889648\n",
      "will -> 2.4613616466522217\n",
      "my -> 2.5420453548431396\n",
      "more -> 2.566767930984497\n",
      "if -> 2.6124637126922607\n",
      "need -> 2.8529367446899414\n",
      "panic -> 2.92822003364563\n",
      "do -> 2.986637592315674\n",
      "there -> 3.102736473083496\n",
      "stock -> 3.1343560218811035\n",
      "one -> 3.186357259750366\n",
      "please -> 3.329257011413574\n",
      "only -> 3.3945505619049072\n",
      "than -> 3.3986172676086426\n",
      "stay -> 7.039045810699463\n",
      "take -> 3.6378936767578125\n",
      "dont -> 3.7561585903167725\n",
      "everyone -> 3.735560894012451\n",
      "safe -> 3.8509325981140137\n",
      "which -> 3.89805269241333\n",
      "empty -> 4.154801845550537\n",
      "enough -> 4.255924224853516\n",
      "calm -> 5.7380266189575195\n",
      "confinement -> 7.681171894073486\n",
      "===Me, ready to go at supermarket during the #COVID19 outbreak.\n",
      "\n",
      "Not because I'm paranoid, but because my food stock is litteraly empty. The #coronavirus is a serious thing, but please, don't panic. It causes shortage...\n",
      "\n",
      "#CoronavirusFrance #restezchezvous #StayAtHome #confinement https://t.co/usmuaLq72n===\n",
      "[UNK] -> 29.73331642150879\n",
      "the -> 1.9354265928268433\n",
      "to -> 1.001835584640503\n",
      "a -> 1.3559714555740356\n",
      "coronavirus -> 1.2286438941955566\n",
      "covid19 -> 1.2968319654464722\n",
      "is -> 3.239443063735962\n",
      "at -> 1.9390069246292114\n",
      "food -> 2.057950258255005\n",
      "supermarket -> 1.9506107568740845\n",
      "it -> 2.2476043701171875\n",
      "not -> 2.415011405944824\n",
      "my -> 2.5420453548431396\n",
      "but -> 5.160173416137695\n",
      "during -> 2.6550190448760986\n",
      "panic -> 2.92822003364563\n",
      "go -> 3.042142152786255\n",
      "stock -> 3.1343560218811035\n",
      "me -> 3.2244205474853516\n",
      "please -> 3.329257011413574\n",
      "because -> 6.783698558807373\n",
      "outbreak -> 3.62312388420105\n",
      "dont -> 3.7561585903167725\n",
      "im -> 4.135489463806152\n",
      "empty -> 4.154801845550537\n",
      "thing -> 4.509346961975098\n",
      "stayathome -> 4.65081262588501\n",
      "shortage -> 4.867679119110107\n",
      "ready -> 5.4255547523498535\n",
      "serious -> 5.56010103225708\n",
      "causes -> 6.378353595733643\n",
      "paranoid -> 7.581137180328369\n",
      "confinement -> 7.681171894073486\n"
     ]
    }
   ],
   "source": [
    "vocab = vect.get_vocabulary()\n",
    "for i in range(5):\n",
    "    print(f\"==={train_x[i]}===\")\n",
    "    v = vect(train_x[i])\n",
    "    for j,x in enumerate(vocab):\n",
    "        if v[j]>0:\n",
    "            print(f\"{x} -> {v[j]}\")"
   ]
  },
  {
   "cell_type": "code",
   "execution_count": 33,
   "metadata": {},
   "outputs": [
    {
     "name": "stdout",
     "output_type": "stream",
     "text": [
      "Model: \"sequential_10\"\n",
      "_________________________________________________________________\n",
      "Layer (type)                 Output Shape              Param #   \n",
      "=================================================================\n",
      "text_vectorization_10 (TextV (None, 3000)              1         \n",
      "_________________________________________________________________\n",
      "lambda_8 (Lambda)            (None, 2998)              0         \n",
      "_________________________________________________________________\n",
      "dense_11 (Dense)             (None, 10)                29990     \n",
      "_________________________________________________________________\n",
      "dense_12 (Dense)             (None, 5)                 55        \n",
      "=================================================================\n",
      "Total params: 30,046\n",
      "Trainable params: 30,045\n",
      "Non-trainable params: 1\n",
      "_________________________________________________________________\n"
     ]
    }
   ],
   "source": [
    "vect = keras.layers.experimental.preprocessing.TextVectorization(max_tokens=3000,output_mode='tf-idf')\n",
    "vect.adapt(train_x)\n",
    "model = keras.models.Sequential([\n",
    "    vect,\n",
    "    keras.layers.Lambda(lambda x: x[:,2:]),\n",
    "    keras.layers.Dense(10,activation='relu'),\n",
    "    keras.layers.Dense(len(classes),activation='softmax')\n",
    "])\n",
    "model.compile('adam','sparse_categorical_crossentropy',['acc'])\n",
    "model.summary()"
   ]
  },
  {
   "cell_type": "code",
   "execution_count": 34,
   "metadata": {},
   "outputs": [
    {
     "name": "stdout",
     "output_type": "stream",
     "text": [
      "Epoch 1/5\n",
      "1287/1287 [==============================] - 13s 10ms/step - loss: 1.2130 - acc: 0.4886 - val_loss: 1.0410 - val_acc: 0.5990: 1.2280 \n",
      "Epoch 2/5\n",
      "1287/1287 [==============================] - 15s 12ms/step - loss: 0.8805 - acc: 0.6748 - val_loss: 1.0252 - val_acc: 0.6022\n",
      "Epoch 3/5\n",
      "1287/1287 [==============================] - 13s 10ms/step - loss: 0.7853 - acc: 0.7164 - val_loss: 1.0406 - val_acc: 0.6132\n",
      "Epoch 4/5\n",
      "1287/1287 [==============================] - 13s 10ms/step - loss: 0.7155 - acc: 0.7442 - val_loss: 1.0886 - val_acc: 0.6085\n",
      "Epoch 5/5\n",
      "1287/1287 [==============================] - 11s 9ms/step - loss: 0.6647 - acc: 0.7613 - val_loss: 1.1390 - val_acc: 0.5937\n"
     ]
    },
    {
     "data": {
      "text/plain": [
       "<keras.callbacks.History at 0x210fb4170a0>"
      ]
     },
     "execution_count": 34,
     "metadata": {},
     "output_type": "execute_result"
    }
   ],
   "source": [
    "model.fit(train_x,train_y,validation_data=(test_x,test_y),epochs=5,shuffle=True)"
   ]
  },
  {
   "cell_type": "code",
   "execution_count": 20,
   "metadata": {},
   "outputs": [
    {
     "data": {
      "text/plain": [
       "<sklearn.metrics._plot.confusion_matrix.ConfusionMatrixDisplay at 0x210e9642f70>"
      ]
     },
     "execution_count": 20,
     "metadata": {},
     "output_type": "execute_result"
    },
    {
     "data": {
      "image/png": "[encoded data removed]",
      "text/plain": [
       "<Figure size 432x288 with 2 Axes>"
      ]
     },
     "metadata": {
      "needs_background": "light"
     },
     "output_type": "display_data"
    }
   ],
   "source": [
    "from sklearn.metrics import confusion_matrix,ConfusionMatrixDisplay,mean_absolute_percentage_error\n",
    "pred_y = tf.argmax(model(test_x),axis=1)\n",
    "ConfusionMatrixDisplay(confusion_matrix(test_y,pred_y),display_labels=classes).plot()"
   ]
  },
  {
   "cell_type": "code",
   "execution_count": 55,
   "metadata": {},
   "outputs": [
    {
     "name": "stdout",
     "output_type": "stream",
     "text": [
      "Model: \"sequential_9\"\n",
      "_________________________________________________________________\n",
      "Layer (type)                 Output Shape              Param #   \n",
      "=================================================================\n",
      "text_vectorization_10 (TextV (None, 2000)              1         \n",
      "_________________________________________________________________\n",
      "lambda_6 (Lambda)            (None, 1998)              0         \n",
      "_________________________________________________________________\n",
      "dense_9 (Dense)              (None, 1)                 1999      \n",
      "=================================================================\n",
      "Total params: 2,000\n",
      "Trainable params: 1,999\n",
      "Non-trainable params: 1\n",
      "_________________________________________________________________\n"
     ]
    }
   ],
   "source": [
    "vect = keras.layers.experimental.preprocessing.TextVectorization(max_tokens=2000,output_mode='tf-idf')\n",
    "vect.adapt(train_x)\n",
    "model = keras.models.Sequential([\n",
    "    vect,\n",
    "    keras.layers.Lambda(lambda x: x[:,2:]),\n",
    "    keras.layers.Dense(1,activation=None)\n",
    "])\n",
    "model.compile('adam','mse',['mae'])\n",
    "model.summary()"
   ]
  },
  {
   "cell_type": "code",
   "execution_count": 56,
   "metadata": {},
   "outputs": [
    {
     "name": "stdout",
     "output_type": "stream",
     "text": [
      "Epoch 1/5\n",
      "1287/1287 [==============================] - 6s 4ms/step - loss: 1.4141 - mae: 0.9547 - val_loss: 1.0231 - val_mae: 0.8056\n",
      "Epoch 2/5\n",
      "1287/1287 [==============================] - 5s 4ms/step - loss: 0.8675 - mae: 0.7333 - val_loss: 0.9400 - val_mae: 0.7593\n",
      "Epoch 3/5\n",
      "1287/1287 [==============================] - 5s 4ms/step - loss: 0.7878 - mae: 0.6889 - val_loss: 0.9025 - val_mae: 0.7367\n",
      "Epoch 4/5\n",
      "1287/1287 [==============================] - 5s 4ms/step - loss: 0.7520 - mae: 0.6666 - val_loss: 0.8807 - val_mae: 0.7238\n",
      "Epoch 5/5\n",
      "1287/1287 [==============================] - 5s 4ms/step - loss: 0.7386 - mae: 0.6570 - val_loss: 0.8714 - val_mae: 0.7173\n"
     ]
    },
    {
     "data": {
      "text/plain": [
       "<keras.callbacks.History at 0x214bd2f3b80>"
      ]
     },
     "execution_count": 56,
     "metadata": {},
     "output_type": "execute_result"
    }
   ],
   "source": [
    "model.fit(train_x,train_y,validation_data=(test_x,test_y),epochs=5,shuffle=True)"
   ]
  },
  {
   "cell_type": "code",
   "execution_count": 80,
   "metadata": {},
   "outputs": [
    {
     "data": {
      "text/plain": [
       "0.356662157213274"
      ]
     },
     "execution_count": 80,
     "metadata": {},
     "output_type": "execute_result"
    }
   ],
   "source": [
    "pred_y = model(test_x)[:,0]\n",
    "np.mean(np.abs(test_y-pred_y))/np.mean(pred_y)"
   ]
  },
  {
   "cell_type": "code",
   "execution_count": null,
   "metadata": {},
   "outputs": [],
   "source": []
  }
 ],
 "metadata": {
  "kernelspec": {
   "display_name": "Python 3.9.12 ('base')",
   "language": "python",
   "name": "python3"
  },
  "language_info": {
   "codemirror_mode": {
    "name": "ipython",
    "version": 3
   },
   "file_extension": ".py",
   "mimetype": "text/x-python",
   "name": "python",
   "nbconvert_exporter": "python",
   "pygments_lexer": "ipython3",
   "version": "3.9.12"
  },
  "orig_nbformat": 4,
  "vscode": {
   "interpreter": {
    "hash": "d21c24a7952cc9fa93a33c3da71b373ffe761d6ab0c9cc9b2153e31da51ffb58"
   }
  }
 },
 "nbformat": 4,
 "nbformat_minor": 2
}
