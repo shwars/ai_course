{
 "cells": [
  {
   "cell_type": "markdown",
   "metadata": {},
   "source": [
    "## Machine Learning: Regression\n",
    "\n",
    "Regression is a class of ML algorithms that predict some numeric value."
   ]
  },
  {
   "cell_type": "code",
   "execution_count": null,
   "metadata": {},
   "outputs": [],
   "source": [
    "import numpy as np\n",
    "import pandas as pd\n",
    "import matplotlib.pyplot as plt\n",
    "import sklearn as sk\n",
    "import sklearn.model_selection\n",
    "import sklearn.preprocessing\n",
    "import sklearn.pipeline\n",
    "import sklearn.linear_model\n",
    "import sklearn.compose\n",
    "import sklearn.tree"
   ]
  },
  {
   "cell_type": "markdown",
   "metadata": {},
   "source": [
    "As an example let's consider a dataset that predicts prices of railway tickets between European cities:"
   ]
  },
  {
   "cell_type": "code",
   "execution_count": 19,
   "metadata": {},
   "outputs": [
    {
     "data": {
      "text/html": [
       "<div>\n",
       "<style scoped>\n",
       "    .dataframe tbody tr th:only-of-type {\n",
       "        vertical-align: middle;\n",
       "    }\n",
       "\n",
       "    .dataframe tbody tr th {\n",
       "        vertical-align: top;\n",
       "    }\n",
       "\n",
       "    .dataframe thead th {\n",
       "        text-align: right;\n",
       "    }\n",
       "</style>\n",
       "<table border=\"1\" class=\"dataframe\">\n",
       "  <thead>\n",
       "    <tr style=\"text-align: right;\">\n",
       "      <th></th>\n",
       "      <th>Unnamed: 0</th>\n",
       "      <th>id</th>\n",
       "      <th>company</th>\n",
       "      <th>origin</th>\n",
       "      <th>destination</th>\n",
       "      <th>departure</th>\n",
       "      <th>arrival</th>\n",
       "      <th>duration</th>\n",
       "      <th>vehicle_type</th>\n",
       "      <th>vehicle_class</th>\n",
       "      <th>price</th>\n",
       "      <th>fare</th>\n",
       "      <th>seats</th>\n",
       "      <th>departure_hour</th>\n",
       "      <th>geodistance</th>\n",
       "    </tr>\n",
       "  </thead>\n",
       "  <tbody>\n",
       "    <tr>\n",
       "      <th>0</th>\n",
       "      <td>37402744</td>\n",
       "      <td>37402745</td>\n",
       "      <td>renfe</td>\n",
       "      <td>MADRID</td>\n",
       "      <td>BARCELONA</td>\n",
       "      <td>2020-09-28</td>\n",
       "      <td>2020-09-28</td>\n",
       "      <td>2.83</td>\n",
       "      <td>AVE</td>\n",
       "      <td>Turista</td>\n",
       "      <td>108.90</td>\n",
       "      <td>Flexible</td>\n",
       "      <td>232.0</td>\n",
       "      <td>18</td>\n",
       "      <td>506.741151</td>\n",
       "    </tr>\n",
       "    <tr>\n",
       "      <th>1</th>\n",
       "      <td>37402745</td>\n",
       "      <td>37402746</td>\n",
       "      <td>renfe</td>\n",
       "      <td>MADRID</td>\n",
       "      <td>BARCELONA</td>\n",
       "      <td>2020-09-28</td>\n",
       "      <td>2020-09-28</td>\n",
       "      <td>2.50</td>\n",
       "      <td>AVE</td>\n",
       "      <td>Turista Plus</td>\n",
       "      <td>115.65</td>\n",
       "      <td>Promo +</td>\n",
       "      <td>40.0</td>\n",
       "      <td>19</td>\n",
       "      <td>506.741151</td>\n",
       "    </tr>\n",
       "    <tr>\n",
       "      <th>2</th>\n",
       "      <td>37402746</td>\n",
       "      <td>37402747</td>\n",
       "      <td>renfe</td>\n",
       "      <td>MADRID</td>\n",
       "      <td>BARCELONA</td>\n",
       "      <td>2020-09-28</td>\n",
       "      <td>2020-09-28</td>\n",
       "      <td>3.17</td>\n",
       "      <td>AVE</td>\n",
       "      <td>Turista</td>\n",
       "      <td>108.90</td>\n",
       "      <td>Flexible</td>\n",
       "      <td>177.0</td>\n",
       "      <td>20</td>\n",
       "      <td>506.741151</td>\n",
       "    </tr>\n",
       "    <tr>\n",
       "      <th>3</th>\n",
       "      <td>37402747</td>\n",
       "      <td>37402748</td>\n",
       "      <td>renfe</td>\n",
       "      <td>MADRID</td>\n",
       "      <td>BARCELONA</td>\n",
       "      <td>2020-10-10</td>\n",
       "      <td>2020-10-10</td>\n",
       "      <td>3.17</td>\n",
       "      <td>AVE</td>\n",
       "      <td>Turista</td>\n",
       "      <td>108.90</td>\n",
       "      <td>Flexible</td>\n",
       "      <td>279.0</td>\n",
       "      <td>7</td>\n",
       "      <td>506.741151</td>\n",
       "    </tr>\n",
       "    <tr>\n",
       "      <th>4</th>\n",
       "      <td>37402748</td>\n",
       "      <td>37402749</td>\n",
       "      <td>renfe</td>\n",
       "      <td>MADRID</td>\n",
       "      <td>BARCELONA</td>\n",
       "      <td>2020-10-10</td>\n",
       "      <td>2020-10-10</td>\n",
       "      <td>3.07</td>\n",
       "      <td>AVE</td>\n",
       "      <td>Turista</td>\n",
       "      <td>108.90</td>\n",
       "      <td>Flexible</td>\n",
       "      <td>238.0</td>\n",
       "      <td>9</td>\n",
       "      <td>506.741151</td>\n",
       "    </tr>\n",
       "    <tr>\n",
       "      <th>...</th>\n",
       "      <td>...</td>\n",
       "      <td>...</td>\n",
       "      <td>...</td>\n",
       "      <td>...</td>\n",
       "      <td>...</td>\n",
       "      <td>...</td>\n",
       "      <td>...</td>\n",
       "      <td>...</td>\n",
       "      <td>...</td>\n",
       "      <td>...</td>\n",
       "      <td>...</td>\n",
       "      <td>...</td>\n",
       "      <td>...</td>\n",
       "      <td>...</td>\n",
       "      <td>...</td>\n",
       "    </tr>\n",
       "    <tr>\n",
       "      <th>1246671</th>\n",
       "      <td>38753055</td>\n",
       "      <td>38753056</td>\n",
       "      <td>renfe</td>\n",
       "      <td>ZARAGOZA</td>\n",
       "      <td>BARCELONA</td>\n",
       "      <td>2020-10-08</td>\n",
       "      <td>2020-10-08</td>\n",
       "      <td>1.85</td>\n",
       "      <td>AVE</td>\n",
       "      <td>Turista Plus</td>\n",
       "      <td>54.75</td>\n",
       "      <td>Promo +</td>\n",
       "      <td>15.0</td>\n",
       "      <td>18</td>\n",
       "      <td>256.506445</td>\n",
       "    </tr>\n",
       "    <tr>\n",
       "      <th>1246672</th>\n",
       "      <td>38753056</td>\n",
       "      <td>38753057</td>\n",
       "      <td>renfe</td>\n",
       "      <td>ZARAGOZA</td>\n",
       "      <td>BARCELONA</td>\n",
       "      <td>2020-10-08</td>\n",
       "      <td>2020-10-08</td>\n",
       "      <td>1.80</td>\n",
       "      <td>AVE</td>\n",
       "      <td>Turista</td>\n",
       "      <td>60.90</td>\n",
       "      <td>Flexible</td>\n",
       "      <td>215.0</td>\n",
       "      <td>18</td>\n",
       "      <td>256.506445</td>\n",
       "    </tr>\n",
       "    <tr>\n",
       "      <th>1246673</th>\n",
       "      <td>38753057</td>\n",
       "      <td>38753058</td>\n",
       "      <td>renfe</td>\n",
       "      <td>ZARAGOZA</td>\n",
       "      <td>BARCELONA</td>\n",
       "      <td>2020-10-08</td>\n",
       "      <td>2020-10-08</td>\n",
       "      <td>2.12</td>\n",
       "      <td>ALVIA</td>\n",
       "      <td>Turista</td>\n",
       "      <td>53.60</td>\n",
       "      <td>Flexible</td>\n",
       "      <td>20.0</td>\n",
       "      <td>19</td>\n",
       "      <td>256.506445</td>\n",
       "    </tr>\n",
       "    <tr>\n",
       "      <th>1246674</th>\n",
       "      <td>38753058</td>\n",
       "      <td>38753059</td>\n",
       "      <td>renfe</td>\n",
       "      <td>ZARAGOZA</td>\n",
       "      <td>BARCELONA</td>\n",
       "      <td>2020-10-08</td>\n",
       "      <td>2020-10-08</td>\n",
       "      <td>1.57</td>\n",
       "      <td>AVE</td>\n",
       "      <td>Turista</td>\n",
       "      <td>60.90</td>\n",
       "      <td>Flexible</td>\n",
       "      <td>29.0</td>\n",
       "      <td>19</td>\n",
       "      <td>256.506445</td>\n",
       "    </tr>\n",
       "    <tr>\n",
       "      <th>1246675</th>\n",
       "      <td>38753059</td>\n",
       "      <td>38753060</td>\n",
       "      <td>renfe</td>\n",
       "      <td>ZARAGOZA</td>\n",
       "      <td>BARCELONA</td>\n",
       "      <td>2020-10-08</td>\n",
       "      <td>2020-10-08</td>\n",
       "      <td>1.75</td>\n",
       "      <td>AVE</td>\n",
       "      <td>Turista</td>\n",
       "      <td>51.15</td>\n",
       "      <td>Promo +</td>\n",
       "      <td>228.0</td>\n",
       "      <td>21</td>\n",
       "      <td>256.506445</td>\n",
       "    </tr>\n",
       "  </tbody>\n",
       "</table>\n",
       "<p>1246676 rows × 15 columns</p>\n",
       "</div>"
      ],
      "text/plain": [
       "         Unnamed: 0        id company    origin destination   departure  \\\n",
       "0          37402744  37402745   renfe    MADRID   BARCELONA  2020-09-28   \n",
       "1          37402745  37402746   renfe    MADRID   BARCELONA  2020-09-28   \n",
       "2          37402746  37402747   renfe    MADRID   BARCELONA  2020-09-28   \n",
       "3          37402747  37402748   renfe    MADRID   BARCELONA  2020-10-10   \n",
       "4          37402748  37402749   renfe    MADRID   BARCELONA  2020-10-10   \n",
       "...             ...       ...     ...       ...         ...         ...   \n",
       "1246671    38753055  38753056   renfe  ZARAGOZA   BARCELONA  2020-10-08   \n",
       "1246672    38753056  38753057   renfe  ZARAGOZA   BARCELONA  2020-10-08   \n",
       "1246673    38753057  38753058   renfe  ZARAGOZA   BARCELONA  2020-10-08   \n",
       "1246674    38753058  38753059   renfe  ZARAGOZA   BARCELONA  2020-10-08   \n",
       "1246675    38753059  38753060   renfe  ZARAGOZA   BARCELONA  2020-10-08   \n",
       "\n",
       "            arrival  duration vehicle_type vehicle_class   price      fare  \\\n",
       "0        2020-09-28      2.83          AVE       Turista  108.90  Flexible   \n",
       "1        2020-09-28      2.50          AVE  Turista Plus  115.65   Promo +   \n",
       "2        2020-09-28      3.17          AVE       Turista  108.90  Flexible   \n",
       "3        2020-10-10      3.17          AVE       Turista  108.90  Flexible   \n",
       "4        2020-10-10      3.07          AVE       Turista  108.90  Flexible   \n",
       "...             ...       ...          ...           ...     ...       ...   \n",
       "1246671  2020-10-08      1.85          AVE  Turista Plus   54.75   Promo +   \n",
       "1246672  2020-10-08      1.80          AVE       Turista   60.90  Flexible   \n",
       "1246673  2020-10-08      2.12        ALVIA       Turista   53.60  Flexible   \n",
       "1246674  2020-10-08      1.57          AVE       Turista   60.90  Flexible   \n",
       "1246675  2020-10-08      1.75          AVE       Turista   51.15   Promo +   \n",
       "\n",
       "         seats  departure_hour  geodistance  \n",
       "0        232.0              18   506.741151  \n",
       "1         40.0              19   506.741151  \n",
       "2        177.0              20   506.741151  \n",
       "3        279.0               7   506.741151  \n",
       "4        238.0               9   506.741151  \n",
       "...        ...             ...          ...  \n",
       "1246671   15.0              18   256.506445  \n",
       "1246672  215.0              18   256.506445  \n",
       "1246673   20.0              19   256.506445  \n",
       "1246674   29.0              19   256.506445  \n",
       "1246675  228.0              21   256.506445  \n",
       "\n",
       "[1246676 rows x 15 columns]"
      ]
     },
     "execution_count": 19,
     "metadata": {},
     "output_type": "execute_result"
    }
   ],
   "source": [
    "df = pd.read_csv(\"../../data/renfe-rail-sample.zip\",compression='zip')\n",
    "df"
   ]
  },
  {
   "cell_type": "markdown",
   "metadata": {},
   "source": [
    "Let's split the dataset between training set and test set (or validation set):"
   ]
  },
  {
   "cell_type": "code",
   "execution_count": null,
   "metadata": {},
   "outputs": [],
   "source": [
    "df_train, df_test = sk.model_selection.train_test_split(df,train_size=0.8)"
   ]
  },
  {
   "cell_type": "code",
   "execution_count": null,
   "metadata": {},
   "outputs": [],
   "source": [
    "len(df_train),len(df_test)"
   ]
  },
  {
   "cell_type": "markdown",
   "metadata": {},
   "source": [
    "To begin with, let's predict the price using only one parameter - distance between cities. Let's visualize it:"
   ]
  },
  {
   "cell_type": "code",
   "execution_count": 8,
   "metadata": {},
   "outputs": [
    {
     "data": {
      "image/png": "[encoded data removed]",
      "text/plain": [
       "<Figure size 432x288 with 1 Axes>"
      ]
     },
     "metadata": {
      "needs_background": "light"
     },
     "output_type": "display_data"
    }
   ],
   "source": [
    "X = df_train[\"geodistance\"]\n",
    "Y = df_train[\"price\"]\n",
    "plt.scatter(X,Y)\n",
    "plt.show()"
   ]
  },
  {
   "cell_type": "markdown",
   "metadata": {},
   "source": [
    "### Linear Regression \n",
    "\n",
    "Linear regression is a simplest model, in which predictive function is linear: $f_{a,b}(x) = ax+b$. Here $a$ and $b$ are model parameters, which we need to find in order to train the model.\n",
    "\n",
    "We can take **mean square error** as a measure of how well our model performs. In this case, **model loss** will be given by\n",
    "\n",
    "$$\n",
    "L(a,b) = {1\\over n}\\sum_i (f_{a,b}(x_i)-y_i)^2 ={1\\over n} \\sum_i (ax_i+b-y_i)^2\n",
    "$$\n",
    "\n",
    "To find the minimum, let's make a derivative equal to 0:\n",
    "\n",
    "$$\n",
    "\\begin{cases}\n",
    "{\\partial L\\over\\partial b} = \\sum_i 2(ax_i+b-y_i) = 0 \\cr\n",
    "{\\partial L\\over\\partial a} = \\sum_i 2(ax_i+b-y_i)x_i = 0\n",
    "\\end{cases}\n",
    "$$\n",
    "\n",
    "From the equations above:\n",
    "$$\n",
    "\\begin{cases}\n",
    "a\\sum x_i + nb  = \\sum y_i \\\\\n",
    "a\\sum x_i^2 + b\\sum x_i = \\sum x_iy_i\n",
    "\\end{cases}\n",
    "$$\n",
    "\n",
    "Solving this with respect to $a$ and $b$, we get:\n",
    "$$\n",
    "\\begin{cases}\n",
    "a = {\\sum x_i\\sum y_i - n\\sum x_iy_i \\over (\\sum x_i)^2 - n\\sum x_i^2} \\\\\n",
    "b = {\\sum y_i\\sum x_i^2 - \\sum x_i\\sum x_iy_i \\over \\sum x_i^2(n - \\sum x_i) }\n",
    "\\end{cases}\n",
    "$$\n",
    "\n",
    "This approach to analytic solution is called **method of least squares**."
   ]
  },
  {
   "cell_type": "code",
   "execution_count": 9,
   "metadata": {},
   "outputs": [
    {
     "name": "stdout",
     "output_type": "stream",
     "text": [
      "a=0.15113189045373288, b=-0.0006913013700446183\n"
     ]
    }
   ],
   "source": [
    "n = len(X)\n",
    "a = (X.sum()*Y.sum()-n*(X*Y).sum())/(X.sum()*X.sum()-n*(X*X).sum())\n",
    "b = (Y.sum()*(X*X).sum()-X.sum()*(X*Y).sum())/(X*X).sum()/(n-X.sum())\n",
    "print(f\"a={a}, b={b}\")"
   ]
  },
  {
   "cell_type": "code",
   "execution_count": 10,
   "metadata": {},
   "outputs": [
    {
     "data": {
      "image/png": "[encoded data removed]",
      "text/plain": [
       "<Figure size 432x288 with 1 Axes>"
      ]
     },
     "metadata": {
      "needs_background": "light"
     },
     "output_type": "display_data"
    }
   ],
   "source": [
    "plt.scatter(X,Y)\n",
    "lX = [X.min(),X.max()]\n",
    "lY = [a*x+b for x in lX]\n",
    "plt.plot(lX,lY,c='red')\n",
    "plt.show()"
   ]
  },
  {
   "cell_type": "markdown",
   "metadata": {},
   "source": [
    "Let's compute the error on our test set:"
   ]
  },
  {
   "cell_type": "code",
   "execution_count": 11,
   "metadata": {},
   "outputs": [
    {
     "name": "stdout",
     "output_type": "stream",
     "text": [
      "MSE=16.31640695770404, MAE=13.626511621993185, MAE(%)=0.28508426595099234\n"
     ]
    }
   ],
   "source": [
    "X_t, Y_t = df_test[\"geodistance\"], df_test[\"price\"]\n",
    "\n",
    "def MSE(x,y):\n",
    "    return np.mean(np.square(x-y)) \n",
    "\n",
    "def MAE(x,y):\n",
    "    return np.mean(np.abs(x-y))\n",
    "\n",
    "print(f\"MSE={np.sqrt(MSE(a*X_t+b,Y_t))}, MAE={MAE(a*X_t+b,Y_t)}, MAE(%)={MAE(a*X_t+b,Y_t)/Y_t.mean()}\")"
   ]
  },
  {
   "cell_type": "markdown",
   "metadata": {},
   "source": [
    "We can now predict the price with an error of 28%.\n",
    "\n",
    "### Gradient Descent Optimization\n",
    "\n",
    "Least squares can be used for any number of input variables. However, for large number it becomes too computationally challenging, thus another technique is used to find approximate solution, called **gradient descent optimization**.\n",
    "\n",
    "It goes as follows: first, we set parameters to some random initial values $a_0, b_0$. Then, at each step of optimization, we compute loss on the dataset (either on the whole dataset, or on some subset of it which is called **minibatch** - in this case optimization is called **stochastic gradient descent**, SGD), and then adjust weights in the following manner:\n",
    "$$\\begin{cases}\n",
    "a^{(i+1)} = a^{(i)} - \\eta{\\partial L\\over\\partial a} \\\\\n",
    "b^{(i+1)} = b^{(i)} - \\eta{\\partial L\\over\\partial b} \\\\\n",
    "\\end{cases}$$\n",
    "\n",
    "Here $\\eta$ is some relatively small value called **learning rate**.\n",
    "\n",
    "Using mean squared error (MSE) as loss:\n",
    "$$\n",
    "MSE = {1\\over n}\\sum_i(aX_i+b-Y_i)^2\n",
    "$$\n",
    "we can manually compute the derivatives:\n",
    "$$\\begin{cases}\n",
    "{\\partial L\\over\\partial a} = {2\\over n} \\sum_i (aX_i+b-Y_i)*X_i \\\\\n",
    "{\\partial L\\over\\partial b} = {2\\over n} \\sum_i (aX_i+b-Y_i)\n",
    "\\end{cases}$$"
   ]
  },
  {
   "cell_type": "code",
   "execution_count": 18,
   "metadata": {},
   "outputs": [
    {
     "name": "stdout",
     "output_type": "stream",
     "text": [
      "Epoch 0: MSE=362854.9087240552\n",
      "Epoch 1: MSE=89132.19483813443\n",
      "Epoch 2: MSE=22044.66003990515\n",
      "Epoch 3: MSE=5601.971519045763\n",
      "Epoch 4: MSE=1571.9828385077815\n",
      "Epoch 5: MSE=584.2606204918517\n",
      "Epoch 6: MSE=342.1767686428096\n",
      "Epoch 7: MSE=282.8436981477278\n",
      "Epoch 8: MSE=268.3015740459077\n",
      "Epoch 9: MSE=264.73739960472227\n",
      "Epoch 10: MSE=263.8638443285806\n",
      "Epoch 11: MSE=263.6497411116202\n",
      "Epoch 12: MSE=263.59726500917054\n",
      "Epoch 13: MSE=263.58440259215996\n",
      "Epoch 14: MSE=263.5812492114576\n",
      "Epoch 15: MSE=263.58047544758347\n",
      "Epoch 16: MSE=263.58028491369373\n",
      "Epoch 17: MSE=263.58023732504694\n",
      "Epoch 18: MSE=263.5802247699034\n",
      "Epoch 19: MSE=263.5802208025903\n",
      "Epoch 20: MSE=263.5802189374\n",
      "Epoch 21: MSE=263.5802175908461\n",
      "Epoch 22: MSE=263.58021636816807\n",
      "Epoch 23: MSE=263.5802151783403\n",
      "Epoch 24: MSE=263.58021399583293\n",
      "Epoch 25: MSE=263.5802128153165\n",
      "Epoch 26: MSE=263.5802116339748\n",
      "Epoch 27: MSE=263.5802104546923\n",
      "Epoch 28: MSE=263.58020927516316\n",
      "Epoch 29: MSE=263.580208094595\n",
      "Epoch 30: MSE=263.580206914077\n",
      "Epoch 31: MSE=263.58020573602204\n",
      "Epoch 32: MSE=263.5802045539637\n",
      "Epoch 33: MSE=263.58020337404673\n",
      "Epoch 34: MSE=263.58020219378625\n",
      "Epoch 35: MSE=263.5802010143865\n",
      "Epoch 36: MSE=263.58019983333844\n",
      "Epoch 37: MSE=263.5801986528859\n",
      "Epoch 38: MSE=263.5801974734329\n",
      "Epoch 39: MSE=263.58019629237924\n",
      "Epoch 40: MSE=263.580195113687\n",
      "Epoch 41: MSE=263.5801939332264\n",
      "Epoch 42: MSE=263.58019275319947\n",
      "Epoch 43: MSE=263.58019157329284\n",
      "Epoch 44: MSE=263.58019039245676\n",
      "Epoch 45: MSE=263.5801892125773\n",
      "Epoch 46: MSE=263.5801880324247\n",
      "Epoch 47: MSE=263.5801868515461\n",
      "Epoch 48: MSE=263.58018567262053\n",
      "Epoch 49: MSE=263.5801844927883\n",
      "Epoch 50: MSE=263.58018331222934\n",
      "Epoch 51: MSE=263.58018213200126\n",
      "Epoch 52: MSE=263.58018095236747\n",
      "Epoch 53: MSE=263.58017977231003\n",
      "Epoch 54: MSE=263.58017859221667\n",
      "Epoch 55: MSE=263.58017741048184\n",
      "Epoch 56: MSE=263.5801762322968\n",
      "Epoch 57: MSE=263.58017505097695\n",
      "Epoch 58: MSE=263.58017387116695\n",
      "Epoch 59: MSE=263.58017269189617\n",
      "Epoch 60: MSE=263.58017151098716\n",
      "Epoch 61: MSE=263.58017033120024\n",
      "Epoch 62: MSE=263.5801691508588\n",
      "Epoch 63: MSE=263.58016797226315\n",
      "Epoch 64: MSE=263.58016679017885\n",
      "Epoch 65: MSE=263.5801656104448\n",
      "Epoch 66: MSE=263.5801644311068\n",
      "Epoch 67: MSE=263.58016325092\n",
      "Epoch 68: MSE=263.58016207041413\n",
      "Epoch 69: MSE=263.58016088997596\n",
      "Epoch 70: MSE=263.58015970991283\n",
      "Epoch 71: MSE=263.58015853044867\n",
      "Epoch 72: MSE=263.5801573505493\n",
      "Epoch 73: MSE=263.58015617096794\n",
      "Epoch 74: MSE=263.58015498966773\n",
      "Epoch 75: MSE=263.58015380869426\n",
      "Epoch 76: MSE=263.58015263018285\n",
      "Epoch 77: MSE=263.5801514496147\n",
      "Epoch 78: MSE=263.58015026919844\n",
      "Epoch 79: MSE=263.58014908880386\n",
      "Epoch 80: MSE=263.58014790963915\n",
      "Epoch 81: MSE=263.58014672914595\n",
      "Epoch 82: MSE=263.5801455492223\n",
      "Epoch 83: MSE=263.58014436871935\n",
      "Epoch 84: MSE=263.58014318969606\n",
      "Epoch 85: MSE=263.58014200836095\n",
      "Epoch 86: MSE=263.58014082811815\n",
      "Epoch 87: MSE=263.58013964980086\n",
      "Epoch 88: MSE=263.58013846794245\n",
      "Epoch 89: MSE=263.5801372888309\n",
      "Epoch 90: MSE=263.58013610952514\n",
      "Epoch 91: MSE=263.580134928635\n",
      "Epoch 92: MSE=263.58013374942465\n",
      "Epoch 93: MSE=263.5801325683837\n",
      "Epoch 94: MSE=263.5801313883625\n",
      "Epoch 95: MSE=263.58013020754737\n",
      "Epoch 96: MSE=263.58012902729246\n",
      "Epoch 97: MSE=263.58012784884045\n",
      "Epoch 98: MSE=263.58012666716354\n",
      "Epoch 99: MSE=263.5801254876583\n"
     ]
    }
   ],
   "source": [
    "a,b = np.random.normal(size=2)\n",
    "eta = 0.000005\n",
    "for i in range(100):\n",
    "    print(f\"Epoch {i}: MSE={MSE(a*X+b,Y)}\")\n",
    "    # print(f\"a={a},b={b}\")\n",
    "    a,b = a-eta*((a*X+b-Y)*X).mean(), b-eta*(a*X+b-Y).mean()"
   ]
  },
  {
   "cell_type": "markdown",
   "metadata": {},
   "source": [
    "Let's see the result:"
   ]
  },
  {
   "cell_type": "code",
   "execution_count": 17,
   "metadata": {},
   "outputs": [
    {
     "name": "stdout",
     "output_type": "stream",
     "text": [
      "MSE=273.9208182663147, MAE=13.745276936857437, MAE(%)=0.2875689901084111\n"
     ]
    },
    {
     "data": {
      "image/png": "[encoded data removed]",
      "text/plain": [
       "<Figure size 432x288 with 1 Axes>"
      ]
     },
     "metadata": {
      "needs_background": "light"
     },
     "output_type": "display_data"
    }
   ],
   "source": [
    "print(f\"MSE={MSE(a*X_t+b,Y_t)}, MAE={MAE(a*X_t+b,Y_t)}, MAE(%)={MAE(a*X_t+b,Y_t)/Y_t.mean()}\")\n",
    "plt.scatter(X,Y)\n",
    "lX = [X.min(),X.max()]\n",
    "lY = [a*x+b for x in lX]\n",
    "plt.plot(lX,lY,c='red')\n",
    "plt.show()"
   ]
  },
  {
   "cell_type": "markdown",
   "metadata": {},
   "source": [
    "As we can see, the result is almost the same as in the least squares method. \n",
    "\n",
    "> **IMPORTANT**: Success of the method largely depends on the selection of $\\eta$ parameter. Try to increase or decrease $\\eta$ by an order of magnitude and see what happens.\n",
    "\n",
    "### Adding Features\n",
    "\n",
    "Let's add some more numeric features:"
   ]
  },
  {
   "cell_type": "code",
   "execution_count": 34,
   "metadata": {},
   "outputs": [
    {
     "name": "stdout",
     "output_type": "stream",
     "text": [
      "Epoch 0: MSE=283366.14048107475\n",
      "Epoch 1: MSE=69446.400755393\n",
      "Epoch 2: MSE=17189.69310029394\n",
      "Epoch 3: MSE=4424.324775243086\n",
      "Epoch 4: MSE=1305.972606508179\n",
      "Epoch 5: MSE=544.2110813457602\n",
      "Epoch 6: MSE=358.1218037338035\n",
      "Epoch 7: MSE=312.65879072163875\n",
      "Epoch 8: MSE=301.5482188140307\n",
      "Epoch 9: MSE=298.8293252330903\n",
      "Epoch 10: MSE=298.1603676577213\n",
      "Epoch 11: MSE=297.9921737457993\n",
      "Epoch 12: MSE=297.94630886107933\n",
      "Epoch 13: MSE=297.9303283022937\n",
      "Epoch 14: MSE=297.9216495087689\n",
      "Epoch 15: MSE=297.9147559713255\n",
      "Epoch 16: MSE=297.9083001061367\n",
      "Epoch 17: MSE=297.90195272198724\n",
      "Epoch 18: MSE=297.8956334038444\n",
      "Epoch 19: MSE=297.8893225064206\n",
      "Epoch 20: MSE=297.88301522959165\n",
      "Epoch 21: MSE=297.87671040132915\n",
      "Epoch 22: MSE=297.8704077337817\n",
      "Epoch 23: MSE=297.86410715651317\n",
      "Epoch 24: MSE=297.8578086509984\n"
     ]
    }
   ],
   "source": [
    "X = df_train[[\"geodistance\",\"duration\",\"departure_hour\"]]\n",
    "X_t = df_test[[\"geodistance\",\"duration\",\"departure_hour\"]]\n",
    "\n",
    "*a, b = np.random.normal(size=4)\n",
    "a = np.array(a)\n",
    "eta = 0.000005\n",
    "for i in range(25):\n",
    "    print(f\"Epoch {i}: MSE={MSE(X@a+b,Y)}\")\n",
    "    # print(f\"a={a},b={b}\")\n",
    "    a,b = a-eta*((X@a+b-Y)*X.T).mean(axis=1), b-eta*(X@a+b-Y).mean()"
   ]
  },
  {
   "cell_type": "code",
   "execution_count": 35,
   "metadata": {},
   "outputs": [
    {
     "data": {
      "text/plain": [
       "(geodistance       0.157880\n",
       " duration          1.305873\n",
       " departure_hour   -0.206895\n",
       " dtype: float64,\n",
       " -0.9276304720080177)"
      ]
     },
     "execution_count": 35,
     "metadata": {},
     "output_type": "execute_result"
    }
   ],
   "source": [
    "a,b"
   ]
  },
  {
   "cell_type": "code",
   "execution_count": 36,
   "metadata": {},
   "outputs": [
    {
     "name": "stdout",
     "output_type": "stream",
     "text": [
      "MSE=296.6336740697011, MAE=14.531191944288345, MAE(%)=0.3040113496211487\n"
     ]
    }
   ],
   "source": [
    "print(f\"MSE={MSE(X_t@a+b,Y_t)}, MAE={MAE(X_t@a+b,Y_t)}, MAE(%)={MAE(X_t@a+b,Y_t)/Y_t.mean()}\")"
   ]
  },
  {
   "cell_type": "markdown",
   "metadata": {},
   "source": [
    "### Categorical Features\n",
    "\n",
    "Most probably, such features as **class** or **fare** play an important role in the price prediction."
   ]
  },
  {
   "cell_type": "code",
   "execution_count": 37,
   "metadata": {},
   "outputs": [
    {
     "data": {
      "text/plain": [
       "Promo +       566980\n",
       "Flexible      422474\n",
       "Adulto ida    257222\n",
       "Name: fare, dtype: int64"
      ]
     },
     "execution_count": 37,
     "metadata": {},
     "output_type": "execute_result"
    }
   ],
   "source": [
    "df[\"fare\"].value_counts()"
   ]
  },
  {
   "cell_type": "markdown",
   "metadata": {},
   "source": [
    "Let's plot the average price depending on the fare:"
   ]
  },
  {
   "cell_type": "code",
   "execution_count": 38,
   "metadata": {},
   "outputs": [
    {
     "data": {
      "text/plain": [
       "<AxesSubplot:xlabel='fare'>"
      ]
     },
     "execution_count": 38,
     "metadata": {},
     "output_type": "execute_result"
    },
    {
     "data": {
      "image/png": "[encoded data removed]",
      "text/plain": [
       "<Figure size 432x288 with 1 Axes>"
      ]
     },
     "metadata": {
      "needs_background": "light"
     },
     "output_type": "display_data"
    }
   ],
   "source": [
    "df.groupby('fare').mean()['price'].plot(kind='bar')"
   ]
  },
  {
   "cell_type": "markdown",
   "metadata": {},
   "source": [
    "Categorical features can be of two types:\n",
    "\n",
    "* **Nominal**, when feature values are just distinct values with no specific order. For example, color, or city name\n",
    "* **Ordinal**, when feature value somehow reflect the magnitude of the underlying concept. For example, grades (A, B, F-, etc.), or attitude indicators (Very negative/negative/neutral/positive/very positive).\n",
    "\n",
    "Depending on the feature type, we can use different encoding techniques:\n",
    "* **Label Encoding**, where each value is encoded by some numeric value. This approach is good for **ordinal** features. For example, we can replace grades by a number from 0 to 7. This should not be used for nominal features, because it introduces additional relation into the data, which is not originally there.\n",
    "* **One-Hot Encoding** is better suited for **nominal** features, where for each feature value we introduce separate column containing 0 and 1. In other words, we encode feature value by a 0-1 vector, where 1 is placed the position according to the feature value, eg. red color can be represented by (1,0,0,0,0,0,0), and green - by (0,0,0,1,0,0,0).\n",
    "* There are also other encoding technique described [in this blog post](https://habr.com/ru/post/666234/)\n",
    "\n",
    "In our case, it is not completely obvious which approach to use. Taking into account the chart above, fares can probably be places in this order of increasing price: Adulto, Promo+, Flexible - and thus can be encoded by numbers 0, 1 and 2 respectively.\n",
    "\n",
    "Or, we can use one-hot encoding and make no assumptions on relative prices of different fares. In `pandas` we can use `get_dummies` function to make one-hot encoding:"
   ]
  },
  {
   "cell_type": "code",
   "execution_count": 39,
   "metadata": {},
   "outputs": [
    {
     "data": {
      "text/html": [
       "<div>\n",
       "<style scoped>\n",
       "    .dataframe tbody tr th:only-of-type {\n",
       "        vertical-align: middle;\n",
       "    }\n",
       "\n",
       "    .dataframe tbody tr th {\n",
       "        vertical-align: top;\n",
       "    }\n",
       "\n",
       "    .dataframe thead th {\n",
       "        text-align: right;\n",
       "    }\n",
       "</style>\n",
       "<table border=\"1\" class=\"dataframe\">\n",
       "  <thead>\n",
       "    <tr style=\"text-align: right;\">\n",
       "      <th></th>\n",
       "      <th>Adulto ida</th>\n",
       "      <th>Flexible</th>\n",
       "      <th>Promo +</th>\n",
       "    </tr>\n",
       "  </thead>\n",
       "  <tbody>\n",
       "    <tr>\n",
       "      <th>0</th>\n",
       "      <td>0</td>\n",
       "      <td>1</td>\n",
       "      <td>0</td>\n",
       "    </tr>\n",
       "    <tr>\n",
       "      <th>1</th>\n",
       "      <td>0</td>\n",
       "      <td>0</td>\n",
       "      <td>1</td>\n",
       "    </tr>\n",
       "    <tr>\n",
       "      <th>2</th>\n",
       "      <td>0</td>\n",
       "      <td>1</td>\n",
       "      <td>0</td>\n",
       "    </tr>\n",
       "    <tr>\n",
       "      <th>3</th>\n",
       "      <td>0</td>\n",
       "      <td>1</td>\n",
       "      <td>0</td>\n",
       "    </tr>\n",
       "    <tr>\n",
       "      <th>4</th>\n",
       "      <td>0</td>\n",
       "      <td>1</td>\n",
       "      <td>0</td>\n",
       "    </tr>\n",
       "    <tr>\n",
       "      <th>...</th>\n",
       "      <td>...</td>\n",
       "      <td>...</td>\n",
       "      <td>...</td>\n",
       "    </tr>\n",
       "    <tr>\n",
       "      <th>1246671</th>\n",
       "      <td>0</td>\n",
       "      <td>0</td>\n",
       "      <td>1</td>\n",
       "    </tr>\n",
       "    <tr>\n",
       "      <th>1246672</th>\n",
       "      <td>0</td>\n",
       "      <td>1</td>\n",
       "      <td>0</td>\n",
       "    </tr>\n",
       "    <tr>\n",
       "      <th>1246673</th>\n",
       "      <td>0</td>\n",
       "      <td>1</td>\n",
       "      <td>0</td>\n",
       "    </tr>\n",
       "    <tr>\n",
       "      <th>1246674</th>\n",
       "      <td>0</td>\n",
       "      <td>1</td>\n",
       "      <td>0</td>\n",
       "    </tr>\n",
       "    <tr>\n",
       "      <th>1246675</th>\n",
       "      <td>0</td>\n",
       "      <td>0</td>\n",
       "      <td>1</td>\n",
       "    </tr>\n",
       "  </tbody>\n",
       "</table>\n",
       "<p>1246676 rows × 3 columns</p>\n",
       "</div>"
      ],
      "text/plain": [
       "         Adulto ida  Flexible  Promo +\n",
       "0                 0         1        0\n",
       "1                 0         0        1\n",
       "2                 0         1        0\n",
       "3                 0         1        0\n",
       "4                 0         1        0\n",
       "...             ...       ...      ...\n",
       "1246671           0         0        1\n",
       "1246672           0         1        0\n",
       "1246673           0         1        0\n",
       "1246674           0         1        0\n",
       "1246675           0         0        1\n",
       "\n",
       "[1246676 rows x 3 columns]"
      ]
     },
     "execution_count": 39,
     "metadata": {},
     "output_type": "execute_result"
    }
   ],
   "source": [
    "pd.get_dummies(df[\"fare\"])"
   ]
  },
  {
   "cell_type": "code",
   "execution_count": 51,
   "metadata": {},
   "outputs": [
    {
     "data": {
      "text/html": [
       "<div>\n",
       "<style scoped>\n",
       "    .dataframe tbody tr th:only-of-type {\n",
       "        vertical-align: middle;\n",
       "    }\n",
       "\n",
       "    .dataframe tbody tr th {\n",
       "        vertical-align: top;\n",
       "    }\n",
       "\n",
       "    .dataframe thead th {\n",
       "        text-align: right;\n",
       "    }\n",
       "</style>\n",
       "<table border=\"1\" class=\"dataframe\">\n",
       "  <thead>\n",
       "    <tr style=\"text-align: right;\">\n",
       "      <th></th>\n",
       "      <th>geodistance</th>\n",
       "      <th>fare_Adulto ida</th>\n",
       "      <th>fare_Promo +</th>\n",
       "      <th>fare_Flexible</th>\n",
       "    </tr>\n",
       "  </thead>\n",
       "  <tbody>\n",
       "    <tr>\n",
       "      <th>643182</th>\n",
       "      <td>415.639080</td>\n",
       "      <td>0</td>\n",
       "      <td>0</td>\n",
       "      <td>1</td>\n",
       "    </tr>\n",
       "    <tr>\n",
       "      <th>24226</th>\n",
       "      <td>274.364753</td>\n",
       "      <td>0</td>\n",
       "      <td>0</td>\n",
       "      <td>1</td>\n",
       "    </tr>\n",
       "    <tr>\n",
       "      <th>296779</th>\n",
       "      <td>274.364753</td>\n",
       "      <td>0</td>\n",
       "      <td>0</td>\n",
       "      <td>1</td>\n",
       "    </tr>\n",
       "    <tr>\n",
       "      <th>337154</th>\n",
       "      <td>296.103026</td>\n",
       "      <td>0</td>\n",
       "      <td>1</td>\n",
       "      <td>0</td>\n",
       "    </tr>\n",
       "    <tr>\n",
       "      <th>574647</th>\n",
       "      <td>415.639080</td>\n",
       "      <td>0</td>\n",
       "      <td>0</td>\n",
       "      <td>1</td>\n",
       "    </tr>\n",
       "    <tr>\n",
       "      <th>...</th>\n",
       "      <td>...</td>\n",
       "      <td>...</td>\n",
       "      <td>...</td>\n",
       "      <td>...</td>\n",
       "    </tr>\n",
       "    <tr>\n",
       "      <th>604285</th>\n",
       "      <td>303.573264</td>\n",
       "      <td>0</td>\n",
       "      <td>1</td>\n",
       "      <td>0</td>\n",
       "    </tr>\n",
       "    <tr>\n",
       "      <th>716261</th>\n",
       "      <td>161.318295</td>\n",
       "      <td>1</td>\n",
       "      <td>0</td>\n",
       "      <td>0</td>\n",
       "    </tr>\n",
       "    <tr>\n",
       "      <th>210916</th>\n",
       "      <td>506.741151</td>\n",
       "      <td>0</td>\n",
       "      <td>0</td>\n",
       "      <td>1</td>\n",
       "    </tr>\n",
       "    <tr>\n",
       "      <th>833523</th>\n",
       "      <td>303.573264</td>\n",
       "      <td>0</td>\n",
       "      <td>1</td>\n",
       "      <td>0</td>\n",
       "    </tr>\n",
       "    <tr>\n",
       "      <th>1219026</th>\n",
       "      <td>296.103026</td>\n",
       "      <td>0</td>\n",
       "      <td>0</td>\n",
       "      <td>1</td>\n",
       "    </tr>\n",
       "  </tbody>\n",
       "</table>\n",
       "<p>997340 rows × 4 columns</p>\n",
       "</div>"
      ],
      "text/plain": [
       "         geodistance  fare_Adulto ida  fare_Promo +  fare_Flexible\n",
       "643182    415.639080                0             0              1\n",
       "24226     274.364753                0             0              1\n",
       "296779    274.364753                0             0              1\n",
       "337154    296.103026                0             1              0\n",
       "574647    415.639080                0             0              1\n",
       "...              ...              ...           ...            ...\n",
       "604285    303.573264                0             1              0\n",
       "716261    161.318295                1             0              0\n",
       "210916    506.741151                0             0              1\n",
       "833523    303.573264                0             1              0\n",
       "1219026   296.103026                0             0              1\n",
       "\n",
       "[997340 rows x 4 columns]"
      ]
     },
     "execution_count": 51,
     "metadata": {},
     "output_type": "execute_result"
    }
   ],
   "source": [
    "X = pd.get_dummies(df_train,columns=[\"fare\"])[['geodistance','fare_Adulto ida','fare_Promo +','fare_Flexible']]\n",
    "X_t = pd.get_dummies(df_test,columns=[\"fare\"])[['geodistance','fare_Adulto ida','fare_Promo +','fare_Flexible']]\n",
    "X"
   ]
  },
  {
   "cell_type": "code",
   "execution_count": 58,
   "metadata": {},
   "outputs": [],
   "source": [
    "mx = np.max(X['geodistance'])\n",
    "X['geodistance'] = X['geodistance']/mx\n",
    "X_t['geodistance'] = X_t['geodistance']/mx"
   ]
  },
  {
   "cell_type": "code",
   "execution_count": 59,
   "metadata": {},
   "outputs": [
    {
     "data": {
      "text/html": [
       "<div>\n",
       "<style scoped>\n",
       "    .dataframe tbody tr th:only-of-type {\n",
       "        vertical-align: middle;\n",
       "    }\n",
       "\n",
       "    .dataframe tbody tr th {\n",
       "        vertical-align: top;\n",
       "    }\n",
       "\n",
       "    .dataframe thead th {\n",
       "        text-align: right;\n",
       "    }\n",
       "</style>\n",
       "<table border=\"1\" class=\"dataframe\">\n",
       "  <thead>\n",
       "    <tr style=\"text-align: right;\">\n",
       "      <th></th>\n",
       "      <th>geodistance</th>\n",
       "      <th>fare_Adulto ida</th>\n",
       "      <th>fare_Promo +</th>\n",
       "      <th>fare_Flexible</th>\n",
       "    </tr>\n",
       "  </thead>\n",
       "  <tbody>\n",
       "    <tr>\n",
       "      <th>643182</th>\n",
       "      <td>0.820220</td>\n",
       "      <td>0</td>\n",
       "      <td>0</td>\n",
       "      <td>1</td>\n",
       "    </tr>\n",
       "    <tr>\n",
       "      <th>24226</th>\n",
       "      <td>0.541430</td>\n",
       "      <td>0</td>\n",
       "      <td>0</td>\n",
       "      <td>1</td>\n",
       "    </tr>\n",
       "    <tr>\n",
       "      <th>296779</th>\n",
       "      <td>0.541430</td>\n",
       "      <td>0</td>\n",
       "      <td>0</td>\n",
       "      <td>1</td>\n",
       "    </tr>\n",
       "    <tr>\n",
       "      <th>337154</th>\n",
       "      <td>0.584328</td>\n",
       "      <td>0</td>\n",
       "      <td>1</td>\n",
       "      <td>0</td>\n",
       "    </tr>\n",
       "    <tr>\n",
       "      <th>574647</th>\n",
       "      <td>0.820220</td>\n",
       "      <td>0</td>\n",
       "      <td>0</td>\n",
       "      <td>1</td>\n",
       "    </tr>\n",
       "    <tr>\n",
       "      <th>...</th>\n",
       "      <td>...</td>\n",
       "      <td>...</td>\n",
       "      <td>...</td>\n",
       "      <td>...</td>\n",
       "    </tr>\n",
       "    <tr>\n",
       "      <th>604285</th>\n",
       "      <td>0.599070</td>\n",
       "      <td>0</td>\n",
       "      <td>1</td>\n",
       "      <td>0</td>\n",
       "    </tr>\n",
       "    <tr>\n",
       "      <th>716261</th>\n",
       "      <td>0.318345</td>\n",
       "      <td>1</td>\n",
       "      <td>0</td>\n",
       "      <td>0</td>\n",
       "    </tr>\n",
       "    <tr>\n",
       "      <th>210916</th>\n",
       "      <td>1.000000</td>\n",
       "      <td>0</td>\n",
       "      <td>0</td>\n",
       "      <td>1</td>\n",
       "    </tr>\n",
       "    <tr>\n",
       "      <th>833523</th>\n",
       "      <td>0.599070</td>\n",
       "      <td>0</td>\n",
       "      <td>1</td>\n",
       "      <td>0</td>\n",
       "    </tr>\n",
       "    <tr>\n",
       "      <th>1219026</th>\n",
       "      <td>0.584328</td>\n",
       "      <td>0</td>\n",
       "      <td>0</td>\n",
       "      <td>1</td>\n",
       "    </tr>\n",
       "  </tbody>\n",
       "</table>\n",
       "<p>997340 rows × 4 columns</p>\n",
       "</div>"
      ],
      "text/plain": [
       "         geodistance  fare_Adulto ida  fare_Promo +  fare_Flexible\n",
       "643182      0.820220                0             0              1\n",
       "24226       0.541430                0             0              1\n",
       "296779      0.541430                0             0              1\n",
       "337154      0.584328                0             1              0\n",
       "574647      0.820220                0             0              1\n",
       "...              ...              ...           ...            ...\n",
       "604285      0.599070                0             1              0\n",
       "716261      0.318345                1             0              0\n",
       "210916      1.000000                0             0              1\n",
       "833523      0.599070                0             1              0\n",
       "1219026     0.584328                0             0              1\n",
       "\n",
       "[997340 rows x 4 columns]"
      ]
     },
     "execution_count": 59,
     "metadata": {},
     "output_type": "execute_result"
    }
   ],
   "source": [
    "X"
   ]
  },
  {
   "cell_type": "code",
   "execution_count": 67,
   "metadata": {},
   "outputs": [
    {
     "name": "stdout",
     "output_type": "stream",
     "text": [
      "Epoch 0: MSE=2865.228187476198\n",
      "Epoch 1: MSE=1657.943576714217\n",
      "Epoch 2: MSE=1005.7046474485037\n",
      "Epoch 3: MSE=650.454614722423\n",
      "Epoch 4: MSE=455.30333080293985\n",
      "Epoch 5: MSE=346.9416508200866\n",
      "Epoch 6: MSE=285.8406609732678\n",
      "Epoch 7: MSE=250.58141764419256\n",
      "Epoch 8: MSE=229.5167826245248\n",
      "Epoch 9: MSE=216.29641978275296\n",
      "Epoch 10: MSE=207.450369469677\n",
      "Epoch 11: MSE=201.0785812931586\n",
      "Epoch 12: MSE=196.1380769651537\n",
      "Epoch 13: MSE=192.05437840956657\n",
      "Epoch 14: MSE=188.50938048958986\n",
      "Epoch 15: MSE=185.32542500076298\n",
      "Epoch 16: MSE=182.40189848148566\n",
      "Epoch 17: MSE=179.68053480918752\n",
      "Epoch 18: MSE=177.12641615789423\n",
      "Epoch 19: MSE=174.7175635470015\n",
      "Epoch 20: MSE=172.43922915430176\n",
      "Epoch 21: MSE=170.2807630942043\n",
      "Epoch 22: MSE=168.23389030398238\n",
      "Epoch 23: MSE=166.2917600535703\n",
      "Epoch 24: MSE=164.44841898052937\n",
      "Epoch 25: MSE=162.69851645608176\n",
      "Epoch 26: MSE=161.0371375252301\n",
      "Epoch 27: MSE=159.45970604169332\n",
      "Epoch 28: MSE=157.96192652866057\n",
      "Epoch 29: MSE=156.53974751977637\n",
      "Epoch 30: MSE=155.18933691446713\n",
      "Epoch 31: MSE=153.90706414645848\n",
      "Epoch 32: MSE=152.6894863134153\n",
      "Epoch 33: MSE=151.5333366689384\n",
      "Epoch 34: MSE=150.43551462638507\n",
      "Epoch 35: MSE=149.3930767598646\n",
      "Epoch 36: MSE=148.40322854597517\n",
      "Epoch 37: MSE=147.463316660517\n",
      "Epoch 38: MSE=146.57082175876565\n",
      "Epoch 39: MSE=145.7233516603413\n",
      "Epoch 40: MSE=144.91863490245365\n",
      "Epoch 41: MSE=144.15451463416008\n",
      "Epoch 42: MSE=143.42894282440108\n",
      "Epoch 43: MSE=142.739974767816\n",
      "Epoch 44: MSE=142.08576386916008\n",
      "Epoch 45: MSE=141.46455669250375\n",
      "Epoch 46: MSE=140.87468826044858\n",
      "Epoch 47: MSE=140.3145775916336\n",
      "Epoch 48: MSE=139.78272346067223\n",
      "Epoch 49: MSE=139.27770037858065\n"
     ]
    }
   ],
   "source": [
    "*a, b = np.random.normal(size=5)\n",
    "a = np.array(a)\n",
    "eta = 1\n",
    "for i in range(50):\n",
    "    print(f\"Epoch {i}: MSE={MSE(X@a+b,Y)}\")\n",
    "    # print(f\"a={a},b={b}\")\n",
    "    a,b = a-eta*((X@a+b-Y)*X.T).mean(axis=1), b-eta*(X@a+b-Y).mean()"
   ]
  },
  {
   "cell_type": "code",
   "execution_count": 68,
   "metadata": {},
   "outputs": [
    {
     "name": "stdout",
     "output_type": "stream",
     "text": [
      "MSE=138.60939525702906, MAE=9.064085511887162, MAE(%)=0.18963240456220326\n"
     ]
    }
   ],
   "source": [
    "print(f\"MSE={MSE(X_t@a+b,Y_t)}, MAE={MAE(X_t@a+b,Y_t)}, MAE(%)={MAE(X_t@a+b,Y_t)/Y_t.mean()}\")"
   ]
  },
  {
   "cell_type": "markdown",
   "metadata": {},
   "source": [
    "We can see that by using additional columns we can significantly improve the accuracy of our model. This is because those additional features contain important information about the ticket which we now take into account.\n",
    "\n",
    "In linear regression, we can look at the coefficients of the model corresponding to different features, which makes our model **interpretable**:"
   ]
  },
  {
   "cell_type": "code",
   "execution_count": 69,
   "metadata": {},
   "outputs": [
    {
     "data": {
      "text/plain": [
       "geodistance        61.413384\n",
       "fare_Adulto ida    -5.150950\n",
       "fare_Promo +       -4.885373\n",
       "fare_Flexible      19.410887\n",
       "dtype: float64"
      ]
     },
     "execution_count": 69,
     "metadata": {},
     "output_type": "execute_result"
    }
   ],
   "source": [
    "a"
   ]
  },
  {
   "cell_type": "markdown",
   "metadata": {},
   "source": [
    "## Scikit Learn\n",
    "\n",
    "Instead of programming gradient descent by hand, we can use an existing library to apply regression algorithm to our data. De facto standard in Machine Learning is a library called [Scikit Learn](https://scikit-learn.org/stable/index.html). \n",
    "\n",
    "Let's implement linear regression using Scikit Learn. To begin with, let's list all numerical and categorical features:"
   ]
  },
  {
   "cell_type": "code",
   "execution_count": 70,
   "metadata": {},
   "outputs": [],
   "source": [
    "numeric = ['geodistance','duration','departure_hour']\n",
    "categorical = ['vehicle_type','vehicle_class','fare']"
   ]
  },
  {
   "cell_type": "markdown",
   "metadata": {},
   "source": [
    "To train our regression only on numerical features, we can use this simple code:"
   ]
  },
  {
   "cell_type": "code",
   "execution_count": 71,
   "metadata": {},
   "outputs": [],
   "source": [
    "X = df_train[numeric]\n",
    "model = sk.linear_model.LinearRegression()\n",
    "model = model.fit(X,Y)"
   ]
  },
  {
   "cell_type": "markdown",
   "metadata": {},
   "source": [
    "The main method to train the model is called `fit`. It is because finding the best parameters to minimize loss is called *fitting the model*.\n",
    "\n",
    "Let's compute error on test data:"
   ]
  },
  {
   "cell_type": "code",
   "execution_count": 72,
   "metadata": {},
   "outputs": [
    {
     "name": "stdout",
     "output_type": "stream",
     "text": [
      "MSE=224.12337472414933, MAE=11.956206383677657, MAE(%)=0.28853313390431107\n"
     ]
    }
   ],
   "source": [
    "X_t = df_test[numeric]\n",
    "Y_t_pred = model.predict(X_t)\n",
    "print(f\"MSE={sk.metrics.mean_squared_error(Y_t,Y_t_pred)}, \\\n",
    "MAE={sk.metrics.mean_absolute_error(Y_t,Y_t_pred)}, \\\n",
    "MAE(%)={sk.metrics.mean_absolute_percentage_error(Y_t,Y_t_pred)}\")"
   ]
  },
  {
   "cell_type": "markdown",
   "metadata": {},
   "source": [
    "Let's look at the model's coefficients:"
   ]
  },
  {
   "cell_type": "code",
   "execution_count": 73,
   "metadata": {},
   "outputs": [
    {
     "name": "stdout",
     "output_type": "stream",
     "text": [
      "Coefficients=[ 0.17548784 -3.97626639  0.19966081], bias=2.095870133440812\n"
     ]
    }
   ],
   "source": [
    "print(f\"Coefficients={model.coef_}, bias={model.intercept_}\")"
   ]
  },
  {
   "cell_type": "markdown",
   "metadata": {},
   "source": [
    "To encode categorical features, we can also use Scikit Learn mechanisms. Objects to do the encoding are called **Encoders**. That's how we can use encoders:"
   ]
  },
  {
   "cell_type": "code",
   "execution_count": 74,
   "metadata": {},
   "outputs": [
    {
     "name": "stdout",
     "output_type": "stream",
     "text": [
      "[array(['Adulto ida', 'Flexible', 'Promo +'], dtype=object), array(['Turista', 'Turista Plus', 'Turista con enlace'], dtype=object)]\n"
     ]
    },
    {
     "data": {
      "text/plain": [
       "array([[0., 1., 0., 1., 0., 0.],\n",
       "       [0., 0., 1., 0., 1., 0.],\n",
       "       [0., 1., 0., 1., 0., 0.],\n",
       "       [0., 1., 0., 1., 0., 0.],\n",
       "       [0., 1., 0., 1., 0., 0.],\n",
       "       [0., 0., 1., 1., 0., 0.],\n",
       "       [0., 1., 0., 1., 0., 0.],\n",
       "       [0., 1., 0., 1., 0., 0.],\n",
       "       [0., 0., 1., 1., 0., 0.],\n",
       "       [0., 0., 1., 1., 0., 0.]])"
      ]
     },
     "execution_count": 74,
     "metadata": {},
     "output_type": "execute_result"
    }
   ],
   "source": [
    "ohe = sk.preprocessing.OneHotEncoder()\n",
    "ohe.fit(df[[\"fare\",\"vehicle_class\"]])\n",
    "print(ohe.categories_)\n",
    "ohe.transform(df[[\"fare\",\"vehicle_class\"]]).toarray()[:10]"
   ]
  },
  {
   "cell_type": "markdown",
   "metadata": {},
   "source": [
    "To apply different encoders to different colums, we can use another abstraction called **transformer**. We can obtain the encoded table in one go, specifying encoders for all categorical features, and making all other columns pass through unchanged:"
   ]
  },
  {
   "cell_type": "code",
   "execution_count": 77,
   "metadata": {},
   "outputs": [
    {
     "data": {
      "text/plain": [
       "array([[ 0.        ,  1.        ,  0.        ,  0.        ,  0.        ,\n",
       "         1.        ,  0.        ,  0.        ,  0.        ,  0.        ,\n",
       "         0.        ,  0.        ,  0.        ,  0.        ,  0.        ,\n",
       "         0.        ,  0.        ,  0.        ,  1.        ,  0.        ,\n",
       "         0.        ,  1.14515559,  0.08587623,  0.58423994],\n",
       "       [ 0.        ,  1.        ,  0.        ,  0.        ,  0.        ,\n",
       "         1.        ,  0.        ,  0.        ,  0.        ,  0.        ,\n",
       "         0.        ,  0.        ,  0.        ,  0.        ,  0.        ,\n",
       "         0.        ,  0.        ,  0.        ,  1.        ,  0.        ,\n",
       "         0.        , -0.27656092, -0.61756428, -1.40937142]])"
      ]
     },
     "execution_count": 77,
     "metadata": {},
     "output_type": "execute_result"
    }
   ],
   "source": [
    "transformer = sk.compose.make_column_transformer(\n",
    "    (sk.preprocessing.OneHotEncoder(),['fare']),\n",
    "    (sk.preprocessing.OneHotEncoder(),['vehicle_type']),\n",
    "    (sk.preprocessing.OneHotEncoder(),['vehicle_class']),\n",
    "    (sk.preprocessing.StandardScaler(),['geodistance']),\n",
    "    (sk.preprocessing.StandardScaler(),['duration']),\n",
    "    (sk.preprocessing.StandardScaler(),['departure_hour']),\n",
    "    remainder='passthrough'\n",
    ")\n",
    "X = transformer.fit_transform(df_train[numeric+categorical])\n",
    "X.toarray()[:2]"
   ]
  },
  {
   "cell_type": "markdown",
   "metadata": {},
   "source": [
    "Obtained values can be used to train the model:"
   ]
  },
  {
   "cell_type": "code",
   "execution_count": 78,
   "metadata": {},
   "outputs": [
    {
     "name": "stdout",
     "output_type": "stream",
     "text": [
      "MSE=75.3224979242507, MAE=6.046722009473211, MAE(%)=0.14033664217945888\n"
     ]
    }
   ],
   "source": [
    "model = sk.linear_model.LinearRegression()\n",
    "model = model.fit(X,Y)\n",
    "X_t = transformer.transform(df_test[numeric+categorical])\n",
    "Y_t_pred = model.predict(X_t)\n",
    "print(f\"MSE={sk.metrics.mean_squared_error(Y_t,Y_t_pred)}, \\\n",
    "MAE={sk.metrics.mean_absolute_error(Y_t,Y_t_pred)}, \\\n",
    "MAE(%)={sk.metrics.mean_absolute_percentage_error(Y_t,Y_t_pred)}\")"
   ]
  },
  {
   "cell_type": "markdown",
   "metadata": {},
   "source": [
    "### Adding Attributes\n",
    "\n",
    "Sometimes, the result are not a linear function of features. For example, when computing the remaining amount of money on a bank account which follows compound interest are likely to follow exponential relationship from time. In this case we can improve the quality of the model by replacing the value by a logarithm.\n",
    "\n",
    "In the same manner, we can try to improve the accuracy of a linear model by adding to the original dataset some functions of features or their combinations, which become new features for an extended linear model. \n",
    "\n",
    "One of the approaches to do it automatically is to add **polynomial combinations** of features. For example, if original dataset contain features $x_1, x_2, x_3$, then adding all second-order polynomial features we get $x_1^2, x_2^2, x_3^2, x_1x_2, x_1x_3, x_2x_3$, in addition to original features.\n",
    "\n",
    "This can also be done using a transformer:"
   ]
  },
  {
   "cell_type": "code",
   "execution_count": 79,
   "metadata": {},
   "outputs": [
    {
     "data": {
      "text/plain": [
       "((997340, 24), (997340, 325))"
      ]
     },
     "execution_count": 79,
     "metadata": {},
     "output_type": "execute_result"
    }
   ],
   "source": [
    "poly = sk.preprocessing.PolynomialFeatures()\n",
    "Xp = poly.fit_transform(X)\n",
    "X.shape,Xp.shape"
   ]
  },
  {
   "cell_type": "markdown",
   "metadata": {},
   "source": [
    "From 24 features we obtained 325 features! Now let's train the model:"
   ]
  },
  {
   "cell_type": "code",
   "execution_count": 80,
   "metadata": {},
   "outputs": [
    {
     "name": "stdout",
     "output_type": "stream",
     "text": [
      "MSE=50.35765535651989, MAE=4.631631254581291, MAE(%)=0.1098326687935525\n"
     ]
    }
   ],
   "source": [
    "model.fit(Xp,Y)\n",
    "\n",
    "Xp_t = poly.transform(X_t)\n",
    "Yp_t_pred = model.predict(Xp_t)\n",
    "print(f\"MSE={sk.metrics.mean_squared_error(Y_t,Yp_t_pred)}, \\\n",
    "MAE={sk.metrics.mean_absolute_error(Y_t,Yp_t_pred)}, \\\n",
    "MAE(%)={sk.metrics.mean_absolute_percentage_error(Y_t,Yp_t_pred)}\")"
   ]
  },
  {
   "cell_type": "markdown",
   "metadata": {},
   "source": [
    "### Using Pipelines\n",
    "\n",
    "In our example we have used `ColumnTransformer` to encode non-numeric features, then `PolynomialFeatures` to add additional features, and then fed the result into `LinearRegression` object to train the model.\n",
    "\n",
    "We can bundle those steps into a single **pipeline**, because all steps of this pipeline follow similar interface of having `fit` or `fit_transform` methods:"
   ]
  },
  {
   "cell_type": "code",
   "execution_count": 81,
   "metadata": {},
   "outputs": [
    {
     "data": {
      "text/plain": [
       "0.8967705430902998"
      ]
     },
     "execution_count": 81,
     "metadata": {},
     "output_type": "execute_result"
    }
   ],
   "source": [
    "pipe = sk.pipeline.Pipeline([\n",
    "    ('ColumnTransform',transformer),\n",
    "    ('PolyFeatures',poly),\n",
    "    ('LinearModel',model)\n",
    "])\n",
    "pipe.fit(df_train[numeric+categorical],Y)\n",
    "pipe.score(df_test[numeric+categorical],Y_t)"
   ]
  },
  {
   "cell_type": "code",
   "execution_count": 82,
   "metadata": {},
   "outputs": [
    {
     "name": "stdout",
     "output_type": "stream",
     "text": [
      "MSE=50.35765535651989, MAE=4.631631254581291, MAE(%)=0.1098326687935525\n"
     ]
    }
   ],
   "source": [
    "Yp_t_pred = pipe.predict(df_test[numeric+categorical])\n",
    "print(f\"MSE={sk.metrics.mean_squared_error(Y_t,Yp_t_pred)}, \\\n",
    "MAE={sk.metrics.mean_absolute_error(Y_t,Yp_t_pred)}, \\\n",
    "MAE(%)={sk.metrics.mean_absolute_percentage_error(Y_t,Yp_t_pred)}\")"
   ]
  },
  {
   "cell_type": "markdown",
   "metadata": {},
   "source": [
    "Using just a few lines of code we have built a data processing pipeline that pre-processes the data, computed additional features, trains the model and checks it for accuracy."
   ]
  },
  {
   "cell_type": "markdown",
   "metadata": {},
   "source": [
    "### Decision Trees\n",
    "\n",
    "In our case, prices for tickets can change non-linearly, because each fare can have it's own price principles and rules. For such cases, we can use another ML algorithm - **decision trees**. A decision tree looks at some feature, and depending on its value considers several possible ways to compute the result. Then, at each of the sub-trees, we select next feature to look at, and so on.\n",
    "\n",
    "Let's train the decision tree on our data:"
   ]
  },
  {
   "cell_type": "code",
   "execution_count": 83,
   "metadata": {},
   "outputs": [
    {
     "name": "stdout",
     "output_type": "stream",
     "text": [
      "MSE=33.65830882325588, MAE=2.85343618020788, MAE(%)=0.07116475636099631\n"
     ]
    }
   ],
   "source": [
    "model = sk.tree.DecisionTreeRegressor()\n",
    "model = model.fit(X,Y)\n",
    "\n",
    "Y_t_pred = model.predict(X_t)\n",
    "print(f\"MSE={sk.metrics.mean_squared_error(Y_t,Y_t_pred)}, \\\n",
    "MAE={sk.metrics.mean_absolute_error(Y_t,Y_t_pred)}, \\\n",
    "MAE(%)={sk.metrics.mean_absolute_percentage_error(Y_t,Y_t_pred)}\")"
   ]
  },
  {
   "cell_type": "markdown",
   "metadata": {},
   "source": [
    "Interestingly enough, decision trees give us fantastic accuracy! This is mostly due to the fact that we have just a few combinations of cities in our dataset, and the tree is likely to *remember* typical prices for tickts between those cities in different fares.\n",
    "\n",
    "Trees are also interpretable, however, it gets hardly interpretable when it grows too big. For clarity, let's limit the depth of the tree - this will decrease accuracy, but will make the tree more observable:"
   ]
  },
  {
   "cell_type": "code",
   "execution_count": 84,
   "metadata": {},
   "outputs": [
    {
     "data": {
      "image/png": "[encoded data removed]",
      "text/plain": [
       "<Figure size 432x288 with 1 Axes>"
      ]
     },
     "metadata": {
      "needs_background": "light"
     },
     "output_type": "display_data"
    }
   ],
   "source": [
    "model = sk.tree.DecisionTreeRegressor(max_depth=4)\n",
    "model = model.fit(X,Y)\n",
    "\n",
    "z = sk.tree.plot_tree(model,feature_names=transformer.get_feature_names_out())"
   ]
  },
  {
   "cell_type": "markdown",
   "metadata": {},
   "source": [
    "To get better visualization, we can use **GraphViz** library. It should be installed using `conda install python-graphviz` into your Python environment."
   ]
  },
  {
   "cell_type": "code",
   "execution_count": 85,
   "metadata": {},
   "outputs": [
    {
     "data": {
      "image/svg+xml": "<?xml version=\"1.0\" encoding=\"UTF-8\" standalone=\"no\"?>\n<!DOCTYPE svg PUBLIC \"-//W3C//DTD SVG 1.1//EN\"\n \"http://www.w3.org/Graphics/SVG/1.1/DTD/svg11.dtd\">\n<!-- Generated by graphviz version 2.38.0 (20140413.2041)\n -->\n<!-- Title: Tree Pages: 1 -->\n<svg width=\"2514pt\" height=\"477pt\"\n viewBox=\"0.00 0.00 2514.00 477.00\" xmlns=\"http://www.w3.org/2000/svg\" xmlns:xlink=\"http://www.w3.org/1999/xlink\">\n<g id=\"graph0\" class=\"graph\" transform=\"scale(1 1) rotate(0) translate(4 473)\">\n<title>Tree</title>\n<polygon fill=\"white\" stroke=\"none\" points=\"-4,4 -4,-473 2510,-473 2510,4 -4,4\"/>\n<!-- 0 -->\n<g id=\"node1\" class=\"node\"><title>0</title>\n<path fill=\"#fae9dc\" stroke=\"black\" d=\"M1525,-469C1525,-469 1280,-469 1280,-469 1274,-469 1268,-463 1268,-457 1268,-457 1268,-413 1268,-413 1268,-407 1274,-401 1280,-401 1280,-401 1525,-401 1525,-401 1531,-401 1537,-407 1537,-413 1537,-413 1537,-457 1537,-457 1537,-463 1531,-469 1525,-469\"/>\n<text text-anchor=\"start\" x=\"1276\" y=\"-453.8\" font-family=\"Helvetica,sans-Serif\" font-size=\"14.00\">standardscaler&#45;1__geodistance ≤ 1.604</text>\n<text text-anchor=\"start\" x=\"1322.5\" y=\"-438.8\" font-family=\"Helvetica,sans-Serif\" font-size=\"14.00\">squared_error = 487.908</text>\n<text text-anchor=\"start\" x=\"1342.5\" y=\"-423.8\" font-family=\"Helvetica,sans-Serif\" font-size=\"14.00\">samples = 997340</text>\n<text text-anchor=\"start\" x=\"1355.5\" y=\"-408.8\" font-family=\"Helvetica,sans-Serif\" font-size=\"14.00\">value = 47.746</text>\n</g>\n<!-- 1 -->\n<g id=\"node2\" class=\"node\"><title>1</title>\n<path fill=\"#fcf0e7\" stroke=\"black\" d=\"M1149.5,-365C1149.5,-365 997.5,-365 997.5,-365 991.5,-365 985.5,-359 985.5,-353 985.5,-353 985.5,-309 985.5,-309 985.5,-303 991.5,-297 997.5,-297 997.5,-297 1149.5,-297 1149.5,-297 1155.5,-297 1161.5,-303 1161.5,-309 1161.5,-309 1161.5,-353 1161.5,-353 1161.5,-359 1155.5,-365 1149.5,-365\"/>\n<text text-anchor=\"start\" x=\"1014.5\" y=\"-349.8\" font-family=\"Helvetica,sans-Serif\" font-size=\"14.00\">fare_Flexible ≤ 0.5</text>\n<text text-anchor=\"start\" x=\"993.5\" y=\"-334.8\" font-family=\"Helvetica,sans-Serif\" font-size=\"14.00\">squared_error = 219.581</text>\n<text text-anchor=\"start\" x=\"1013.5\" y=\"-319.8\" font-family=\"Helvetica,sans-Serif\" font-size=\"14.00\">samples = 877093</text>\n<text text-anchor=\"start\" x=\"1026.5\" y=\"-304.8\" font-family=\"Helvetica,sans-Serif\" font-size=\"14.00\">value = 42.207</text>\n</g>\n<!-- 0&#45;&gt;1 -->\n<g id=\"edge1\" class=\"edge\"><title>0&#45;&gt;1</title>\n<path fill=\"none\" stroke=\"black\" d=\"M1295.68,-400.884C1255.73,-388.496 1210.57,-374.497 1171.46,-362.369\"/>\n<polygon fill=\"black\" stroke=\"black\" points=\"1172.24,-358.947 1161.65,-359.328 1170.16,-365.633 1172.24,-358.947\"/>\n<text text-anchor=\"middle\" x=\"1173.3\" y=\"-377.748\" font-family=\"Helvetica,sans-Serif\" font-size=\"14.00\">True</text>\n</g>\n<!-- 16 -->\n<g id=\"node17\" class=\"node\"><title>16</title>\n<path fill=\"#f0b58a\" stroke=\"black\" d=\"M1844.5,-365C1844.5,-365 1692.5,-365 1692.5,-365 1686.5,-365 1680.5,-359 1680.5,-353 1680.5,-353 1680.5,-309 1680.5,-309 1680.5,-303 1686.5,-297 1692.5,-297 1692.5,-297 1844.5,-297 1844.5,-297 1850.5,-297 1856.5,-303 1856.5,-309 1856.5,-309 1856.5,-353 1856.5,-353 1856.5,-359 1850.5,-365 1844.5,-365\"/>\n<text text-anchor=\"start\" x=\"1709.5\" y=\"-349.8\" font-family=\"Helvetica,sans-Serif\" font-size=\"14.00\">fare_Flexible ≤ 0.5</text>\n<text text-anchor=\"start\" x=\"1688.5\" y=\"-334.8\" font-family=\"Helvetica,sans-Serif\" font-size=\"14.00\">squared_error = 589.461</text>\n<text text-anchor=\"start\" x=\"1708.5\" y=\"-319.8\" font-family=\"Helvetica,sans-Serif\" font-size=\"14.00\">samples = 120247</text>\n<text text-anchor=\"start\" x=\"1721.5\" y=\"-304.8\" font-family=\"Helvetica,sans-Serif\" font-size=\"14.00\">value = 88.143</text>\n</g>\n<!-- 0&#45;&gt;16 -->\n<g id=\"edge16\" class=\"edge\"><title>0&#45;&gt;16</title>\n<path fill=\"none\" stroke=\"black\" d=\"M1521.08,-400.954C1569.42,-387.482 1624.64,-372.093 1670.62,-359.277\"/>\n<polygon fill=\"black\" stroke=\"black\" points=\"1671.6,-362.639 1680.29,-356.583 1669.72,-355.896 1671.6,-362.639\"/>\n<text text-anchor=\"middle\" x=\"1668.01\" y=\"-374.657\" font-family=\"Helvetica,sans-Serif\" font-size=\"14.00\">False</text>\n</g>\n<!-- 2 -->\n<g id=\"node3\" class=\"node\"><title>2</title>\n<path fill=\"#fef8f5\" stroke=\"black\" d=\"M650.5,-261C650.5,-261 498.5,-261 498.5,-261 492.5,-261 486.5,-255 486.5,-249 486.5,-249 486.5,-205 486.5,-205 486.5,-199 492.5,-193 498.5,-193 498.5,-193 650.5,-193 650.5,-193 656.5,-193 662.5,-199 662.5,-205 662.5,-205 662.5,-249 662.5,-249 662.5,-255 656.5,-261 650.5,-261\"/>\n<text text-anchor=\"start\" x=\"498\" y=\"-245.8\" font-family=\"Helvetica,sans-Serif\" font-size=\"14.00\">vehicle_type_AVE ≤ 0.5</text>\n<text text-anchor=\"start\" x=\"494.5\" y=\"-230.8\" font-family=\"Helvetica,sans-Serif\" font-size=\"14.00\">squared_error = 104.849</text>\n<text text-anchor=\"start\" x=\"514.5\" y=\"-215.8\" font-family=\"Helvetica,sans-Serif\" font-size=\"14.00\">samples = 589812</text>\n<text text-anchor=\"start\" x=\"527.5\" y=\"-200.8\" font-family=\"Helvetica,sans-Serif\" font-size=\"14.00\">value = 35.471</text>\n</g>\n<!-- 1&#45;&gt;2 -->\n<g id=\"edge2\" class=\"edge\"><title>1&#45;&gt;2</title>\n<path fill=\"none\" stroke=\"black\" d=\"M985.437,-311.999C897.791,-294.084 763.565,-266.647 672.567,-248.046\"/>\n<polygon fill=\"black\" stroke=\"black\" points=\"673.018,-244.566 662.52,-245.992 671.616,-251.424 673.018,-244.566\"/>\n</g>\n<!-- 9 -->\n<g id=\"node10\" class=\"node\"><title>9</title>\n<path fill=\"#f8decb\" stroke=\"black\" d=\"M1198,-261C1198,-261 949,-261 949,-261 943,-261 937,-255 937,-249 937,-249 937,-205 937,-205 937,-199 943,-193 949,-193 949,-193 1198,-193 1198,-193 1204,-193 1210,-199 1210,-205 1210,-205 1210,-249 1210,-249 1210,-255 1204,-261 1198,-261\"/>\n<text text-anchor=\"start\" x=\"945\" y=\"-245.8\" font-family=\"Helvetica,sans-Serif\" font-size=\"14.00\">standardscaler&#45;1__geodistance ≤ &#45;0.935</text>\n<text text-anchor=\"start\" x=\"993.5\" y=\"-230.8\" font-family=\"Helvetica,sans-Serif\" font-size=\"14.00\">squared_error = 170.656</text>\n<text text-anchor=\"start\" x=\"1013.5\" y=\"-215.8\" font-family=\"Helvetica,sans-Serif\" font-size=\"14.00\">samples = 287281</text>\n<text text-anchor=\"start\" x=\"1026.5\" y=\"-200.8\" font-family=\"Helvetica,sans-Serif\" font-size=\"14.00\">value = 56.039</text>\n</g>\n<!-- 1&#45;&gt;9 -->\n<g id=\"edge9\" class=\"edge\"><title>1&#45;&gt;9</title>\n<path fill=\"none\" stroke=\"black\" d=\"M1073.5,-296.884C1073.5,-288.778 1073.5,-279.982 1073.5,-271.472\"/>\n<polygon fill=\"black\" stroke=\"black\" points=\"1077,-271.299 1073.5,-261.299 1070,-271.299 1077,-271.299\"/>\n</g>\n<!-- 3 -->\n<g id=\"node4\" class=\"node\"><title>3</title>\n<path fill=\"#fffefe\" stroke=\"black\" d=\"M352.5,-157C352.5,-157 184.5,-157 184.5,-157 178.5,-157 172.5,-151 172.5,-145 172.5,-145 172.5,-101 172.5,-101 172.5,-95 178.5,-89 184.5,-89 184.5,-89 352.5,-89 352.5,-89 358.5,-89 364.5,-95 364.5,-101 364.5,-101 364.5,-145 364.5,-145 364.5,-151 358.5,-157 352.5,-157\"/>\n<text text-anchor=\"start\" x=\"180.5\" y=\"-141.8\" font-family=\"Helvetica,sans-Serif\" font-size=\"14.00\">vehicle_type_LD&#45;AVE ≤ 0.5</text>\n<text text-anchor=\"start\" x=\"193\" y=\"-126.8\" font-family=\"Helvetica,sans-Serif\" font-size=\"14.00\">squared_error = 55.774</text>\n<text text-anchor=\"start\" x=\"208.5\" y=\"-111.8\" font-family=\"Helvetica,sans-Serif\" font-size=\"14.00\">samples = 293629</text>\n<text text-anchor=\"start\" x=\"221.5\" y=\"-96.8\" font-family=\"Helvetica,sans-Serif\" font-size=\"14.00\">value = 30.826</text>\n</g>\n<!-- 2&#45;&gt;3 -->\n<g id=\"edge3\" class=\"edge\"><title>2&#45;&gt;3</title>\n<path fill=\"none\" stroke=\"black\" d=\"M486.403,-196.634C451.394,-184.965 410.821,-171.44 374.243,-159.248\"/>\n<polygon fill=\"black\" stroke=\"black\" points=\"375.133,-155.855 364.54,-156.013 372.92,-162.496 375.133,-155.855\"/>\n</g>\n<!-- 6 -->\n<g id=\"node7\" class=\"node\"><title>6</title>\n<path fill=\"#fcf3eb\" stroke=\"black\" d=\"M685,-157C685,-157 464,-157 464,-157 458,-157 452,-151 452,-145 452,-145 452,-101 452,-101 452,-95 458,-89 464,-89 464,-89 685,-89 685,-89 691,-89 697,-95 697,-101 697,-101 697,-145 697,-145 697,-151 691,-157 685,-157\"/>\n<text text-anchor=\"start\" x=\"460\" y=\"-141.8\" font-family=\"Helvetica,sans-Serif\" font-size=\"14.00\">standardscaler&#45;2__duration ≤ &#45;0.138</text>\n<text text-anchor=\"start\" x=\"494.5\" y=\"-126.8\" font-family=\"Helvetica,sans-Serif\" font-size=\"14.00\">squared_error = 110.909</text>\n<text text-anchor=\"start\" x=\"514.5\" y=\"-111.8\" font-family=\"Helvetica,sans-Serif\" font-size=\"14.00\">samples = 296183</text>\n<text text-anchor=\"start\" x=\"527.5\" y=\"-96.8\" font-family=\"Helvetica,sans-Serif\" font-size=\"14.00\">value = 40.075</text>\n</g>\n<!-- 2&#45;&gt;6 -->\n<g id=\"edge6\" class=\"edge\"><title>2&#45;&gt;6</title>\n<path fill=\"none\" stroke=\"black\" d=\"M574.5,-192.884C574.5,-184.778 574.5,-175.982 574.5,-167.472\"/>\n<polygon fill=\"black\" stroke=\"black\" points=\"578,-167.299 574.5,-157.299 571,-167.299 578,-167.299\"/>\n</g>\n<!-- 4 -->\n<g id=\"node5\" class=\"node\"><title>4</title>\n<path fill=\"#ffffff\" stroke=\"black\" d=\"M155,-53C155,-53 12,-53 12,-53 6,-53 0,-47 0,-41 0,-41 0,-12 0,-12 0,-6 6,-0 12,-0 12,-0 155,-0 155,-0 161,-0 167,-6 167,-12 167,-12 167,-41 167,-41 167,-47 161,-53 155,-53\"/>\n<text text-anchor=\"start\" x=\"8\" y=\"-37.8\" font-family=\"Helvetica,sans-Serif\" font-size=\"14.00\">squared_error = 39.013</text>\n<text text-anchor=\"start\" x=\"23.5\" y=\"-22.8\" font-family=\"Helvetica,sans-Serif\" font-size=\"14.00\">samples = 289967</text>\n<text text-anchor=\"start\" x=\"36.5\" y=\"-7.8\" font-family=\"Helvetica,sans-Serif\" font-size=\"14.00\">value = 30.366</text>\n</g>\n<!-- 3&#45;&gt;4 -->\n<g id=\"edge4\" class=\"edge\"><title>3&#45;&gt;4</title>\n<path fill=\"none\" stroke=\"black\" d=\"M203.796,-88.9485C183.917,-78.794 162.149,-67.675 142.661,-57.7203\"/>\n<polygon fill=\"black\" stroke=\"black\" points=\"144.088,-54.5188 133.59,-53.0867 140.904,-60.7526 144.088,-54.5188\"/>\n</g>\n<!-- 5 -->\n<g id=\"node6\" class=\"node\"><title>5</title>\n<path fill=\"#f5d0b5\" stroke=\"black\" d=\"M340,-53C340,-53 197,-53 197,-53 191,-53 185,-47 185,-41 185,-41 185,-12 185,-12 185,-6 191,-0 197,-0 197,-0 340,-0 340,-0 346,-0 352,-6 352,-12 352,-12 352,-41 352,-41 352,-47 346,-53 340,-53\"/>\n<text text-anchor=\"start\" x=\"193\" y=\"-37.8\" font-family=\"Helvetica,sans-Serif\" font-size=\"14.00\">squared_error = 42.365</text>\n<text text-anchor=\"start\" x=\"217\" y=\"-22.8\" font-family=\"Helvetica,sans-Serif\" font-size=\"14.00\">samples = 3662</text>\n<text text-anchor=\"start\" x=\"221.5\" y=\"-7.8\" font-family=\"Helvetica,sans-Serif\" font-size=\"14.00\">value = 67.211</text>\n</g>\n<!-- 3&#45;&gt;5 -->\n<g id=\"edge5\" class=\"edge\"><title>3&#45;&gt;5</title>\n<path fill=\"none\" stroke=\"black\" d=\"M268.5,-88.9485C268.5,-80.7153 268.5,-71.848 268.5,-63.4814\"/>\n<polygon fill=\"black\" stroke=\"black\" points=\"272,-63.2367 268.5,-53.2367 265,-63.2367 272,-63.2367\"/>\n</g>\n<!-- 7 -->\n<g id=\"node8\" class=\"node\"><title>7</title>\n<path fill=\"#fdf4ee\" stroke=\"black\" d=\"M525,-53C525,-53 382,-53 382,-53 376,-53 370,-47 370,-41 370,-41 370,-12 370,-12 370,-6 376,-0 382,-0 382,-0 525,-0 525,-0 531,-0 537,-6 537,-12 537,-12 537,-41 537,-41 537,-47 531,-53 525,-53\"/>\n<text text-anchor=\"start\" x=\"378\" y=\"-37.8\" font-family=\"Helvetica,sans-Serif\" font-size=\"14.00\">squared_error = 80.392</text>\n<text text-anchor=\"start\" x=\"393.5\" y=\"-22.8\" font-family=\"Helvetica,sans-Serif\" font-size=\"14.00\">samples = 234398</text>\n<text text-anchor=\"start\" x=\"406.5\" y=\"-7.8\" font-family=\"Helvetica,sans-Serif\" font-size=\"14.00\">value = 38.558</text>\n</g>\n<!-- 6&#45;&gt;7 -->\n<g id=\"edge7\" class=\"edge\"><title>6&#45;&gt;7</title>\n<path fill=\"none\" stroke=\"black\" d=\"M532.18,-88.9485C519.998,-79.4346 506.732,-69.074 494.624,-59.6175\"/>\n<polygon fill=\"black\" stroke=\"black\" points=\"496.489,-56.6335 486.454,-53.2367 492.181,-62.1504 496.489,-56.6335\"/>\n</g>\n<!-- 8 -->\n<g id=\"node9\" class=\"node\"><title>8</title>\n<path fill=\"#fbebe0\" stroke=\"black\" d=\"M719.5,-53C719.5,-53 567.5,-53 567.5,-53 561.5,-53 555.5,-47 555.5,-41 555.5,-41 555.5,-12 555.5,-12 555.5,-6 561.5,-0 567.5,-0 567.5,-0 719.5,-0 719.5,-0 725.5,-0 731.5,-6 731.5,-12 731.5,-12 731.5,-41 731.5,-41 731.5,-47 725.5,-53 719.5,-53\"/>\n<text text-anchor=\"start\" x=\"563.5\" y=\"-37.8\" font-family=\"Helvetica,sans-Serif\" font-size=\"14.00\">squared_error = 184.841</text>\n<text text-anchor=\"start\" x=\"587.5\" y=\"-22.8\" font-family=\"Helvetica,sans-Serif\" font-size=\"14.00\">samples = 61785</text>\n<text text-anchor=\"start\" x=\"600.5\" y=\"-7.8\" font-family=\"Helvetica,sans-Serif\" font-size=\"14.00\">value = 45.83</text>\n</g>\n<!-- 6&#45;&gt;8 -->\n<g id=\"edge8\" class=\"edge\"><title>6&#45;&gt;8</title>\n<path fill=\"none\" stroke=\"black\" d=\"M598.633,-88.9485C605.112,-80.0749 612.129,-70.4648 618.646,-61.5388\"/>\n<polygon fill=\"black\" stroke=\"black\" points=\"621.638,-63.3769 624.708,-53.2367 615.984,-59.249 621.638,-63.3769\"/>\n</g>\n<!-- 10 -->\n<g id=\"node11\" class=\"node\"><title>10</title>\n<path fill=\"#fdf6f1\" stroke=\"black\" d=\"M1032,-157C1032,-157 867,-157 867,-157 861,-157 855,-151 855,-145 855,-145 855,-101 855,-101 855,-95 861,-89 867,-89 867,-89 1032,-89 1032,-89 1038,-89 1044,-95 1044,-101 1044,-101 1044,-145 1044,-145 1044,-151 1038,-157 1032,-157\"/>\n<text text-anchor=\"start\" x=\"863\" y=\"-141.8\" font-family=\"Helvetica,sans-Serif\" font-size=\"14.00\">vehicle_type_Intercity ≤ 0.5</text>\n<text text-anchor=\"start\" x=\"878\" y=\"-126.8\" font-family=\"Helvetica,sans-Serif\" font-size=\"14.00\">squared_error = 3.715</text>\n<text text-anchor=\"start\" x=\"893.5\" y=\"-111.8\" font-family=\"Helvetica,sans-Serif\" font-size=\"14.00\">samples = 56784</text>\n<text text-anchor=\"start\" x=\"902.5\" y=\"-96.8\" font-family=\"Helvetica,sans-Serif\" font-size=\"14.00\">value = 37.211</text>\n</g>\n<!-- 9&#45;&gt;10 -->\n<g id=\"edge10\" class=\"edge\"><title>9&#45;&gt;10</title>\n<path fill=\"none\" stroke=\"black\" d=\"M1033.24,-192.884C1021.98,-183.62 1009.62,-173.455 997.94,-163.845\"/>\n<polygon fill=\"black\" stroke=\"black\" points=\"999.928,-160.949 989.982,-157.299 995.481,-166.355 999.928,-160.949\"/>\n</g>\n<!-- 13 -->\n<g id=\"node14\" class=\"node\"><title>13</title>\n<path fill=\"#f7d8c2\" stroke=\"black\" d=\"M1319,-157C1319,-157 1074,-157 1074,-157 1068,-157 1062,-151 1062,-145 1062,-145 1062,-101 1062,-101 1062,-95 1068,-89 1074,-89 1074,-89 1319,-89 1319,-89 1325,-89 1331,-95 1331,-101 1331,-101 1331,-145 1331,-145 1331,-151 1325,-157 1319,-157\"/>\n<text text-anchor=\"start\" x=\"1070\" y=\"-141.8\" font-family=\"Helvetica,sans-Serif\" font-size=\"14.00\">standardscaler&#45;1__geodistance ≤ 0.015</text>\n<text text-anchor=\"start\" x=\"1116.5\" y=\"-126.8\" font-family=\"Helvetica,sans-Serif\" font-size=\"14.00\">squared_error = 102.947</text>\n<text text-anchor=\"start\" x=\"1136.5\" y=\"-111.8\" font-family=\"Helvetica,sans-Serif\" font-size=\"14.00\">samples = 230497</text>\n<text text-anchor=\"start\" x=\"1149.5\" y=\"-96.8\" font-family=\"Helvetica,sans-Serif\" font-size=\"14.00\">value = 60.677</text>\n</g>\n<!-- 9&#45;&gt;13 -->\n<g id=\"edge13\" class=\"edge\"><title>9&#45;&gt;13</title>\n<path fill=\"none\" stroke=\"black\" d=\"M1113.43,-192.884C1124.61,-183.62 1136.86,-173.455 1148.45,-163.845\"/>\n<polygon fill=\"black\" stroke=\"black\" points=\"1150.88,-166.377 1156.34,-157.299 1146.41,-160.989 1150.88,-166.377\"/>\n</g>\n<!-- 11 -->\n<g id=\"node12\" class=\"node\"><title>11</title>\n<path fill=\"#fdf5f0\" stroke=\"black\" d=\"M885,-53C885,-53 762,-53 762,-53 756,-53 750,-47 750,-41 750,-41 750,-12 750,-12 750,-6 756,-0 762,-0 762,-0 885,-0 885,-0 891,-0 897,-6 897,-12 897,-12 897,-41 897,-41 897,-47 891,-53 885,-53\"/>\n<text text-anchor=\"start\" x=\"758\" y=\"-37.8\" font-family=\"Helvetica,sans-Serif\" font-size=\"14.00\">squared_error = &#45;0.0</text>\n<text text-anchor=\"start\" x=\"767.5\" y=\"-22.8\" font-family=\"Helvetica,sans-Serif\" font-size=\"14.00\">samples = 51940</text>\n<text text-anchor=\"start\" x=\"784.5\" y=\"-7.8\" font-family=\"Helvetica,sans-Serif\" font-size=\"14.00\">value = 37.8</text>\n</g>\n<!-- 10&#45;&gt;11 -->\n<g id=\"edge11\" class=\"edge\"><title>10&#45;&gt;11</title>\n<path fill=\"none\" stroke=\"black\" d=\"M905.431,-88.9485C892.624,-79.3431 878.666,-68.8747 865.96,-59.345\"/>\n<polygon fill=\"black\" stroke=\"black\" points=\"867.916,-56.4367 857.816,-53.2367 863.716,-62.0368 867.916,-56.4367\"/>\n</g>\n<!-- 12 -->\n<g id=\"node13\" class=\"node\"><title>12</title>\n<path fill=\"#fffefe\" stroke=\"black\" d=\"M1046,-53C1046,-53 927,-53 927,-53 921,-53 915,-47 915,-41 915,-41 915,-12 915,-12 915,-6 921,-0 927,-0 927,-0 1046,-0 1046,-0 1052,-0 1058,-6 1058,-12 1058,-12 1058,-41 1058,-41 1058,-47 1052,-53 1046,-53\"/>\n<text text-anchor=\"start\" x=\"923\" y=\"-37.8\" font-family=\"Helvetica,sans-Serif\" font-size=\"14.00\">squared_error = 0.0</text>\n<text text-anchor=\"start\" x=\"935\" y=\"-22.8\" font-family=\"Helvetica,sans-Serif\" font-size=\"14.00\">samples = 4844</text>\n<text text-anchor=\"start\" x=\"947.5\" y=\"-7.8\" font-family=\"Helvetica,sans-Serif\" font-size=\"14.00\">value = 30.9</text>\n</g>\n<!-- 10&#45;&gt;12 -->\n<g id=\"edge12\" class=\"edge\"><title>10&#45;&gt;12</title>\n<path fill=\"none\" stroke=\"black\" d=\"M962.441,-88.9485C965.772,-80.4408 969.368,-71.2562 972.739,-62.6464\"/>\n<polygon fill=\"black\" stroke=\"black\" points=\"976.036,-63.8245 976.423,-53.2367 969.518,-61.2723 976.036,-63.8245\"/>\n</g>\n<!-- 14 -->\n<g id=\"node15\" class=\"node\"><title>14</title>\n<path fill=\"#f8ddc9\" stroke=\"black\" d=\"M1231,-53C1231,-53 1088,-53 1088,-53 1082,-53 1076,-47 1076,-41 1076,-41 1076,-12 1076,-12 1076,-6 1082,-0 1088,-0 1088,-0 1231,-0 1231,-0 1237,-0 1243,-6 1243,-12 1243,-12 1243,-41 1243,-41 1243,-47 1237,-53 1231,-53\"/>\n<text text-anchor=\"start\" x=\"1084\" y=\"-37.8\" font-family=\"Helvetica,sans-Serif\" font-size=\"14.00\">squared_error = 53.771</text>\n<text text-anchor=\"start\" x=\"1099.5\" y=\"-22.8\" font-family=\"Helvetica,sans-Serif\" font-size=\"14.00\">samples = 186894</text>\n<text text-anchor=\"start\" x=\"1112.5\" y=\"-7.8\" font-family=\"Helvetica,sans-Serif\" font-size=\"14.00\">value = 57.152</text>\n</g>\n<!-- 13&#45;&gt;14 -->\n<g id=\"edge14\" class=\"edge\"><title>13&#45;&gt;14</title>\n<path fill=\"none\" stroke=\"black\" d=\"M1183.56,-88.9485C1180.23,-80.4408 1176.63,-71.2562 1173.26,-62.6464\"/>\n<polygon fill=\"black\" stroke=\"black\" points=\"1176.48,-61.2723 1169.58,-53.2367 1169.96,-63.8245 1176.48,-61.2723\"/>\n</g>\n<!-- 15 -->\n<g id=\"node16\" class=\"node\"><title>15</title>\n<path fill=\"#f3c5a3\" stroke=\"black\" d=\"M1416,-53C1416,-53 1273,-53 1273,-53 1267,-53 1261,-47 1261,-41 1261,-41 1261,-12 1261,-12 1261,-6 1267,-0 1273,-0 1273,-0 1416,-0 1416,-0 1422,-0 1428,-6 1428,-12 1428,-12 1428,-41 1428,-41 1428,-47 1422,-53 1416,-53\"/>\n<text text-anchor=\"start\" x=\"1269\" y=\"-37.8\" font-family=\"Helvetica,sans-Serif\" font-size=\"14.00\">squared_error = 32.256</text>\n<text text-anchor=\"start\" x=\"1288.5\" y=\"-22.8\" font-family=\"Helvetica,sans-Serif\" font-size=\"14.00\">samples = 43603</text>\n<text text-anchor=\"start\" x=\"1297.5\" y=\"-7.8\" font-family=\"Helvetica,sans-Serif\" font-size=\"14.00\">value = 75.784</text>\n</g>\n<!-- 13&#45;&gt;15 -->\n<g id=\"edge15\" class=\"edge\"><title>13&#45;&gt;15</title>\n<path fill=\"none\" stroke=\"black\" d=\"M1248.26,-88.9485C1263.59,-79.1601 1280.33,-68.4756 1295.48,-58.8015\"/>\n<polygon fill=\"black\" stroke=\"black\" points=\"1297.65,-61.5683 1304.19,-53.2367 1293.88,-55.6685 1297.65,-61.5683\"/>\n</g>\n<!-- 17 -->\n<g id=\"node18\" class=\"node\"><title>17</title>\n<path fill=\"#f4c9ab\" stroke=\"black\" d=\"M1877,-261C1877,-261 1660,-261 1660,-261 1654,-261 1648,-255 1648,-249 1648,-249 1648,-205 1648,-205 1648,-199 1654,-193 1660,-193 1660,-193 1877,-193 1877,-193 1883,-193 1889,-199 1889,-205 1889,-205 1889,-249 1889,-249 1889,-255 1883,-261 1877,-261\"/>\n<text text-anchor=\"start\" x=\"1656\" y=\"-245.8\" font-family=\"Helvetica,sans-Serif\" font-size=\"14.00\">standardscaler&#45;2__duration ≤ 1.247</text>\n<text text-anchor=\"start\" x=\"1688.5\" y=\"-230.8\" font-family=\"Helvetica,sans-Serif\" font-size=\"14.00\">squared_error = 382.971</text>\n<text text-anchor=\"start\" x=\"1712.5\" y=\"-215.8\" font-family=\"Helvetica,sans-Serif\" font-size=\"14.00\">samples = 69713</text>\n<text text-anchor=\"start\" x=\"1721.5\" y=\"-200.8\" font-family=\"Helvetica,sans-Serif\" font-size=\"14.00\">value = 72.208</text>\n</g>\n<!-- 16&#45;&gt;17 -->\n<g id=\"edge17\" class=\"edge\"><title>16&#45;&gt;17</title>\n<path fill=\"none\" stroke=\"black\" d=\"M1768.5,-296.884C1768.5,-288.778 1768.5,-279.982 1768.5,-271.472\"/>\n<polygon fill=\"black\" stroke=\"black\" points=\"1772,-271.299 1768.5,-261.299 1765,-271.299 1772,-271.299\"/>\n</g>\n<!-- 24 -->\n<g id=\"node25\" class=\"node\"><title>24</title>\n<path fill=\"#ea995e\" stroke=\"black\" d=\"M2192,-261C2192,-261 1983,-261 1983,-261 1977,-261 1971,-255 1971,-249 1971,-249 1971,-205 1971,-205 1971,-199 1977,-193 1983,-193 1983,-193 2192,-193 2192,-193 2198,-193 2204,-199 2204,-205 2204,-205 2204,-249 2204,-249 2204,-255 2198,-261 2192,-261\"/>\n<text text-anchor=\"start\" x=\"1979\" y=\"-245.8\" font-family=\"Helvetica,sans-Serif\" font-size=\"14.00\">standardscaler&#45;2__duration ≤ 0.07</text>\n<text text-anchor=\"start\" x=\"2012\" y=\"-230.8\" font-family=\"Helvetica,sans-Serif\" font-size=\"14.00\">squared_error = 40.836</text>\n<text text-anchor=\"start\" x=\"2031.5\" y=\"-215.8\" font-family=\"Helvetica,sans-Serif\" font-size=\"14.00\">samples = 50534</text>\n<text text-anchor=\"start\" x=\"2036\" y=\"-200.8\" font-family=\"Helvetica,sans-Serif\" font-size=\"14.00\">value = 110.125</text>\n</g>\n<!-- 16&#45;&gt;24 -->\n<g id=\"edge24\" class=\"edge\"><title>16&#45;&gt;24</title>\n<path fill=\"none\" stroke=\"black\" d=\"M1856.51,-301.858C1892.98,-290.198 1935.73,-276.527 1974.48,-264.139\"/>\n<polygon fill=\"black\" stroke=\"black\" points=\"1975.78,-267.398 1984.24,-261.019 1973.64,-260.731 1975.78,-267.398\"/>\n</g>\n<!-- 18 -->\n<g id=\"node19\" class=\"node\"><title>18</title>\n<path fill=\"#f2c29f\" stroke=\"black\" d=\"M1809,-157C1809,-157 1600,-157 1600,-157 1594,-157 1588,-151 1588,-145 1588,-145 1588,-101 1588,-101 1588,-95 1594,-89 1600,-89 1600,-89 1809,-89 1809,-89 1815,-89 1821,-95 1821,-101 1821,-101 1821,-145 1821,-145 1821,-151 1815,-157 1809,-157\"/>\n<text text-anchor=\"start\" x=\"1596\" y=\"-141.8\" font-family=\"Helvetica,sans-Serif\" font-size=\"14.00\">standardscaler&#45;2__duration ≤ 0.07</text>\n<text text-anchor=\"start\" x=\"1624.5\" y=\"-126.8\" font-family=\"Helvetica,sans-Serif\" font-size=\"14.00\">squared_error = 291.649</text>\n<text text-anchor=\"start\" x=\"1648.5\" y=\"-111.8\" font-family=\"Helvetica,sans-Serif\" font-size=\"14.00\">samples = 55850</text>\n<text text-anchor=\"start\" x=\"1657.5\" y=\"-96.8\" font-family=\"Helvetica,sans-Serif\" font-size=\"14.00\">value = 78.004</text>\n</g>\n<!-- 17&#45;&gt;18 -->\n<g id=\"edge18\" class=\"edge\"><title>17&#45;&gt;18</title>\n<path fill=\"none\" stroke=\"black\" d=\"M1747.72,-192.884C1742.3,-184.243 1736.39,-174.819 1730.72,-165.793\"/>\n<polygon fill=\"black\" stroke=\"black\" points=\"1733.67,-163.91 1725.39,-157.299 1727.74,-167.63 1733.67,-163.91\"/>\n</g>\n<!-- 21 -->\n<g id=\"node22\" class=\"node\"><title>21</title>\n<path fill=\"#fae7da\" stroke=\"black\" d=\"M1986,-157C1986,-157 1851,-157 1851,-157 1845,-157 1839,-151 1839,-145 1839,-145 1839,-101 1839,-101 1839,-95 1845,-89 1851,-89 1851,-89 1986,-89 1986,-89 1992,-89 1998,-95 1998,-101 1998,-101 1998,-145 1998,-145 1998,-151 1992,-157 1986,-157\"/>\n<text text-anchor=\"start\" x=\"1852.5\" y=\"-141.8\" font-family=\"Helvetica,sans-Serif\" font-size=\"14.00\">fare_Adulto ida ≤ 0.5</text>\n<text text-anchor=\"start\" x=\"1847\" y=\"-126.8\" font-family=\"Helvetica,sans-Serif\" font-size=\"14.00\">squared_error = 70.43</text>\n<text text-anchor=\"start\" x=\"1862.5\" y=\"-111.8\" font-family=\"Helvetica,sans-Serif\" font-size=\"14.00\">samples = 13863</text>\n<text text-anchor=\"start\" x=\"1875.5\" y=\"-96.8\" font-family=\"Helvetica,sans-Serif\" font-size=\"14.00\">value = 48.86</text>\n</g>\n<!-- 17&#45;&gt;21 -->\n<g id=\"edge21\" class=\"edge\"><title>17&#45;&gt;21</title>\n<path fill=\"none\" stroke=\"black\" d=\"M1817.2,-192.884C1831.29,-183.304 1846.79,-172.761 1861.35,-162.864\"/>\n<polygon fill=\"black\" stroke=\"black\" points=\"1863.49,-165.642 1869.79,-157.125 1859.55,-159.854 1863.49,-165.642\"/>\n</g>\n<!-- 19 -->\n<g id=\"node20\" class=\"node\"><title>19</title>\n<path fill=\"#f0b890\" stroke=\"black\" d=\"M1610.5,-53C1610.5,-53 1458.5,-53 1458.5,-53 1452.5,-53 1446.5,-47 1446.5,-41 1446.5,-41 1446.5,-12 1446.5,-12 1446.5,-6 1452.5,-0 1458.5,-0 1458.5,-0 1610.5,-0 1610.5,-0 1616.5,-0 1622.5,-6 1622.5,-12 1622.5,-12 1622.5,-41 1622.5,-41 1622.5,-47 1616.5,-53 1610.5,-53\"/>\n<text text-anchor=\"start\" x=\"1454.5\" y=\"-37.8\" font-family=\"Helvetica,sans-Serif\" font-size=\"14.00\">squared_error = 304.401</text>\n<text text-anchor=\"start\" x=\"1478.5\" y=\"-22.8\" font-family=\"Helvetica,sans-Serif\" font-size=\"14.00\">samples = 19096</text>\n<text text-anchor=\"start\" x=\"1487.5\" y=\"-7.8\" font-family=\"Helvetica,sans-Serif\" font-size=\"14.00\">value = 85.398</text>\n</g>\n<!-- 18&#45;&gt;19 -->\n<g id=\"edge19\" class=\"edge\"><title>18&#45;&gt;19</title>\n<path fill=\"none\" stroke=\"black\" d=\"M1645.04,-88.9485C1627.02,-78.9318 1607.32,-67.9767 1589.59,-58.1263\"/>\n<polygon fill=\"black\" stroke=\"black\" points=\"1590.97,-54.8862 1580.53,-53.0867 1587.57,-61.0045 1590.97,-54.8862\"/>\n</g>\n<!-- 20 -->\n<g id=\"node21\" class=\"node\"><title>20</title>\n<path fill=\"#f3c7a7\" stroke=\"black\" d=\"M1804.5,-53C1804.5,-53 1652.5,-53 1652.5,-53 1646.5,-53 1640.5,-47 1640.5,-41 1640.5,-41 1640.5,-12 1640.5,-12 1640.5,-6 1646.5,-0 1652.5,-0 1652.5,-0 1804.5,-0 1804.5,-0 1810.5,-0 1816.5,-6 1816.5,-12 1816.5,-12 1816.5,-41 1816.5,-41 1816.5,-47 1810.5,-53 1804.5,-53\"/>\n<text text-anchor=\"start\" x=\"1648.5\" y=\"-37.8\" font-family=\"Helvetica,sans-Serif\" font-size=\"14.00\">squared_error = 241.852</text>\n<text text-anchor=\"start\" x=\"1672.5\" y=\"-22.8\" font-family=\"Helvetica,sans-Serif\" font-size=\"14.00\">samples = 36754</text>\n<text text-anchor=\"start\" x=\"1681.5\" y=\"-7.8\" font-family=\"Helvetica,sans-Serif\" font-size=\"14.00\">value = 74.161</text>\n</g>\n<!-- 18&#45;&gt;20 -->\n<g id=\"edge20\" class=\"edge\"><title>18&#45;&gt;20</title>\n<path fill=\"none\" stroke=\"black\" d=\"M1712.89,-88.9485C1715.01,-80.6238 1717.29,-71.6509 1719.43,-63.2027\"/>\n<polygon fill=\"black\" stroke=\"black\" points=\"1722.89,-63.7906 1721.96,-53.2367 1716.11,-62.0675 1722.89,-63.7906\"/>\n</g>\n<!-- 22 -->\n<g id=\"node23\" class=\"node\"><title>22</title>\n<path fill=\"#f8ddca\" stroke=\"black\" d=\"M1990,-53C1990,-53 1847,-53 1847,-53 1841,-53 1835,-47 1835,-41 1835,-41 1835,-12 1835,-12 1835,-6 1841,-0 1847,-0 1847,-0 1990,-0 1990,-0 1996,-0 2002,-6 2002,-12 2002,-12 2002,-41 2002,-41 2002,-47 1996,-53 1990,-53\"/>\n<text text-anchor=\"start\" x=\"1843\" y=\"-37.8\" font-family=\"Helvetica,sans-Serif\" font-size=\"14.00\">squared_error = 63.667</text>\n<text text-anchor=\"start\" x=\"1867\" y=\"-22.8\" font-family=\"Helvetica,sans-Serif\" font-size=\"14.00\">samples = 5795</text>\n<text text-anchor=\"start\" x=\"1875.5\" y=\"-7.8\" font-family=\"Helvetica,sans-Serif\" font-size=\"14.00\">value = 56.67</text>\n</g>\n<!-- 21&#45;&gt;22 -->\n<g id=\"edge22\" class=\"edge\"><title>21&#45;&gt;22</title>\n<path fill=\"none\" stroke=\"black\" d=\"M1918.5,-88.9485C1918.5,-80.7153 1918.5,-71.848 1918.5,-63.4814\"/>\n<polygon fill=\"black\" stroke=\"black\" points=\"1922,-63.2367 1918.5,-53.2367 1915,-63.2367 1922,-63.2367\"/>\n</g>\n<!-- 23 -->\n<g id=\"node24\" class=\"node\"><title>23</title>\n<path fill=\"#fceee5\" stroke=\"black\" d=\"M2151,-53C2151,-53 2032,-53 2032,-53 2026,-53 2020,-47 2020,-41 2020,-41 2020,-12 2020,-12 2020,-6 2026,-0 2032,-0 2032,-0 2151,-0 2151,-0 2157,-0 2163,-6 2163,-12 2163,-12 2163,-41 2163,-41 2163,-47 2157,-53 2151,-53\"/>\n<text text-anchor=\"start\" x=\"2028\" y=\"-37.8\" font-family=\"Helvetica,sans-Serif\" font-size=\"14.00\">squared_error = 0.0</text>\n<text text-anchor=\"start\" x=\"2040\" y=\"-22.8\" font-family=\"Helvetica,sans-Serif\" font-size=\"14.00\">samples = 8068</text>\n<text text-anchor=\"start\" x=\"2048.5\" y=\"-7.8\" font-family=\"Helvetica,sans-Serif\" font-size=\"14.00\">value = 43.25</text>\n</g>\n<!-- 21&#45;&gt;23 -->\n<g id=\"edge23\" class=\"edge\"><title>21&#45;&gt;23</title>\n<path fill=\"none\" stroke=\"black\" d=\"M1979.01,-88.9485C1997.34,-78.9318 2017.4,-67.9767 2035.43,-58.1263\"/>\n<polygon fill=\"black\" stroke=\"black\" points=\"2037.56,-60.9522 2044.66,-53.0867 2034.2,-54.809 2037.56,-60.9522\"/>\n</g>\n<!-- 25 -->\n<g id=\"node26\" class=\"node\"><title>25</title>\n<path fill=\"#e58139\" stroke=\"black\" d=\"M2147,-149.5C2147,-149.5 2028,-149.5 2028,-149.5 2022,-149.5 2016,-143.5 2016,-137.5 2016,-137.5 2016,-108.5 2016,-108.5 2016,-102.5 2022,-96.5 2028,-96.5 2028,-96.5 2147,-96.5 2147,-96.5 2153,-96.5 2159,-102.5 2159,-108.5 2159,-108.5 2159,-137.5 2159,-137.5 2159,-143.5 2153,-149.5 2147,-149.5\"/>\n<text text-anchor=\"start\" x=\"2024\" y=\"-134.3\" font-family=\"Helvetica,sans-Serif\" font-size=\"14.00\">squared_error = 0.0</text>\n<text text-anchor=\"start\" x=\"2036\" y=\"-119.3\" font-family=\"Helvetica,sans-Serif\" font-size=\"14.00\">samples = 3934</text>\n<text text-anchor=\"start\" x=\"2044.5\" y=\"-104.3\" font-family=\"Helvetica,sans-Serif\" font-size=\"14.00\">value = 128.5</text>\n</g>\n<!-- 24&#45;&gt;25 -->\n<g id=\"edge25\" class=\"edge\"><title>24&#45;&gt;25</title>\n<path fill=\"none\" stroke=\"black\" d=\"M2087.5,-192.884C2087.5,-182.326 2087.5,-170.597 2087.5,-159.854\"/>\n<polygon fill=\"black\" stroke=\"black\" points=\"2091,-159.52 2087.5,-149.52 2084,-159.52 2091,-159.52\"/>\n</g>\n<!-- 26 -->\n<g id=\"node27\" class=\"node\"><title>26</title>\n<path fill=\"#ea9b61\" stroke=\"black\" d=\"M2350,-157C2350,-157 2189,-157 2189,-157 2183,-157 2177,-151 2177,-145 2177,-145 2177,-101 2177,-101 2177,-95 2183,-89 2189,-89 2189,-89 2350,-89 2350,-89 2356,-89 2362,-95 2362,-101 2362,-101 2362,-145 2362,-145 2362,-151 2356,-157 2350,-157\"/>\n<text text-anchor=\"start\" x=\"2185\" y=\"-141.8\" font-family=\"Helvetica,sans-Serif\" font-size=\"14.00\">vehicle_type_LD&#45;MD ≤ 0.5</text>\n<text text-anchor=\"start\" x=\"2194\" y=\"-126.8\" font-family=\"Helvetica,sans-Serif\" font-size=\"14.00\">squared_error = 13.372</text>\n<text text-anchor=\"start\" x=\"2213.5\" y=\"-111.8\" font-family=\"Helvetica,sans-Serif\" font-size=\"14.00\">samples = 46600</text>\n<text text-anchor=\"start\" x=\"2218\" y=\"-96.8\" font-family=\"Helvetica,sans-Serif\" font-size=\"14.00\">value = 108.573</text>\n</g>\n<!-- 24&#45;&gt;26 -->\n<g id=\"edge26\" class=\"edge\"><title>24&#45;&gt;26</title>\n<path fill=\"none\" stroke=\"black\" d=\"M2146.59,-192.884C2164.16,-183.035 2183.55,-172.169 2201.64,-162.034\"/>\n<polygon fill=\"black\" stroke=\"black\" points=\"2203.38,-165.067 2210.4,-157.125 2199.96,-158.961 2203.38,-165.067\"/>\n</g>\n<!-- 27 -->\n<g id=\"node28\" class=\"node\"><title>27</title>\n<path fill=\"#ea9a61\" stroke=\"black\" d=\"M2333,-53C2333,-53 2198,-53 2198,-53 2192,-53 2186,-47 2186,-41 2186,-41 2186,-12 2186,-12 2186,-6 2192,-0 2198,-0 2198,-0 2333,-0 2333,-0 2339,-0 2345,-6 2345,-12 2345,-12 2345,-41 2345,-41 2345,-47 2339,-53 2333,-53\"/>\n<text text-anchor=\"start\" x=\"2194\" y=\"-37.8\" font-family=\"Helvetica,sans-Serif\" font-size=\"14.00\">squared_error = 1.122</text>\n<text text-anchor=\"start\" x=\"2209.5\" y=\"-22.8\" font-family=\"Helvetica,sans-Serif\" font-size=\"14.00\">samples = 46188</text>\n<text text-anchor=\"start\" x=\"2214\" y=\"-7.8\" font-family=\"Helvetica,sans-Serif\" font-size=\"14.00\">value = 108.904</text>\n</g>\n<!-- 26&#45;&gt;27 -->\n<g id=\"edge27\" class=\"edge\"><title>26&#45;&gt;27</title>\n<path fill=\"none\" stroke=\"black\" d=\"M2268.1,-88.9485C2267.75,-80.7153 2267.38,-71.848 2267.02,-63.4814\"/>\n<polygon fill=\"black\" stroke=\"black\" points=\"2270.51,-63.0797 2266.59,-53.2367 2263.52,-63.3758 2270.51,-63.0797\"/>\n</g>\n<!-- 28 -->\n<g id=\"node29\" class=\"node\"><title>28</title>\n<path fill=\"#f4caac\" stroke=\"black\" d=\"M2494,-53C2494,-53 2375,-53 2375,-53 2369,-53 2363,-47 2363,-41 2363,-41 2363,-12 2363,-12 2363,-6 2369,-0 2375,-0 2375,-0 2494,-0 2494,-0 2500,-0 2506,-6 2506,-12 2506,-12 2506,-41 2506,-41 2506,-47 2500,-53 2494,-53\"/>\n<text text-anchor=\"start\" x=\"2371\" y=\"-37.8\" font-family=\"Helvetica,sans-Serif\" font-size=\"14.00\">squared_error = 0.0</text>\n<text text-anchor=\"start\" x=\"2387\" y=\"-22.8\" font-family=\"Helvetica,sans-Serif\" font-size=\"14.00\">samples = 412</text>\n<text text-anchor=\"start\" x=\"2395.5\" y=\"-7.8\" font-family=\"Helvetica,sans-Serif\" font-size=\"14.00\">value = 71.5</text>\n</g>\n<!-- 26&#45;&gt;28 -->\n<g id=\"edge28\" class=\"edge\"><title>26&#45;&gt;28</title>\n<path fill=\"none\" stroke=\"black\" d=\"M2327.21,-88.9485C2344.7,-78.9318 2363.83,-67.9767 2381.03,-58.1263\"/>\n<polygon fill=\"black\" stroke=\"black\" points=\"2382.89,-61.0938 2389.82,-53.0867 2379.41,-55.0195 2382.89,-61.0938\"/>\n</g>\n</g>\n</svg>\n",
      "text/plain": [
       "<graphviz.sources.Source at 0x2391d15b490>"
      ]
     },
     "execution_count": 85,
     "metadata": {},
     "output_type": "execute_result"
    }
   ],
   "source": [
    "import graphviz\n",
    "graphviz.backend.dot_command.DOT_BINARY = 'c:/winapp/conda/Library/bin/graphviz/dot.exe'\n",
    "\n",
    "def proc_feature_name(x):\n",
    "    return x.replace('onehotencoder-1__','')\\\n",
    "        .replace('onehotencoder-2__','')\\\n",
    "        .replace('onehotencoder-3__','')\\\n",
    "        .replace('remainder__','')\n",
    "\n",
    "feature_names = [proc_feature_name(x) for x in transformer.get_feature_names_out()]\n",
    "\n",
    "graphviz.Source(\n",
    "    sk.tree.export_graphviz(model,feature_names=feature_names,\n",
    "    filled=True, rounded=True, special_characters=True)\n",
    ")"
   ]
  }
 ],
 "metadata": {
  "kernelspec": {
   "display_name": "Python 3 (ipykernel)",
   "language": "python",
   "name": "python3"
  },
  "language_info": {
   "codemirror_mode": {
    "name": "ipython",
    "version": 3
   },
   "file_extension": ".py",
   "mimetype": "text/x-python",
   "name": "python",
   "nbconvert_exporter": "python",
   "pygments_lexer": "ipython3",
   "version": "3.9.12"
  },
  "vscode": {
   "interpreter": {
    "hash": "d21c24a7952cc9fa93a33c3da71b373ffe761d6ab0c9cc9b2153e31da51ffb58"
   }
  }
 },
 "nbformat": 4,
 "nbformat_minor": 2
}
