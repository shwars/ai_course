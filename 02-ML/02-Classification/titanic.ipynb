{
 "cells": [
  {
   "cell_type": "markdown",
   "metadata": {},
   "source": [
    "## Машинное обучение: задача классификации\n",
    "\n",
    "Задача классификации ставится, когда необходимо разделить объекты в датасете на два или более классов. Можно сказать, что в рассмотренной нами задаче регрессии целевая переменная - числовая, а в задаче классификации - категориальная.\n",
    "\n",
    "Обычно отдельно выделяют **бинарную** или **двоичную классификацию**, и **многоклассовую** (которая является более общим случаем бинарной). Многоклассовая классификация может быть сведена к двоичной путём построения нескольких классификаторов one-vs-all."
   ]
  },
  {
   "cell_type": "code",
   "execution_count": 239,
   "metadata": {},
   "outputs": [],
   "source": [
    "import pandas as pd\n",
    "import numpy as np\n",
    "import matplotlib.pyplot as plt\n",
    "import sklearn as sk\n",
    "import sklearn.datasets"
   ]
  },
  {
   "cell_type": "markdown",
   "metadata": {},
   "source": [
    "В качестве примера задачи классификации рассмотрим предсказание вероятности гибели пассажира на титанике. Для начала загрузим датасет:"
   ]
  },
  {
   "cell_type": "code",
   "execution_count": 42,
   "metadata": {},
   "outputs": [
    {
     "data": {
      "text/html": [
       "<div>\n",
       "<style scoped>\n",
       "    .dataframe tbody tr th:only-of-type {\n",
       "        vertical-align: middle;\n",
       "    }\n",
       "\n",
       "    .dataframe tbody tr th {\n",
       "        vertical-align: top;\n",
       "    }\n",
       "\n",
       "    .dataframe thead th {\n",
       "        text-align: right;\n",
       "    }\n",
       "</style>\n",
       "<table border=\"1\" class=\"dataframe\">\n",
       "  <thead>\n",
       "    <tr style=\"text-align: right;\">\n",
       "      <th></th>\n",
       "      <th>pclass</th>\n",
       "      <th>survived</th>\n",
       "      <th>name</th>\n",
       "      <th>sex</th>\n",
       "      <th>age</th>\n",
       "      <th>sibsp</th>\n",
       "      <th>parch</th>\n",
       "      <th>ticket</th>\n",
       "      <th>fare</th>\n",
       "      <th>cabin</th>\n",
       "      <th>embarked</th>\n",
       "      <th>boat</th>\n",
       "      <th>body</th>\n",
       "      <th>home.dest</th>\n",
       "    </tr>\n",
       "  </thead>\n",
       "  <tbody>\n",
       "    <tr>\n",
       "      <th>0</th>\n",
       "      <td>1</td>\n",
       "      <td>1</td>\n",
       "      <td>Allen. Miss. Elisabeth Walton</td>\n",
       "      <td>female</td>\n",
       "      <td>29.0000</td>\n",
       "      <td>0</td>\n",
       "      <td>0</td>\n",
       "      <td>24160</td>\n",
       "      <td>211.3375</td>\n",
       "      <td>B5</td>\n",
       "      <td>S</td>\n",
       "      <td>2</td>\n",
       "      <td>NaN</td>\n",
       "      <td>St Louis. MO</td>\n",
       "    </tr>\n",
       "    <tr>\n",
       "      <th>1</th>\n",
       "      <td>1</td>\n",
       "      <td>1</td>\n",
       "      <td>Allison. Master. Hudson Trevor</td>\n",
       "      <td>male</td>\n",
       "      <td>0.9167</td>\n",
       "      <td>1</td>\n",
       "      <td>2</td>\n",
       "      <td>113781</td>\n",
       "      <td>151.5500</td>\n",
       "      <td>C22 C26</td>\n",
       "      <td>S</td>\n",
       "      <td>11</td>\n",
       "      <td>NaN</td>\n",
       "      <td>Montreal. PQ / Chesterville. ON</td>\n",
       "    </tr>\n",
       "    <tr>\n",
       "      <th>2</th>\n",
       "      <td>1</td>\n",
       "      <td>0</td>\n",
       "      <td>Allison. Miss. Helen Loraine</td>\n",
       "      <td>female</td>\n",
       "      <td>2.0000</td>\n",
       "      <td>1</td>\n",
       "      <td>2</td>\n",
       "      <td>113781</td>\n",
       "      <td>151.5500</td>\n",
       "      <td>C22 C26</td>\n",
       "      <td>S</td>\n",
       "      <td>NaN</td>\n",
       "      <td>NaN</td>\n",
       "      <td>Montreal. PQ / Chesterville. ON</td>\n",
       "    </tr>\n",
       "    <tr>\n",
       "      <th>3</th>\n",
       "      <td>1</td>\n",
       "      <td>0</td>\n",
       "      <td>Allison. Mr. Hudson Joshua Creighton</td>\n",
       "      <td>male</td>\n",
       "      <td>30.0000</td>\n",
       "      <td>1</td>\n",
       "      <td>2</td>\n",
       "      <td>113781</td>\n",
       "      <td>151.5500</td>\n",
       "      <td>C22 C26</td>\n",
       "      <td>S</td>\n",
       "      <td>NaN</td>\n",
       "      <td>135.0</td>\n",
       "      <td>Montreal. PQ / Chesterville. ON</td>\n",
       "    </tr>\n",
       "    <tr>\n",
       "      <th>4</th>\n",
       "      <td>1</td>\n",
       "      <td>0</td>\n",
       "      <td>Allison. Mrs. Hudson J C (Bessie Waldo Daniels)</td>\n",
       "      <td>female</td>\n",
       "      <td>25.0000</td>\n",
       "      <td>1</td>\n",
       "      <td>2</td>\n",
       "      <td>113781</td>\n",
       "      <td>151.5500</td>\n",
       "      <td>C22 C26</td>\n",
       "      <td>S</td>\n",
       "      <td>NaN</td>\n",
       "      <td>NaN</td>\n",
       "      <td>Montreal. PQ / Chesterville. ON</td>\n",
       "    </tr>\n",
       "  </tbody>\n",
       "</table>\n",
       "</div>"
      ],
      "text/plain": [
       "   pclass  survived                                             name     sex  \\\n",
       "0       1         1                    Allen. Miss. Elisabeth Walton  female   \n",
       "1       1         1                   Allison. Master. Hudson Trevor    male   \n",
       "2       1         0                     Allison. Miss. Helen Loraine  female   \n",
       "3       1         0             Allison. Mr. Hudson Joshua Creighton    male   \n",
       "4       1         0  Allison. Mrs. Hudson J C (Bessie Waldo Daniels)  female   \n",
       "\n",
       "       age  sibsp  parch  ticket      fare    cabin embarked boat   body  \\\n",
       "0  29.0000      0      0   24160  211.3375       B5        S    2    NaN   \n",
       "1   0.9167      1      2  113781  151.5500  C22 C26        S   11    NaN   \n",
       "2   2.0000      1      2  113781  151.5500  C22 C26        S  NaN    NaN   \n",
       "3  30.0000      1      2  113781  151.5500  C22 C26        S  NaN  135.0   \n",
       "4  25.0000      1      2  113781  151.5500  C22 C26        S  NaN    NaN   \n",
       "\n",
       "                         home.dest  \n",
       "0                     St Louis. MO  \n",
       "1  Montreal. PQ / Chesterville. ON  \n",
       "2  Montreal. PQ / Chesterville. ON  \n",
       "3  Montreal. PQ / Chesterville. ON  \n",
       "4  Montreal. PQ / Chesterville. ON  "
      ]
     },
     "execution_count": 42,
     "metadata": {},
     "output_type": "execute_result"
    }
   ],
   "source": [
    "df = pd.read_csv(\"../../../data/titanic.csv\")\n",
    "df.head()"
   ]
  },
  {
   "cell_type": "markdown",
   "metadata": {},
   "source": [
    "Удалим из таблицы все неопределённые значения:"
   ]
  },
  {
   "cell_type": "code",
   "execution_count": 43,
   "metadata": {},
   "outputs": [],
   "source": [
    "df.dropna(subset=['survived','pclass','age','sex','sibsp','parch'],inplace=True)"
   ]
  },
  {
   "cell_type": "markdown",
   "metadata": {},
   "source": [
    "Важными свойствами, влияющими на вероятность выживания, являются:\n",
    "* **pclass** - класс, которым плыл пассажир\n",
    "* **sex** - пол\n",
    "* **age** - возраст\n",
    "* **sibsp** - siblings or spouses - количество родственников или супругов на борту\n",
    "* **parch** - parents or children - количество родителей/детей на борту\n",
    "\n",
    "Поскольку единственной категориальной переменной является пол, приведём его к числовому виду:"
   ]
  },
  {
   "cell_type": "code",
   "execution_count": 44,
   "metadata": {},
   "outputs": [],
   "source": [
    "df['nsex'] = (df['sex'] == 'male').apply(int)"
   ]
  },
  {
   "cell_type": "code",
   "execution_count": 143,
   "metadata": {},
   "outputs": [],
   "source": [
    "max_age = df['age'].max()\n",
    "df['nage'] = df['age']/max_age"
   ]
  },
  {
   "cell_type": "code",
   "execution_count": 144,
   "metadata": {},
   "outputs": [
    {
     "data": {
      "text/plain": [
       "array([[0.3625    , 0.        , 1.        ],\n",
       "       [0.01145875, 1.        , 1.        ],\n",
       "       [0.025     , 0.        , 1.        ],\n",
       "       ...,\n",
       "       [0.33125   , 1.        , 3.        ],\n",
       "       [0.3375    , 1.        , 3.        ],\n",
       "       [0.3625    , 1.        , 3.        ]])"
      ]
     },
     "execution_count": 144,
     "metadata": {},
     "output_type": "execute_result"
    }
   ],
   "source": [
    "X = df[['nage','nsex','pclass']].to_numpy()\n",
    "Y = df['survived'].to_numpy().astype(np.float64)\n",
    "X"
   ]
  },
  {
   "cell_type": "code",
   "execution_count": 250,
   "metadata": {},
   "outputs": [
    {
     "data": {
      "text/plain": [
       "<matplotlib.collections.PathCollection at 0x29f0482abb0>"
      ]
     },
     "execution_count": 250,
     "metadata": {},
     "output_type": "execute_result"
    },
    {
     "data": {
      "image/png": "[encoded data removed]",
      "text/plain": [
       "<Figure size 432x288 with 1 Axes>"
      ]
     },
     "metadata": {
      "needs_background": "light"
     },
     "output_type": "display_data"
    }
   ],
   "source": [
    "X,Y = sk.datasets.make_classification(\n",
    "    n_samples=1000,n_features=2,\n",
    "    n_informative=2,n_redundant=0,\n",
    "    class_sep=2,n_clusters_per_class=1,flip_y=0)\n",
    "plt.scatter(X[:,0],X[:,1],c=['r' if x else 'b' for x in Y])"
   ]
  },
  {
   "cell_type": "code",
   "execution_count": 251,
   "metadata": {},
   "outputs": [],
   "source": [
    "W = np.random.normal(size=(2,))\n",
    "b = np.random.normal(size=(1,))"
   ]
  },
  {
   "cell_type": "code",
   "execution_count": 252,
   "metadata": {},
   "outputs": [
    {
     "data": {
      "text/plain": [
       "0.21971119857646118"
      ]
     },
     "execution_count": 252,
     "metadata": {},
     "output_type": "execute_result"
    }
   ],
   "source": [
    "def sigmoid(x):\n",
    "  return 1 / (1 + np.exp(-x))\n",
    "\n",
    "def loss(W,b):\n",
    "  return np.average(np.square(sigmoid(np.matmul(X,W)+b)-Y))\n",
    "\n",
    "def loss(W, b):\n",
    "    h = sigmoid(np.matmul(X,W)+b)\n",
    "    return (-Y * np.log(h) - (1 - Y) * np.log(1 - h)).mean()\n",
    "\n",
    "loss(W,b)"
   ]
  },
  {
   "cell_type": "code",
   "execution_count": 253,
   "metadata": {},
   "outputs": [
    {
     "data": {
      "text/plain": [
       "array([0.41206199, 0.31148889])"
      ]
     },
     "execution_count": 253,
     "metadata": {},
     "output_type": "execute_result"
    }
   ],
   "source": [
    "def d(f,x,dx=0.1):\n",
    "    n = x.shape[0]\n",
    "    r = np.zeros_like(x)\n",
    "    for i in range(n):\n",
    "        dxc = np.eye(n)[i]*dx\n",
    "        r[i] = (f(x+dxc)-f(x))/dx\n",
    "    return r\n",
    "\n",
    "d(lambda x: loss(x,b),W)"
   ]
  },
  {
   "cell_type": "code",
   "execution_count": 268,
   "metadata": {},
   "outputs": [
    {
     "name": "stdout",
     "output_type": "stream",
     "text": [
      "([ 0.22071367 -0.20957576] [0.47759955]) -> loss=0.7385143966879545\n",
      "([ 0.10990282 -0.31416116] [0.46503694]) -> loss=0.5420443297862665\n",
      "([ 0.02218171 -0.3959123 ] [0.4530632]) -> loss=0.42072666467171327\n",
      "([-0.04826633 -0.46090658] [0.44219509]) -> loss=0.3426464605126974\n",
      "([-0.10631249 -0.51405122] [0.43242643]) -> loss=0.2894766988984593\n",
      "([-0.15536249 -0.55870288] [0.42360599]) -> loss=0.25133479083664084\n",
      "([-0.19770938 -0.59708712] [0.41557411]) -> loss=0.22276535187586355\n",
      "([-0.23491568 -0.63070282] [0.40819574]) -> loss=0.20060544863288243\n",
      "([-0.2680747  -0.66058897] [0.40136301]) -> loss=0.1829244836131528\n",
      "([-0.29797375 -0.687488  ] [0.39499082]) -> loss=0.16848763910960993\n",
      "([-0.32519531 -0.71194559] [0.38901177]) -> loss=0.15647231046851628\n",
      "([-0.35018086 -0.73437299] [0.38337197]) -> loss=0.14631098310675691\n",
      "([-0.37327222 -0.75508702] [0.37802785]) -> loss=0.13760017669634392\n",
      "([-0.39473902 -0.77433655] [0.37294377]) -> loss=0.13004549106413946\n",
      "([-0.41479749 -0.79232034] [0.36809025]) -> loss=0.123427221248395\n",
      "([-0.43362356 -0.80919953] [0.36344262]) -> loss=0.11757814425512896\n",
      "([-0.45136217 -0.82510651] [0.3589801]) -> loss=0.11236875712195195\n",
      "([-0.46813416 -0.84015127] [0.35468495]) -> loss=0.10769721715478965\n",
      "([-0.48404126 -0.85442621] [0.35054197]) -> loss=0.10348233120215496\n",
      "([-0.49916993 -0.86800962] [0.34653799]) -> loss=0.09965857079720074\n",
      "([-0.51359425 -0.88096845] [0.34266156]) -> loss=0.09617246319889389\n",
      "([-0.52737815 -0.89336036] [0.33890264]) -> loss=0.09297993560157197\n",
      "([-0.54057722 -0.90523539] [0.33525237]) -> loss=0.09004433163775274\n",
      "([-0.55324006 -0.91663719] [0.3317029]) -> loss=0.08733490988809195\n",
      "([-0.56540944 -0.9276041 ] [0.32824724]) -> loss=0.08482569317502628\n",
      "([-0.57712315 -0.93816998] [0.32487916]) -> loss=0.08249457666308913\n",
      "([-0.5884148  -0.94836486] [0.32159302]) -> loss=0.08032262932672614\n",
      "([-0.59931437 -0.95821549] [0.31838377]) -> loss=0.07829354158163462\n",
      "([-0.60984873 -0.96774583] [0.31524682]) -> loss=0.0763931845931533\n",
      "([-0.62004206 -0.9769774 ] [0.312178]) -> loss=0.07460925576737179\n",
      "([-0.62991621 -0.98592961] [0.30917352]) -> loss=0.07293099137034971\n",
      "([-0.63949094 -0.99462003] [0.30622991]) -> loss=0.07134893188773975\n",
      "([-0.64878426 -1.00306461] [0.30334399]) -> loss=0.0698547291569223\n",
      "([-0.65781255 -1.01127788] [0.30051282]) -> loss=0.06844098683581458\n",
      "([-0.6665908  -1.01927309] [0.29773373]) -> loss=0.06710112766554494\n",
      "([-0.67513275 -1.02706239] [0.29500422]) -> loss=0.06582928241240497\n",
      "([-0.68345104 -1.03465694] [0.29232199]) -> loss=0.06462019646129466\n",
      "([-0.69155728 -1.042067  ] [0.2896849]) -> loss=0.0634691508665759\n",
      "([-0.69946221 -1.04930202] [0.28709096]) -> loss=0.06237189531067239\n",
      "([-0.70717577 -1.05637075] [0.28453833]) -> loss=0.061324590922467885\n",
      "([-0.71470717 -1.0632813 ] [0.28202529]) -> loss=0.06032376130082856\n",
      "([-0.72206494 -1.07004119] [0.27955021]) -> loss=0.0593662503988416\n",
      "([-0.72925705 -1.07665739] [0.27711159]) -> loss=0.05844918617064408\n",
      "([-0.73629092 -1.08313643] [0.27470801]) -> loss=0.05756994907934866\n",
      "([-0.74317345 -1.08948436] [0.27233814]) -> loss=0.05672614472243598\n",
      "([-0.74991112 -1.09570687] [0.27000074]) -> loss=0.05591557995839119\n",
      "([-0.75651    -1.10180926] [0.26769463]) -> loss=0.055136242021708394\n",
      "([-0.76297576 -1.1077965 ] [0.26541869]) -> loss=0.0543862801976174\n",
      "([-0.76931375 -1.11367327] [0.26317189]) -> loss=0.05366398969685557\n",
      "([-0.77552897 -1.11944394] [0.26095322]) -> loss=0.052967797427525415\n",
      "([-0.78162615 -1.12511265] [0.25876176]) -> loss=0.0522962494079193\n",
      "([-0.78760975 -1.13068329] [0.25659661]) -> loss=0.05164799960303183\n",
      "([-0.79348397 -1.13615951] [0.25445694]) -> loss=0.05102179999980967\n",
      "([-0.79925278 -1.14154479] [0.25234193]) -> loss=0.05041649176319879\n",
      "([-0.80491992 -1.1468424 ] [0.25025085]) -> loss=0.04983099733769609\n",
      "([-0.81048897 -1.15205543] [0.24818295]) -> loss=0.04926431337816525\n",
      "([-0.81596329 -1.15718682] [0.24613756]) -> loss=0.04871550440976072\n",
      "([-0.82134607 -1.16223934] [0.24411401]) -> loss=0.04818369713042134\n",
      "([-0.82664035 -1.16721565] [0.24211169]) -> loss=0.04766807528096406\n",
      "([-0.83184901 -1.17211824] [0.24013]) -> loss=0.047167875017661294\n",
      "([-0.83697481 -1.1769495 ] [0.23816836]) -> loss=0.04668238073060456\n",
      "([-0.84202034 -1.1817117 ] [0.23622624]) -> loss=0.04621092125836868\n",
      "([-0.8469881 -1.186407 ] [0.23430311]) -> loss=0.045752866455685194\n",
      "([-0.85188047 -1.19103746] [0.23239846]) -> loss=0.045307624076167625\n",
      "([-0.85669971 -1.19560505] [0.23051184]) -> loss=0.044874636936736566\n",
      "([-0.86144797 -1.20011163] [0.22864276]) -> loss=0.04445338033437656\n",
      "([-0.86612734 -1.204559  ] [0.2267908]) -> loss=0.04404335968931362\n",
      "([-0.87073977 -1.20894887] [0.22495554]) -> loss=0.04364410839170613\n",
      "([-0.87528718 -1.21328289] [0.22313656]) -> loss=0.043255185831559725\n",
      "([-0.87977136 -1.21756261] [0.22133348]) -> loss=0.04287617559386179\n",
      "([-0.88419406 -1.22178954] [0.21954592]) -> loss=0.04250668380293\n",
      "([-0.88855693 -1.22596512] [0.21777352]) -> loss=0.04214633760172256\n",
      "([-0.89286158 -1.23009073] [0.21601594]) -> loss=0.041794783753395834\n",
      "([-0.89710953 -1.23416769] [0.21427284]) -> loss=0.04145168735375015\n",
      "([-0.90130226 -1.23819728] [0.21254389]) -> loss=0.04111673064439771\n",
      "([-0.90544119 -1.24218071] [0.21082879]) -> loss=0.04078961191754141\n",
      "([-0.90952767 -1.24611916] [0.20912724]) -> loss=0.04047004450418525\n",
      "([-0.91356301 -1.25001376] [0.20743894]) -> loss=0.040157755838423966\n",
      "([-0.91754847 -1.2538656 ] [0.20576362]) -> loss=0.03985248659119237\n",
      "([-0.92148526 -1.25767572] [0.20410101]) -> loss=0.039553989867507466\n",
      "([-0.92537456 -1.26144513] [0.20245084]) -> loss=0.03926203046181622\n",
      "([-0.92921749 -1.2651748 ] [0.20081287]) -> loss=0.038976384166579836\n",
      "([-0.93301513 -1.26886567] [0.19918684]) -> loss=0.03869683712968752\n",
      "([-0.93676853 -1.27251863] [0.19757253]) -> loss=0.038423185256705815\n",
      "([-0.94047871 -1.27613456] [0.1959697]) -> loss=0.03815523365433995\n",
      "([-0.94414664 -1.2797143 ] [0.19437813]) -> loss=0.0378927961118153\n",
      "([-0.94777326 -1.28325867] [0.19279761]) -> loss=0.03763569461718531\n",
      "([-0.95135949 -1.28676844] [0.19122793]) -> loss=0.037383758905839844\n",
      "([-0.9549062  -1.29024437] [0.18966889]) -> loss=0.037136826038729476\n",
      "([-0.95841426 -1.2936872 ] [0.18812028]) -> loss=0.03689474000803834\n",
      "([-0.96188447 -1.29709763] [0.18658193]) -> loss=0.03665735136823441\n",
      "([-0.96531765 -1.30047636] [0.18505364]) -> loss=0.03642451689060358\n",
      "([-0.96871457 -1.30382404] [0.18353524]) -> loss=0.03619609923953364\n",
      "([-0.97207596 -1.30714132] [0.18202656]) -> loss=0.03597196666896025\n",
      "([-0.97540257 -1.31042882] [0.18052742]) -> loss=0.03575199273751791\n",
      "([-0.97869509 -1.31368715] [0.17903766]) -> loss=0.035536056041058646\n",
      "([-0.9819542  -1.31691689] [0.17755712]) -> loss=0.035324039961309735\n",
      "([-0.98518056 -1.3201186 ] [0.17608564]) -> loss=0.03511583242954035\n",
      "([-0.98837482 -1.32329284] [0.17462308]) -> loss=0.03491132570419681\n",
      "([-0.9915376  -1.32644014] [0.17316929]) -> loss=0.03471041616154816\n"
     ]
    }
   ],
   "source": [
    "eta = 0.1\n",
    "n = len(X)\n",
    "W = np.random.normal(size=(2,))\n",
    "b = np.random.normal(size=(1,))\n",
    "for i in range(100):\n",
    "    print(f\"({W} {b}) -> loss={loss(W,b)}\")\n",
    "    #print(f\"dldw={dldw}, dldb={dldb}, W={W}, b={b}\")\n",
    "\n",
    "    dldw = d(lambda x: loss(x,b),W)\n",
    "    dldb = d(lambda x: loss(W,x),b)\n",
    "    h = sigmoid(np.matmul(X,W)+b)\n",
    "    #dldw = np.matmul(X.T,h-Y.T)/n\n",
    "    #dldb = (h-Y.T).mean()\n",
    "    W-=eta*dldw\n",
    "    b-=eta*dldb\n"
   ]
  },
  {
   "cell_type": "code",
   "execution_count": 269,
   "metadata": {},
   "outputs": [
    {
     "data": {
      "image/png": "[encoded data removed]",
      "text/plain": [
       "<Figure size 432x288 with 1 Axes>"
      ]
     },
     "metadata": {
      "needs_background": "light"
     },
     "output_type": "display_data"
    }
   ],
   "source": [
    "plt.scatter(X[:,0],X[:,1],c=['r' if x else 'b' for x in Y])\n",
    "#x[0]x+x[1]y+b = 0\n",
    "#y=-b/x[1]-x[0]/x[1]x\n",
    "xs = X[:,0].min(), X[:,0].max()\n",
    "plt.plot(xs,[-b/W[1]-x*W[0]/W[1] for x in xs])\n",
    "plt.show()"
   ]
  },
  {
   "cell_type": "code",
   "execution_count": null,
   "metadata": {},
   "outputs": [],
   "source": []
  },
  {
   "cell_type": "code",
   "execution_count": null,
   "metadata": {},
   "outputs": [],
   "source": []
  }
 ],
 "metadata": {
  "kernelspec": {
   "display_name": "Python 3.9.12 ('base')",
   "language": "python",
   "name": "python3"
  },
  "language_info": {
   "codemirror_mode": {
    "name": "ipython",
    "version": 3
   },
   "file_extension": ".py",
   "mimetype": "text/x-python",
   "name": "python",
   "nbconvert_exporter": "python",
   "pygments_lexer": "ipython3",
   "version": "3.9.12"
  },
  "orig_nbformat": 4,
  "vscode": {
   "interpreter": {
    "hash": "d21c24a7952cc9fa93a33c3da71b373ffe761d6ab0c9cc9b2153e31da51ffb58"
   }
  }
 },
 "nbformat": 4,
 "nbformat_minor": 2
}
