{
 "cells": [
  {
   "cell_type": "markdown",
   "metadata": {
    "collapsed": true
   },
   "source": [
    "# Экспертные системы\n",
    "\n",
    "В этом упражнении мы реализуем простейшую экспертную систему на основе продукционного представления знаний. В качестве примера будем создавать систему для определения животного на основе характерных признаков. Пример взят из книги **Экспертные системы. Принципы работы и примеры** / *ред. Р. Форсайт.* - М.: Радио и связь, 2009.\n",
    "\n",
    "Знания в виде **дерева И-ИЛИ** представлены на рисунке:"
   ]
  },
  {
   "cell_type": "markdown",
   "metadata": {},
   "source": [
    "![AND-OR Tree](images/and-or-tree.png)"
   ]
  },
  {
   "cell_type": "markdown",
   "metadata": {},
   "source": [
    "## PyKnow для прямого вывода\n",
    "\n",
    "Реализуем прямой вывод на базе библиотеки [PyKnow](https://github.com/buguroo/pyknow/). **PyKnow** - это библиотека для построения экспертных систем прямого вывода на Python, которая спроектирована так, чтобы быть похожей на классическую систему [CLIPS](http://www.clipsrules.net/index.html). \n",
    "\n",
    "Наивную систему прямого вывода тоже не составило бы труда реализовать самим, однако она была бы неэффективной. Для реализации эффективного матчинга правил и состояния рабочей памяти используется алгоритм *Rete*.\n",
    "\n",
    "Для начала, установим PyKnow. Это можно сделать прямо из репозитория GitHub, чтобы получить самую последнюю версию:"
   ]
  },
  {
   "cell_type": "code",
   "execution_count": null,
   "metadata": {},
   "outputs": [],
   "source": [
    "import sys\n",
    "!{sys.executable} -m pip install git+https://github.com/buguroo/pyknow/"
   ]
  },
  {
   "cell_type": "code",
   "execution_count": 1,
   "metadata": {},
   "outputs": [],
   "source": [
    "from pyknow import *"
   ]
  },
  {
   "cell_type": "markdown",
   "metadata": {},
   "source": [
    "Система в PyKnow определяется как класс, являющийся подклассом **KnowledgeEngine**. Каждое правило определяется отдельной функцией с аннотацией **@Rule**, которая указывает, когда должно срабатывать правило. Внутри правила мы можем добавить новые факты, используя функцию `declare`. Это приведет к тому, что механизм прямого вывода вызовет еще какие-то правила, пока прямой вывод не закончится."
   ]
  },
  {
   "cell_type": "code",
   "execution_count": 3,
   "metadata": {},
   "outputs": [],
   "source": [
    "class Animals(KnowledgeEngine):\n",
    "    @Rule(OR(\n",
    "           AND(Fact('острые зубы'),Fact('когти'),Fact('вперёд смотрящие глаза')),\n",
    "           Fact('ест мясо')))\n",
    "    def cornivor(self):\n",
    "        self.declare(Fact('хищник'))\n",
    "        \n",
    "    @Rule(OR(Fact('волосы'),Fact('даёт молоко')))\n",
    "    def mammal(self):\n",
    "        self.declare(Fact('млекопитающее'))\n",
    "\n",
    "    @Rule(Fact('млекопитающее'),\n",
    "          OR(Fact('копыта'),Fact('жуёт жвачку')))\n",
    "    def hooves(self):\n",
    "        self.declare('копытное')\n",
    "        \n",
    "    @Rule(OR(Fact('оперение'),AND(Fact('летает'),Fact('откладывает яйца'))))\n",
    "    def bird(self):\n",
    "        self.declare('птица')\n",
    "        \n",
    "    @Rule(Fact('млекопитающее'),Fact('хищник'),\n",
    "          Fact(color='рыжевато-коричневый'),\n",
    "          Fact(pattern='тёмные пятна'))\n",
    "    def monkey(self):\n",
    "        self.declare(Fact(animal='обезьяна'))\n",
    "\n",
    "    @Rule(Fact('млекопитающее'),Fact('хищник'),\n",
    "          Fact(color='рыжевато-коричневый'),\n",
    "          Fact(pattern='чёрные полосы'))\n",
    "    def tiger(self):\n",
    "        self.declare(Fact(animal='тигр'))\n",
    "\n",
    "    @Rule(Fact('копытное'),\n",
    "          Fact('длинная шея'),\n",
    "          Fact('длинные ноги'),\n",
    "          Fact(pattern='тёмные пятна'))\n",
    "    def giraffe(self):\n",
    "        self.declare(Fact(animal='жираф'))\n",
    "\n",
    "    @Rule(Fact('копытное'),\n",
    "          Fact(pattern='чёрные полосы'))\n",
    "    def zebra(self):\n",
    "        self.declare(Fact(animal='зебра'))\n",
    "\n",
    "    @Rule(Fact('птица'),\n",
    "          Fact('длинная шея'),\n",
    "          Fact('не может летать'),\n",
    "          Fact(color='чёрное с белым'))\n",
    "    def straus(self):\n",
    "        self.declare(Fact(animal='страус'))\n",
    "\n",
    "    @Rule(Fact('птица'),\n",
    "          Fact('плавает'),\n",
    "          Fact('не может летать'),\n",
    "          Fact(color='чёрное с белым'))\n",
    "    def pinguin(self):\n",
    "        self.declare(Fact(animal='пингвин'))\n",
    "\n",
    "    @Rule(Fact('птица'),\n",
    "          Fact('хорошо летает'))\n",
    "    def albatros(self):\n",
    "        self.declare(Fact(animal='альбатрос'))\n",
    "        \n",
    "    @Rule(Fact(animal=MATCH.a))\n",
    "    def print_result(self,a):\n",
    "          print('Животное - {}'.format(a))\n",
    "                    \n",
    "    def factz(self,l):\n",
    "        for x in l:\n",
    "            self.declare(x)"
   ]
  },
  {
   "cell_type": "markdown",
   "metadata": {},
   "source": [
    "Как только мы определили базу знаний, мы заполняем нашу рабочую память некоторыми исходными данными. Для этого мы определили метод `factz`, который позволяет записать в рабочую память сразу несколько фактов.\n",
    "\n",
    "Для запуска логического вывода мы вызываем метод run(). В результате в рабочую память добавляются новые предполагаемые факты, в том числе конечный факт, определяющий животное (если из исходных данных можно получить какой-то результат). В нашей системе также предусмотрено специальное правило с паттерн-матчингом - когда в рабочей памяти появится любое правило вида `animal=...`, сработает функция `print_result` и напечатает результат."
   ]
  },
  {
   "cell_type": "code",
   "execution_count": 6,
   "metadata": {},
   "outputs": [
    {
     "name": "stdout",
     "output_type": "stream",
     "text": [
      "Животное - обезьяна\n"
     ]
    }
   ],
   "source": [
    "ex1 = Animals()\n",
    "ex1.reset()\n",
    "ex1.factz([\n",
    "    Fact(color='рыжевато-коричневый'),\n",
    "    Fact(pattern='тёмные пятна'),\n",
    "    Fact('острые зубы'),\n",
    "    Fact('когти'),\n",
    "    Fact('вперёд смотрящие глаза'),\n",
    "    Fact('даёт молоко')])\n",
    "ex1.run()"
   ]
  },
  {
   "cell_type": "markdown",
   "metadata": {},
   "source": [
    "Можем также посмотреть на содержимое рабочей памяти:"
   ]
  },
  {
   "cell_type": "code",
   "execution_count": 5,
   "metadata": {},
   "outputs": [
    {
     "data": {
      "text/plain": [
       "FactList([(0, InitialFact()),\n",
       "          (1, Fact(color='рыжевато-коричневый')),\n",
       "          (2, Fact(pattern='чёрные полосы')),\n",
       "          (3, Fact('острые зубы')),\n",
       "          (4, Fact('когти')),\n",
       "          (5, Fact('вперёд смотрящие глаза')),\n",
       "          (6, Fact('даёт молоко')),\n",
       "          (7, Fact('млекопитающее')),\n",
       "          (8, Fact('хищник')),\n",
       "          (9, Fact(animal='тигр'))])"
      ]
     },
     "execution_count": 5,
     "metadata": {},
     "output_type": "execute_result"
    }
   ],
   "source": [
    "ex1.facts"
   ]
  },
  {
   "cell_type": "markdown",
   "metadata": {},
   "source": [
    "## Обратный вывод\n",
    "\n",
    "Попробуем реализовать простую экспертную систему обратного вывода самостоятельно. Для представления правил и запросов определим несколько классов:\n",
    "- **Ask** - вопрос, который необходимо задать пользователю. Также содержит набор возможных ответов\n",
    "- **If** - правило или просто синтаксический сахар для хранения содержимого правила\n",
    "- **AND/OR** - классаы для представления ветвей дерева с пометкой И/ИЛИ. Они хранят список аргументов. Для упрощения кода вся функциональность определена в родительском классе **Content**"
   ]
  },
  {
   "cell_type": "code",
   "execution_count": 7,
   "metadata": {},
   "outputs": [],
   "source": [
    "class Ask():\n",
    "    def __init__(self,choices=['y','n']):\n",
    "        self.choices = choices\n",
    "    def ask(self):\n",
    "        if max([len(x) for x in self.choices])>1:\n",
    "            for i,x in enumerate(self.choices):\n",
    "                print(\"{0}. {1}\".format(i,x))\n",
    "            x = int(input())\n",
    "            return self.choices[x]\n",
    "        else:\n",
    "            print(\"/\".join(self.choices))\n",
    "            return input()\n",
    "\n",
    "class Content():\n",
    "    def __init__(self,x):\n",
    "        self.x=x\n",
    "        \n",
    "class If(Content):\n",
    "    pass\n",
    "\n",
    "class AND(Content):\n",
    "    pass\n",
    "\n",
    "class OR(Content):\n",
    "    pass"
   ]
  },
  {
   "cell_type": "markdown",
   "metadata": {},
   "source": [
    "Правила базы знаний нашей системы можно записать как список фактов в виде пар атрибут-значение. Они представляют собой один большой словарь, который сопоставляет действия (новые факты, которые должны быть вставлены в рабочую память) с условиями, выраженными в виде выражений И-ИЛИ."
   ]
  },
  {
   "cell_type": "code",
   "execution_count": 8,
   "metadata": {},
   "outputs": [],
   "source": [
    "rules = {\n",
    "    'default': Ask(['y','n']),\n",
    "    'цвет' : Ask(['рыжевато-коричневый','чёрное с белым','другое']),\n",
    "    'узор' : Ask(['чёрные полосы','тёмные пятна']),\n",
    "    'млекопитающее': If(OR(['волосы','даёт молоко'])),\n",
    "    'хищник': If(OR([AND(['острые зубы','когти','вперед смотрящие глаза']),'ест мясо'])),\n",
    "    'копытное': If(['млекопитающее',OR(['копыта','жуёт жвачку'])]),\n",
    "    'птица': If(OR(['оперение',AND(['летает','откладывает яйца'])])),\n",
    "    'животное:обезьяна' : If(['млекопитающее','хищник','цвет:рыжевато-коричневый','узор:тёмные пятна']),\n",
    "    'животное:тигр' : If(['млекопитающее','хищник','цвет:рыжевато-коричневый','узор:чёрные полосы']),\n",
    "    'животное:жираф' : If(['копытное','длинная шея','длинные ноги','узор:тёмные пятна']),\n",
    "    'животное:зебра' : If(['копытное','узор:чёрные полосы']),\n",
    "    'животное:страус' : If(['птица','длинная шея','цвет:черное с белым','не может летать']),\n",
    "    'животное:пингвин' : If(['птица','плавает','цвет:черное с белым','не может летать']),\n",
    "    'животное:альбатрос' : If(['птица','хорошо летает'])\n",
    "}"
   ]
  },
  {
   "cell_type": "markdown",
   "metadata": {},
   "source": [
    "Конструкция в левой части (ключ словаря) - может быть либо именем атрибута (`хищник`, в этом случае подразумевается логическое значение да/нет), либо составной конструкцией вида `атрибут:значеие`, например `животное:пингвин`.\n",
    "\n",
    "Сама по себе база знаний - это словарь, а конструкции `If`, `AND`, `Ask` и др. - это синтаксические конструкции, позволяющие определить язык представления знаний.\n",
    "\n",
    "Чтобы выполнить обратный вывод, необходимо определить класс **Knowledgebase**, содержащий в себе всю логику логического вывода. Он также будет включать в себя:\n",
    "\n",
    "- **Working memory** — словарь, сопоставляющий ключи со значениями\n",
    "- **rules** - правила базы знаний в формате, определенном выше\n",
    "\n",
    "Два основных метода:\n",
    "\n",
    "**get**, чтобы получить значение ключа. Например, get('color') вернет значение цветового слота. Если мы запросим get('color:blue'), он запросит цвет, а затем вернет значение y/n (да/нет) в зависимости от цвета.\n",
    "**eval** выполняет фактический вывод, т. е. проходит по дереву И/ИЛИ, оценивает подцели и т. д.\n",
    "\n",
    "Наконец опишем рекурсивую машину обратного вывода:"
   ]
  },
  {
   "cell_type": "code",
   "execution_count": 9,
   "metadata": {},
   "outputs": [],
   "source": [
    "class KnowledgeBase():\n",
    "    def __init__(self,rules):\n",
    "        self.rules = rules\n",
    "        self.memory = {}\n",
    "        \n",
    "    def get(self,name):\n",
    "        if ':' in name:\n",
    "            k,v = name.split(':')\n",
    "            vv = self.get(k)\n",
    "            return 'y' if v==vv else 'n'\n",
    "        if name in self.memory.keys():\n",
    "            return self.memory[name]\n",
    "        for fld in self.rules.keys():\n",
    "            if fld==name or fld.startswith(name+\":\"):\n",
    "                # print(\" + proving {}\".format(fld))\n",
    "                value = 'y' if fld==name else fld.split(':')[1]\n",
    "                res = self.eval(self.rules[fld],field=name)\n",
    "                if res!='y' and res!='n' and value=='y':\n",
    "                    self.memory[name] = res\n",
    "                    return res\n",
    "                if res=='y':\n",
    "                    self.memory[name] = value\n",
    "                    return value\n",
    "        # field is not found, using default\n",
    "        res = self.eval(self.rules['default'],field=name)\n",
    "        self.memory[name]=res\n",
    "        return res\n",
    "                \n",
    "    def eval(self,expr,field=None):\n",
    "        # print(\" + eval {}\".format(expr))\n",
    "        if isinstance(expr,Ask):\n",
    "            print(field)\n",
    "            return expr.ask()\n",
    "        elif isinstance(expr,If):\n",
    "            return self.eval(expr.x)\n",
    "        elif isinstance(expr,AND) or isinstance(expr,list):\n",
    "            expr = expr.x if isinstance(expr,AND) else expr\n",
    "            for x in expr:\n",
    "                if self.eval(x)=='n':\n",
    "                    return 'n'\n",
    "            return 'y'\n",
    "        elif isinstance(expr,OR):\n",
    "            for x in expr.x:\n",
    "                if self.eval(x)=='y':\n",
    "                    return 'y'\n",
    "            return 'n'\n",
    "        elif isinstance(expr,str):\n",
    "            return self.get(expr)\n",
    "        else:\n",
    "            print(\"Unknown expr: {}\".format(expr))"
   ]
  },
  {
   "cell_type": "markdown",
   "metadata": {},
   "source": [
    "Теперь давайте проведем консультацию, определив нашу базу знаний о животных. Обратите внимание, что вам будут задавать вопросы. Вы можете ответить, набрав y/n для вопросов типа «да-нет» или указав номер (0..N) для вопросов с более длинными вариантами ответов."
   ]
  },
  {
   "cell_type": "code",
   "execution_count": 11,
   "metadata": {},
   "outputs": [
    {
     "name": "stdout",
     "output_type": "stream",
     "text": [
      "волосы\n",
      "y/n\n",
      "y\n",
      "острые зубы\n",
      "y/n\n",
      "n\n",
      "ест мясо\n",
      "y/n\n",
      "n\n",
      "хищник\n",
      "y/n\n",
      "n\n",
      "копыта\n",
      "y/n\n",
      "y\n",
      "длинная шея\n",
      "y/n\n",
      "y\n",
      "длинные ноги\n",
      "y/n\n",
      "y\n",
      "узор\n",
      "0. чёрные полосы\n",
      "1. тёмные пятна\n",
      "0\n"
     ]
    },
    {
     "data": {
      "text/plain": [
       "'зебра'"
      ]
     },
     "execution_count": 11,
     "metadata": {},
     "output_type": "execute_result"
    }
   ],
   "source": [
    "kb = KnowledgeBase(rules)\n",
    "kb.get('животное')"
   ]
  },
  {
   "cell_type": "markdown",
   "metadata": {},
   "source": [
    "### Заключение\n",
    "\n",
    "Мы привели простейщий механизм логического вывода. Вы можете попробовать усовершенствовать его, добавив вероятностные рассуждения, или реализовав смешанный логический вывод.\n",
    "\n",
    "Как видите, сама по себе реализация процесса вывода не слишком сложна (хотя, если стремиться к эффективной реализации, например реализуюя алгорит **Retè** для прямого вывода, код может существенно усложниться). Основную сложность представляет создание достаточно большой, правдоподобной и непротиворечивой **базы знаний** - в рамках учебного примера мы не можем уделилить этому достаточно внимания."
   ]
  }
 ],
 "metadata": {
  "kernelspec": {
   "display_name": "Python 3 (ipykernel)",
   "language": "python",
   "name": "python3"
  },
  "language_info": {
   "codemirror_mode": {
    "name": "ipython",
    "version": 3
   },
   "file_extension": ".py",
   "mimetype": "text/x-python",
   "name": "python",
   "nbconvert_exporter": "python",
   "pygments_lexer": "ipython3",
   "version": "3.9.12"
  },
  "vscode": {
   "interpreter": {
    "hash": "d21c24a7952cc9fa93a33c3da71b373ffe761d6ab0c9cc9b2153e31da51ffb58"
   }
  }
 },
 "nbformat": 4,
 "nbformat_minor": 2
}
