{
 "cells": [
  {
   "cell_type": "markdown",
   "metadata": {
    "collapsed": true
   },
   "source": [
    "# Генетические алгоритмы"
   ]
  },
  {
   "cell_type": "code",
   "execution_count": null,
   "metadata": {},
   "outputs": [],
   "source": [
    "import random\n",
    "import matplotlib.pyplot as plt\n",
    "import numpy as np\n",
    "import math\n",
    "import time"
   ]
  },
  {
   "cell_type": "markdown",
   "metadata": {},
   "source": [
    "## Немного теории\n",
    "\n",
    "**Генетические алгоритмы** (ГА) основаны на **эволюционном подходе** к ИИ, в котором методы эволюции используются для получения оптимального решения некоторой задачи. Они были предложены в 1975 году [Джоном Генри Холландом](https://en.wikipedia.org/wiki/John_Henry_Holland).\n",
    "\n",
    "Генетические алгоритмы основаны на следующих идеях:\n",
    "* Допустимые решения проблемы могут быть представлены в виде **генов**\n",
    "* **Скрещивание** (или **кроссинговер**) позволяет нам объединить два решения вместе, чтобы получить новое работающее решение.\n",
    "* **Отбор** используется для выбора более оптимальных решений с использованием некоторой функции приспособленности.\n",
    "* **Мутации** вводятся, чтобы дестабилизировать оптимизацию и вывести нас из локального минимума\n",
    "\n",
    "Для применения генетического алгоритма к решению задачи, необходимо:\n",
    "\n",
    " * Найти метод кодирования решения нашей задачи с использованием **генов** $g\\in\\Gamma$ - обычно геном кодируется некоторым вектором\n",
    " * На множестве генов $\\Gamma$ нужно определить **функцию приспособленности** $\\mathrm{fit}: \\Gamma\\to\\mathbb{R}$. Наименьшие\n",
    "значения функции будут соответствовать лучшим решениям.\n",
    " * Определить механизм **скрещивания** (или **кроссинговера**), который объединяет два гена и генерирует новое допустимое решение $\\mathrm{crossover}: \\Gamma^2\\to\\Gamma$.\n",
    " * Определить механизм **мутации** $\\mathrm{mutate}: \\Gamma\\to\\Gamma$.\n",
    "\n",
    "Во многих случаях скрещивание и мутации — это довольно простые алгоритмы для манипулирования генами как числовыми последовательностями или битовыми векторами.\n",
    "\n",
    "Конкретная реализация генетического алгоритма может варьироваться от случая к случаю, но общая структура выглядит следующим образом:\n",
    "\n",
    "1. Выбрать начальную популяцию $G\\subset\\Gamma$\n",
    "2. Случайным образом выбрать одну из операций, которые будут выполняться на этом шаге: скрещивание или мутация. \n",
    "  -  **Скрещивание**:\n",
    "      * Случайным образом выбрать два гена $g_1, g_2 \\in G$\n",
    "      * Вычислить скрещивание $g=\\mathrm{crossover}(g_1,g_2)$\n",
    "      * Если $\\mathrm{fit}(g)<\\mathrm{fit}(g_1)$ или $\\mathrm{fit}(g)<\\mathrm{fit}(g_2)$ - заменить соответствующий ген в популяции на $g$.\n",
    "  - **Мутация** - выбрать случайный ген $g\\in G$ и заменить его на $\\mathrm{mutate}(g)$\n",
    "3. Повторять с шага 2, пока не получим достаточно маленькое значение $\\mathrm{fit}$, или пока не будет достигнуто ограничение на количество шагов.\n",
    "\n",
    "С помощью генетических алгоритмов обычно можно решать такие задачи:\n",
    "\n",
    "1. Оптимизация расписания\n",
    "2. Оптимальная упаковка\n",
    "3. Оптимальная раскройка материалов\n",
    "4. Ускорение полного перебора\n"
   ]
  },
  {
   "cell_type": "markdown",
   "metadata": {},
   "source": [
    "## Задача 1: Разделение сокровищ по справедливости\n",
    "\n",
    "**Задание**: \n",
    "Два человека нашли клад, в котором лежат бриллианты разного размера (и, соответственно, разной цены). Им нужно разделить клад на две части так, чтобы разница в цене была равна 0 (или минимальна).\n",
    "\n",
    "**Формальное определение**: \n",
    "У нас есть набор чисел $S$. Нам нужно разделить его на два подмножества $S_1$ и $S_2$, такие, что $$\\left|\\sum_{i\\in S_1}i - \\sum_{j\\in S_2}j\\right|\\to\\min$$ и $S_1\\cup S_2=S$, $S_1\\cap S_2=\\emptyset$.\n",
    "\n",
    "Для начала, давайте определим множество $S$:"
   ]
  },
  {
   "cell_type": "code",
   "execution_count": null,
   "metadata": {},
   "outputs": [],
   "source": [
    "N = 200\n",
    "S = np.array([random.randint(1,10000) for _ in range(N)])\n",
    "print(S)"
   ]
  },
  {
   "cell_type": "markdown",
   "metadata": {},
   "source": [
    "(Если говорить строго, $S$ может не быть множеством, поскольку в нём могут повторяться элементы с одним и тем же значением. Однако, поскольку порядок элементов в кладе не очень существенен, о нем удобно думать как о множестве).\n",
    "\n",
    "Закодируем каждое возможное решение задачи бинарным вектором $B\\in\\{0,1\\}^N$, где номер на $i$-ой позиции показывает, к какому из множеств ($S_1$ или $S_2$) принадлежит $i$-й элемент изначального вектора $S$. Функция `generate` будет генерировать эти случайные двоичные векторы."
   ]
  },
  {
   "cell_type": "code",
   "execution_count": null,
   "metadata": {},
   "outputs": [],
   "source": [
    "def generate(S):\n",
    "    return np.array([random.randint(0,1) for _ in S])\n",
    "\n",
    "b = generate(S)\n",
    "print(b)"
   ]
  },
  {
   "cell_type": "markdown",
   "metadata": {},
   "source": [
    "Давайте теперь определим функцию `fit`, которая вычисляет «стоимость» решения. Это будет разница между суммой двух множеств, $S_1$ и $S_2$:"
   ]
  },
  {
   "cell_type": "code",
   "execution_count": null,
   "metadata": {},
   "outputs": [],
   "source": [
    "def fit(B,S=S):\n",
    "    c1 = (B*S).sum()\n",
    "    c2 = ((1-B)*S).sum()\n",
    "    return abs(c1-c2)\n",
    "\n",
    "fit(b)"
   ]
  },
  {
   "cell_type": "markdown",
   "metadata": {},
   "source": [
    "Теперь нам нужно определить функции для мутации и скрещивания:\n",
    "* Для мутации мы выберем один случайный бит и инвертируем его (изменим с 0 на 1 и наоборот)\n",
    "* Для скрещивания мы возьмем часть битов из одного вектора и часть битов из другого. Мы будем использовать ту же функцию `generate`, чтобы случайным образом выбирать, из какой входной маски брать биты."
   ]
  },
  {
   "cell_type": "code",
   "execution_count": null,
   "metadata": {},
   "outputs": [],
   "source": [
    "def mutate(b):\n",
    "    x = b.copy()\n",
    "    i = random.randint(0,len(b)-1)\n",
    "    x[i] = 1-x[i]\n",
    "    return x\n",
    "\n",
    "def xover(b1,b2):\n",
    "    x = generate(b1)\n",
    "    return b1*x+b2*(1-x)"
   ]
  },
  {
   "cell_type": "markdown",
   "metadata": {},
   "source": [
    "Создадим начальную популяцию решений $P$ размером `pop_size`:"
   ]
  },
  {
   "cell_type": "code",
   "execution_count": null,
   "metadata": {},
   "outputs": [],
   "source": [
    "pop_size = 30\n",
    "P = [generate(S) for _ in range(pop_size)]"
   ]
  },
  {
   "cell_type": "markdown",
   "metadata": {},
   "source": [
    "Теперь опишем основную функция запуска эволюции. `n` — количество шагов эволюции. \n",
    "\n",
    "На каждом шаге:\n",
    "* С вероятностью 30% выполняем мутацию и заменяем элемент с наихудшим значением `fit`- функции\n",
    "* С вероятностью 70% выполняем скрещивание\n",
    "\n",
    "Функция возвращает лучшее решение (ген, соответствующий лучшему решению) и историю минимальных значений фитнес-функции на каждой итерации - это позволяет отследить, насколько улучшаются решения в популяции."
   ]
  },
  {
   "cell_type": "code",
   "execution_count": null,
   "metadata": {},
   "outputs": [],
   "source": [
    "def evolve(P,S=S,n=2000):\n",
    "    res = []\n",
    "    for _ in range(n):\n",
    "        f = min([fit(b) for b in P])\n",
    "        res.append(f)\n",
    "        if f==0:\n",
    "            break\n",
    "        if random.randint(1,10)<3:\n",
    "            i = random.randint(0,len(P)-1)\n",
    "            b = mutate(P[i])\n",
    "            i = np.argmax([fit(z) for z in P])\n",
    "            P[i] = b\n",
    "        else:\n",
    "            i = random.randint(0,len(P)-1)\n",
    "            j = random.randint(0,len(P)-1)\n",
    "            b = xover(P[i],P[j])\n",
    "            if fit(b)<fit(P[i]):\n",
    "                P[i]=b\n",
    "            elif fit(b)<fit(P[j]):\n",
    "                P[j]=b\n",
    "            else:\n",
    "                pass\n",
    "    i = np.argmin([fit(b) for b in P])\n",
    "    return (P[i],res)\n",
    "\n",
    "(s,hist) = evolve(P)\n",
    "print(s,fit(s))"
   ]
  },
  {
   "cell_type": "markdown",
   "metadata": {},
   "source": [
    "Вы можете видеть, что нам удалось немного минимизировать функцию `fit`! Вот график, который показывает, как функция `fit` ведет себя во время процесса."
   ]
  },
  {
   "cell_type": "code",
   "execution_count": null,
   "metadata": {},
   "outputs": [],
   "source": [
    "plt.plot(hist)\n",
    "plt.show()"
   ]
  },
  {
   "cell_type": "markdown",
   "metadata": {},
   "source": [
    "## Задача 2: N ферзей\n",
    "\n",
    "**Задание**:\n",
    "Вам нужно расставить $N$ ферзей на шахматной доске размера $N\\times N$ так, чтобы они не атаковали друг друга.\n",
    "\n",
    "Прежде всего, решим задачу без генетических алгоритмов, используя полный перебор. Состояние доски можно представить в виде списка $L$, где $i$-е число в списке — это горизонтальное положение ферзя в $i$-м ряду. Совершенно очевидно, что в каждом решении будет только один ферзь в строке, и в каждой строке будет свой ферзь.\n",
    "\n",
    "Нашей целью будет найти первое решение задачи, после чего мы прекратим поиск. Вы можете легко расширить эту функцию, чтобы генерировать все возможные позиции для ферзей.\n",
    "\n",
    "Примерный ход решения такой:\n",
    "\n",
    "1.\tСтавим ферзя в первой строке на позицию 1\n",
    "2.\tПеребираем все позиции для ферзя в строке 2, пока он не будет поставлен так, что ферзь в строке 1 его не бьет\n",
    "3.\tПродолжаем делать то же самое с 3-ей строкой и т.д.\n",
    "4.\tЕсли мы обнаруживаем, что в какой-то момент не можем поставить ферзя – возвращаемся к предыдущей строке, и меняем положение ферзя на следующее из возможных.\n",
    "5.\tТаким образом в какой-то момент мы обнаружим, что дошли до конца доски и расставили все N ферзей так, что они не бьют друг друга.\n"
   ]
  },
  {
   "cell_type": "code",
   "execution_count": 14,
   "metadata": {},
   "outputs": [
    {
     "ename": "KeyboardInterrupt",
     "evalue": "",
     "output_type": "error",
     "traceback": [
      "\u001b[1;31m---------------------------------------------------------------------------\u001b[0m",
      "\u001b[1;31mKeyboardInterrupt\u001b[0m                         Traceback (most recent call last)",
      "Input \u001b[1;32mIn [14]\u001b[0m, in \u001b[0;36m<cell line: 24>\u001b[1;34m()\u001b[0m\n\u001b[0;32m     21\u001b[0m                 \u001b[38;5;28;01melse\u001b[39;00m: l\u001b[38;5;241m.\u001b[39mpop()\n\u001b[0;32m     22\u001b[0m         \u001b[38;5;28;01mreturn\u001b[39;00m \u001b[38;5;28;01mFalse\u001b[39;00m\n\u001b[1;32m---> 24\u001b[0m \u001b[43mnqueens\u001b[49m\u001b[43m(\u001b[49m\u001b[43m[\u001b[49m\u001b[43m]\u001b[49m\u001b[43m,\u001b[49m\u001b[38;5;241;43m30\u001b[39;49m\u001b[43m)\u001b[49m\n",
      "Input \u001b[1;32mIn [14]\u001b[0m, in \u001b[0;36mnqueens\u001b[1;34m(l, N, disp)\u001b[0m\n\u001b[0;32m     18\u001b[0m     \u001b[38;5;28;01mif\u001b[39;00m checkbeats(\u001b[38;5;28mlen\u001b[39m(l)\u001b[38;5;241m+\u001b[39m\u001b[38;5;241m1\u001b[39m,j,l):\n\u001b[0;32m     19\u001b[0m         l\u001b[38;5;241m.\u001b[39mappend(j)\n\u001b[1;32m---> 20\u001b[0m         \u001b[38;5;28;01mif\u001b[39;00m \u001b[43mnqueens\u001b[49m\u001b[43m(\u001b[49m\u001b[43ml\u001b[49m\u001b[43m,\u001b[49m\u001b[43mN\u001b[49m\u001b[43m,\u001b[49m\u001b[43mdisp\u001b[49m\u001b[43m)\u001b[49m: \u001b[38;5;28;01mreturn\u001b[39;00m \u001b[38;5;28;01mTrue\u001b[39;00m\n\u001b[0;32m     21\u001b[0m         \u001b[38;5;28;01melse\u001b[39;00m: l\u001b[38;5;241m.\u001b[39mpop()\n\u001b[0;32m     22\u001b[0m \u001b[38;5;28;01mreturn\u001b[39;00m \u001b[38;5;28;01mFalse\u001b[39;00m\n",
      "Input \u001b[1;32mIn [14]\u001b[0m, in \u001b[0;36mnqueens\u001b[1;34m(l, N, disp)\u001b[0m\n\u001b[0;32m     18\u001b[0m     \u001b[38;5;28;01mif\u001b[39;00m checkbeats(\u001b[38;5;28mlen\u001b[39m(l)\u001b[38;5;241m+\u001b[39m\u001b[38;5;241m1\u001b[39m,j,l):\n\u001b[0;32m     19\u001b[0m         l\u001b[38;5;241m.\u001b[39mappend(j)\n\u001b[1;32m---> 20\u001b[0m         \u001b[38;5;28;01mif\u001b[39;00m \u001b[43mnqueens\u001b[49m\u001b[43m(\u001b[49m\u001b[43ml\u001b[49m\u001b[43m,\u001b[49m\u001b[43mN\u001b[49m\u001b[43m,\u001b[49m\u001b[43mdisp\u001b[49m\u001b[43m)\u001b[49m: \u001b[38;5;28;01mreturn\u001b[39;00m \u001b[38;5;28;01mTrue\u001b[39;00m\n\u001b[0;32m     21\u001b[0m         \u001b[38;5;28;01melse\u001b[39;00m: l\u001b[38;5;241m.\u001b[39mpop()\n\u001b[0;32m     22\u001b[0m \u001b[38;5;28;01mreturn\u001b[39;00m \u001b[38;5;28;01mFalse\u001b[39;00m\n",
      "    \u001b[1;31m[... skipping similar frames: nqueens at line 20 (13 times)]\u001b[0m\n",
      "Input \u001b[1;32mIn [14]\u001b[0m, in \u001b[0;36mnqueens\u001b[1;34m(l, N, disp)\u001b[0m\n\u001b[0;32m     18\u001b[0m     \u001b[38;5;28;01mif\u001b[39;00m checkbeats(\u001b[38;5;28mlen\u001b[39m(l)\u001b[38;5;241m+\u001b[39m\u001b[38;5;241m1\u001b[39m,j,l):\n\u001b[0;32m     19\u001b[0m         l\u001b[38;5;241m.\u001b[39mappend(j)\n\u001b[1;32m---> 20\u001b[0m         \u001b[38;5;28;01mif\u001b[39;00m \u001b[43mnqueens\u001b[49m\u001b[43m(\u001b[49m\u001b[43ml\u001b[49m\u001b[43m,\u001b[49m\u001b[43mN\u001b[49m\u001b[43m,\u001b[49m\u001b[43mdisp\u001b[49m\u001b[43m)\u001b[49m: \u001b[38;5;28;01mreturn\u001b[39;00m \u001b[38;5;28;01mTrue\u001b[39;00m\n\u001b[0;32m     21\u001b[0m         \u001b[38;5;28;01melse\u001b[39;00m: l\u001b[38;5;241m.\u001b[39mpop()\n\u001b[0;32m     22\u001b[0m \u001b[38;5;28;01mreturn\u001b[39;00m \u001b[38;5;28;01mFalse\u001b[39;00m\n",
      "Input \u001b[1;32mIn [14]\u001b[0m, in \u001b[0;36mnqueens\u001b[1;34m(l, N, disp)\u001b[0m\n\u001b[0;32m     16\u001b[0m \u001b[38;5;28;01melse\u001b[39;00m:\n\u001b[0;32m     17\u001b[0m     \u001b[38;5;28;01mfor\u001b[39;00m j \u001b[38;5;129;01min\u001b[39;00m \u001b[38;5;28mrange\u001b[39m(\u001b[38;5;241m1\u001b[39m,N\u001b[38;5;241m+\u001b[39m\u001b[38;5;241m1\u001b[39m):\n\u001b[1;32m---> 18\u001b[0m         \u001b[38;5;28;01mif\u001b[39;00m \u001b[43mcheckbeats\u001b[49m(\u001b[38;5;28mlen\u001b[39m(l)\u001b[38;5;241m+\u001b[39m\u001b[38;5;241m1\u001b[39m,j,l):\n\u001b[0;32m     19\u001b[0m             l\u001b[38;5;241m.\u001b[39mappend(j)\n\u001b[0;32m     20\u001b[0m             \u001b[38;5;28;01mif\u001b[39;00m nqueens(l,N,disp): \u001b[38;5;28;01mreturn\u001b[39;00m \u001b[38;5;28;01mTrue\u001b[39;00m\n",
      "\u001b[1;31mKeyboardInterrupt\u001b[0m: "
     ]
    }
   ],
   "source": [
    "N = 8\n",
    "\n",
    "def checkbeats(i_new,j_new,l):\n",
    "    for i,j in enumerate(l,start=1):\n",
    "        if j==j_new:\n",
    "            return False\n",
    "        else:\n",
    "            if abs(j-j_new) == i_new-i:\n",
    "                return False\n",
    "    return True\n",
    "\n",
    "def nqueens(l,N=8,disp=True):\n",
    "    if len(l)==N:\n",
    "        if disp: print(l)\n",
    "        return True\n",
    "    else:\n",
    "        for j in range(1,N+1):\n",
    "            if checkbeats(len(l)+1,j,l):\n",
    "                l.append(j)\n",
    "                if nqueens(l,N,disp): return True\n",
    "                else: l.pop()\n",
    "        return False\n",
    "            \n",
    "nqueens([],30)\n"
   ]
  },
  {
   "cell_type": "markdown",
   "metadata": {},
   "source": [
    "Теперь давайте измерим, сколько времени потребуется, чтобы получить решение задачи с 20 ферзями:"
   ]
  },
  {
   "cell_type": "code",
   "execution_count": 15,
   "metadata": {},
   "outputs": [
    {
     "name": "stdout",
     "output_type": "stream",
     "text": [
      "6.32 s ± 328 ms per loop (mean ± std. dev. of 7 runs, 1 loop each)\n"
     ]
    }
   ],
   "source": [
    "%timeit nqueens([],20,False)"
   ]
  },
  {
   "cell_type": "markdown",
   "metadata": {},
   "source": [
    "Теперь решим ту же задачу с помощью генетического алгоритма. Это решение вдохновлено [этим сообщением в блоге](https://kushalvyas.github.io/gen_8Q.html).\n",
    "\n",
    "Каждое решение будем представлять списком длины $N$, а в качестве фитнес-функции возьмем количество атакующих друг друга ферзей:"
   ]
  },
  {
   "cell_type": "code",
   "execution_count": 16,
   "metadata": {},
   "outputs": [],
   "source": [
    "def fit(L):\n",
    "    x=0\n",
    "    for i1,j1 in enumerate(L,1):\n",
    "        for i2,j2 in enumerate(L,1):\n",
    "            if i2>i1:\n",
    "                if j2==j1 or (abs(j2-j1)==i2-i1): x+=1\n",
    "    return x"
   ]
  },
  {
   "cell_type": "markdown",
   "metadata": {},
   "source": [
    "Поскольку вычисление функции приспособленности занимает много времени, давайте будем хранить каждое решение в популяции вместе со значением фитнес-функции. Сгенерируем начальную популяцию:"
   ]
  },
  {
   "cell_type": "code",
   "execution_count": 17,
   "metadata": {},
   "outputs": [
    {
     "data": {
      "text/plain": [
       "[(array([2, 5, 4, 8, 1, 6, 3, 7]), 4),\n",
       " (array([7, 5, 1, 3, 4, 6, 8, 2]), 2),\n",
       " (array([3, 7, 5, 8, 6, 4, 1, 2]), 4),\n",
       " (array([6, 1, 5, 2, 8, 3, 4, 7]), 2),\n",
       " (array([4, 1, 5, 8, 7, 2, 6, 3]), 4)]"
      ]
     },
     "execution_count": 17,
     "metadata": {},
     "output_type": "execute_result"
    }
   ],
   "source": [
    "def generate_one(N):\n",
    "    x = np.arange(1,N+1)\n",
    "    np.random.shuffle(x)\n",
    "    return (x,fit(x))\n",
    "\n",
    "def generate(N,NP):\n",
    "    return [generate_one(N) for _ in range(NP)]\n",
    "\n",
    "generate(8,5)"
   ]
  },
  {
   "cell_type": "markdown",
   "metadata": {},
   "source": [
    "Теперь нам нужно определить функции мутации и кроссинговера (скрещивания). Кроссинговер объединил бы два гена вместе, разбив их в какой-то случайной точке и соединив вместе две части из разных генов."
   ]
  },
  {
   "cell_type": "code",
   "execution_count": 23,
   "metadata": {},
   "outputs": [
    {
     "data": {
      "text/plain": [
       "array([1, 2, 3, 8])"
      ]
     },
     "execution_count": 23,
     "metadata": {},
     "output_type": "execute_result"
    }
   ],
   "source": [
    "def mutate(G):\n",
    "    x=random.randint(0,len(G)-1)\n",
    "    G[x]=random.randint(1,len(G))\n",
    "    return G\n",
    "    \n",
    "def xover(G1,G2):\n",
    "    x=random.randint(0,len(G1))\n",
    "    return np.concatenate((G1[:x],G2[x:]))\n",
    "\n",
    "xover([1,2,3,4],[5,6,7,8])"
   ]
  },
  {
   "cell_type": "markdown",
   "metadata": {},
   "source": [
    "Мы улучшим процесс отбора генов, отбирая больше генов с лучшей функцией приспособленности:"
   ]
  },
  {
   "cell_type": "code",
   "execution_count": 25,
   "metadata": {},
   "outputs": [],
   "source": [
    "def choose_rand(P):\n",
    "    N=len(P[0][0])\n",
    "    mf = N*(N-1)//2 # max fitness fn\n",
    "    z = [mf-x[1] for x in P]\n",
    "    tf = sum(z) # total fitness\n",
    "    w = [x/tf for x in z]\n",
    "    p = np.random.choice(len(P),2,False,p=w)\n",
    "    return p[0],p[1]\n",
    "\n",
    "def choose(P):\n",
    "    def ch(w):\n",
    "        p=[]\n",
    "        while p==[]:\n",
    "            r = random.random()\n",
    "            p = [i for i,x in enumerate(P) if x[1]>=r]\n",
    "        return random.choice(p)\n",
    "    N=len(P[0][0])\n",
    "    mf = N*(N-1)//2 # max fitness fn\n",
    "    z = [mf-x[1] for x in P]\n",
    "    tf = sum(z) # total fitness\n",
    "    w = [x/tf for x in z]\n",
    "    p1=p2=0\n",
    "    while p1==p2:\n",
    "        p1 = ch(w)\n",
    "        p2 = ch(w)\n",
    "    return p1,p2"
   ]
  },
  {
   "cell_type": "markdown",
   "metadata": {},
   "source": [
    "Теперь давайте определим основной эволюционный цикл. Мы сделаем логику немного отличающейся от предыдущего примера - в генетических алгоритмах возможно применять творческий подход.\n",
    "\n",
    "Цикл будет повторяться, пока мы не получим идеальное решение (функция приспособленности = 0). На каждом шаге мы будем брать текущую популяцию и создавать новое поколение того же размера. Это делается с помощью функции `nxgeneration`, используя следующие шаги:\n",
    "\n",
    "1. Отбросить самые неподходящие решения - для этого есть функция `discard_unfit`\n",
    "1. Добавить в генерацию несколько случайных решений (дополнительный аналог мутации)\n",
    "1. Заполнить новое поколение размером `gen_size`, используя следующие шаги для каждого нового гена:\n",
    "     - выбрать два случайных гена с вероятностью, пропорциональной фитнес-функции\n",
    "     - рассчитать кроссинговер\n",
    "     - применить мутацию с вероятностью `mutation_prob`"
   ]
  },
  {
   "cell_type": "code",
   "execution_count": 27,
   "metadata": {},
   "outputs": [
    {
     "data": {
      "text/plain": [
       "(array([3, 6, 2, 7, 5, 1, 8, 4]), 0)"
      ]
     },
     "execution_count": 27,
     "metadata": {},
     "output_type": "execute_result"
    }
   ],
   "source": [
    "mutation_prob = 0.1\n",
    "\n",
    "def discard_unfit(P):\n",
    "    P.sort(key=lambda x:x[1])\n",
    "    return P[:len(P)//3]\n",
    "\n",
    "def nxgeneration(P):\n",
    "    gen_size=len(P)\n",
    "    P = discard_unfit(P)\n",
    "    P.extend(generate(len(P[0][0]),3))\n",
    "    new_gen = []\n",
    "    for _ in range(gen_size):\n",
    "        p1,p2 = choose_rand(P)\n",
    "        n = xover(P[p1][0],P[p2][0])\n",
    "        if random.random()<mutation_prob:\n",
    "            n=mutate(n)\n",
    "        nf = fit(n)\n",
    "        new_gen.append((n,nf))\n",
    "        '''\n",
    "        if (nf<=P[p1][1]) or (nf<=P[p2][1]):\n",
    "            new_gen.append((n,nf))\n",
    "        elif (P[p1][1]<P[p2][1]):\n",
    "            new_gen.append(P[p1])\n",
    "        else:\n",
    "            new_gen.append(P[p2])\n",
    "        '''\n",
    "    return new_gen\n",
    "    \n",
    "def genetic(N,pop_size=100):\n",
    "    P = generate(N,pop_size)\n",
    "    mf = min([x[1] for x in P])\n",
    "    n=0\n",
    "    while mf>0:\n",
    "        #print(\"Generation {0}, fit={1}\".format(n,mf))\n",
    "        n+=1\n",
    "        mf = min([x[1] for x in P])\n",
    "        P = nxgeneration(P)\n",
    "    mi = np.argmin([x[1] for x in P])\n",
    "    return P[mi]\n",
    "\n",
    "genetic(8)"
   ]
  },
  {
   "cell_type": "markdown",
   "metadata": {},
   "source": [
    "Интересно, что в большинстве случаев нам удается получить решение довольно быстро, но в некоторых редких случаях оптимизация достигает локального минимума, и процесс зависает надолго. Это важно учитывать при измерении среднего времени: хотя в большинстве случаев генетический алгоритм будет быстрее, чем полный поиск, в некоторых случаях его использование может занять больше времени. Чтобы преодолеть эту проблему, можно ограничить количество рассматриваемых поколений, и если решение не находится - перегенерировать популяцию."
   ]
  },
  {
   "cell_type": "code",
   "execution_count": 28,
   "metadata": {},
   "outputs": [
    {
     "name": "stdout",
     "output_type": "stream",
     "text": [
      "The slowest run took 146.08 times longer than the fastest. This could mean that an intermediate result is being cached.\n",
      "10.4 s ± 12 s per loop (mean ± std. dev. of 7 runs, 1 loop each)\n"
     ]
    }
   ],
   "source": [
    "%timeit genetic(10)"
   ]
  }
 ],
 "metadata": {
  "kernelspec": {
   "display_name": "Python 3 (ipykernel)",
   "language": "python",
   "name": "python3"
  },
  "language_info": {
   "codemirror_mode": {
    "name": "ipython",
    "version": 3
   },
   "file_extension": ".py",
   "mimetype": "text/x-python",
   "name": "python",
   "nbconvert_exporter": "python",
   "pygments_lexer": "ipython3",
   "version": "3.9.12"
  },
  "vscode": {
   "interpreter": {
    "hash": "31f2aee4e71d21fbe5cf8b01ff0e069b9275f58929596ceb00d14d90e3e16cd6"
   }
  }
 },
 "nbformat": 4,
 "nbformat_minor": 2
}
